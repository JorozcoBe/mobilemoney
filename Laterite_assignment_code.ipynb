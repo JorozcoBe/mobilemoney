{
  "nbformat": 4,
  "nbformat_minor": 0,
  "metadata": {
    "colab": {
      "name": "Laterite assignment code.ipynb",
      "provenance": []
    },
    "kernelspec": {
      "name": "python3",
      "display_name": "Python 3"
    },
    "language_info": {
      "name": "python"
    }
  },
  "cells": [
    {
      "cell_type": "code",
      "metadata": {
        "colab": {
          "base_uri": "https://localhost:8080/"
        },
        "id": "l5i8NcPcPFpR",
        "outputId": "76100aab-87e6-4c00-b8c2-4f11fa301159"
      },
      "source": [
        "from google.colab import drive \n",
        "drive.mount('/content/drive')"
      ],
      "execution_count": null,
      "outputs": [
        {
          "output_type": "stream",
          "text": [
            "Drive already mounted at /content/drive; to attempt to forcibly remount, call drive.mount(\"/content/drive\", force_remount=True).\n"
          ],
          "name": "stdout"
        }
      ]
    },
    {
      "cell_type": "code",
      "metadata": {
        "colab": {
          "base_uri": "https://localhost:8080/"
        },
        "id": "DXoD4L88QplC",
        "outputId": "e735ca85-e0c1-4e2c-a304-ebda230b5e70"
      },
      "source": [
        "import pandas as pd\n",
        "import numpy as np\n",
        "import matplotlib.pyplot as plt \n",
        "import seaborn as sns\n",
        "from sklearn import metrics\n",
        "from sklearn.model_selection import train_test_split\n",
        "from sklearn.metrics import classification_report, confusion_matrix, accuracy_score, roc_auc_score, roc_curve, recall_score\n",
        "from sklearn.model_selection import GridSearchCV, RepeatedStratifiedKFold, RandomizedSearchCV, cross_val_score\n",
        "from sklearn.discriminant_analysis import LinearDiscriminantAnalysis, QuadraticDiscriminantAnalysis\n",
        "from sklearn.neighbors import KNeighborsClassifier\n",
        "from sklearn.tree import DecisionTreeClassifier\n",
        "import xgboost as xgb\n",
        "from xgboost import XGBClassifier\n",
        "from sklearn.linear_model import LogisticRegression\n",
        "from sklearn.naive_bayes import GaussianNB\n",
        "from sklearn.svm import SVC \n",
        "from sklearn.ensemble import RandomForestClassifier,VotingClassifier\n",
        "from imblearn.under_sampling import RandomUnderSampler\n",
        "from imblearn.over_sampling import RandomOverSampler, SMOTE\n",
        "from collections import Counter\n",
        "from pprint import pprint\n",
        "from scipy import stats\n",
        "from sklearn.preprocessing import StandardScaler"
      ],
      "execution_count": 1,
      "outputs": [
        {
          "output_type": "stream",
          "text": [
            "/usr/local/lib/python3.7/dist-packages/sklearn/externals/six.py:31: FutureWarning: The module is deprecated in version 0.21 and will be removed in version 0.23 since we've dropped support for Python 2.7. Please rely on the official version of six (https://pypi.org/project/six/).\n",
            "  \"(https://pypi.org/project/six/).\", FutureWarning)\n",
            "/usr/local/lib/python3.7/dist-packages/sklearn/utils/deprecation.py:144: FutureWarning: The sklearn.neighbors.base module is  deprecated in version 0.22 and will be removed in version 0.24. The corresponding classes / functions should instead be imported from sklearn.neighbors. Anything that cannot be imported from sklearn.neighbors is now part of the private API.\n",
            "  warnings.warn(message, FutureWarning)\n"
          ],
          "name": "stderr"
        }
      ]
    },
    {
      "cell_type": "code",
      "metadata": {
        "id": "yh6Sfo5KQpwS"
      },
      "source": [
        "df = pd.read_csv(\"/content/drive/MyDrive/laterite_mobilemoney_data.csv\")"
      ],
      "execution_count": 2,
      "outputs": []
    },
    {
      "cell_type": "code",
      "metadata": {
        "colab": {
          "base_uri": "https://localhost:8080/",
          "height": 463
        },
        "id": "7EV-0pY0Qpzj",
        "outputId": "8496b000-217a-43c3-a55d-fa52c7e6a2b7"
      },
      "source": [
        "df.head()"
      ],
      "execution_count": 3,
      "outputs": [
        {
          "output_type": "execute_result",
          "data": {
            "text/html": [
              "<div>\n",
              "<style scoped>\n",
              "    .dataframe tbody tr th:only-of-type {\n",
              "        vertical-align: middle;\n",
              "    }\n",
              "\n",
              "    .dataframe tbody tr th {\n",
              "        vertical-align: top;\n",
              "    }\n",
              "\n",
              "    .dataframe thead th {\n",
              "        text-align: right;\n",
              "    }\n",
              "</style>\n",
              "<table border=\"1\" class=\"dataframe\">\n",
              "  <thead>\n",
              "    <tr style=\"text-align: right;\">\n",
              "      <th></th>\n",
              "      <th>start_time</th>\n",
              "      <th>end_time</th>\n",
              "      <th>hhid</th>\n",
              "      <th>account_num</th>\n",
              "      <th>account_type</th>\n",
              "      <th>weight</th>\n",
              "      <th>district</th>\n",
              "      <th>urban</th>\n",
              "      <th>gender</th>\n",
              "      <th>age</th>\n",
              "      <th>hh_members</th>\n",
              "      <th>highest_grade_completed</th>\n",
              "      <th>mm_account_cancelled</th>\n",
              "      <th>prefer_cash</th>\n",
              "      <th>mm_trust</th>\n",
              "      <th>mm_account_telco</th>\n",
              "      <th>mm_account_telco_main</th>\n",
              "      <th>v234</th>\n",
              "      <th>agent_trust</th>\n",
              "      <th>v236</th>\n",
              "      <th>v237</th>\n",
              "      <th>v238</th>\n",
              "      <th>v240</th>\n",
              "      <th>v241</th>\n",
              "      <th>v242</th>\n",
              "      <th>v243</th>\n",
              "      <th>v244</th>\n",
              "      <th>v245</th>\n",
              "      <th>v246</th>\n",
              "    </tr>\n",
              "  </thead>\n",
              "  <tbody>\n",
              "    <tr>\n",
              "      <th>0</th>\n",
              "      <td>Oct 28, 2019 9:05:08 AM</td>\n",
              "      <td>Oct 28, 2019 10:38:45 AM</td>\n",
              "      <td>1001</td>\n",
              "      <td>1</td>\n",
              "      <td>Mobile Money</td>\n",
              "      <td>145.94444</td>\n",
              "      <td>District_A</td>\n",
              "      <td>Urban</td>\n",
              "      <td>male</td>\n",
              "      <td>32</td>\n",
              "      <td>1</td>\n",
              "      <td>primary 6</td>\n",
              "      <td>no</td>\n",
              "      <td>yes</td>\n",
              "      <td>no</td>\n",
              "      <td>Company_A Company_B</td>\n",
              "      <td>Company_A</td>\n",
              "      <td>yes</td>\n",
              "      <td>no</td>\n",
              "      <td>NaN</td>\n",
              "      <td>yes</td>\n",
              "      <td>yes</td>\n",
              "      <td>no</td>\n",
              "      <td>yes</td>\n",
              "      <td>no</td>\n",
              "      <td>yes</td>\n",
              "      <td>NaN</td>\n",
              "      <td>yes</td>\n",
              "      <td>no</td>\n",
              "    </tr>\n",
              "    <tr>\n",
              "      <th>1</th>\n",
              "      <td>Oct 28, 2019 10:42:17 AM</td>\n",
              "      <td>Oct 28, 2019 11:43:25 AM</td>\n",
              "      <td>1001</td>\n",
              "      <td>2</td>\n",
              "      <td>Bank Account</td>\n",
              "      <td>145.94444</td>\n",
              "      <td>District_A</td>\n",
              "      <td>Urban</td>\n",
              "      <td>male</td>\n",
              "      <td>32</td>\n",
              "      <td>1</td>\n",
              "      <td>primary 6</td>\n",
              "      <td>no</td>\n",
              "      <td>yes</td>\n",
              "      <td>no</td>\n",
              "      <td>Company_A Company_B</td>\n",
              "      <td>Company_A</td>\n",
              "      <td>yes</td>\n",
              "      <td>no</td>\n",
              "      <td>NaN</td>\n",
              "      <td>yes</td>\n",
              "      <td>yes</td>\n",
              "      <td>no</td>\n",
              "      <td>yes</td>\n",
              "      <td>no</td>\n",
              "      <td>yes</td>\n",
              "      <td>NaN</td>\n",
              "      <td>yes</td>\n",
              "      <td>no</td>\n",
              "    </tr>\n",
              "    <tr>\n",
              "      <th>2</th>\n",
              "      <td>Oct 28, 2019 11:47:47 AM</td>\n",
              "      <td>Oct 28, 2019 12:53:31 PM</td>\n",
              "      <td>1001</td>\n",
              "      <td>3</td>\n",
              "      <td>VSLA Account</td>\n",
              "      <td>145.94444</td>\n",
              "      <td>District_A</td>\n",
              "      <td>Urban</td>\n",
              "      <td>male</td>\n",
              "      <td>32</td>\n",
              "      <td>1</td>\n",
              "      <td>primary 6</td>\n",
              "      <td>no</td>\n",
              "      <td>yes</td>\n",
              "      <td>no</td>\n",
              "      <td>Company_A Company_B</td>\n",
              "      <td>Company_A</td>\n",
              "      <td>yes</td>\n",
              "      <td>no</td>\n",
              "      <td>NaN</td>\n",
              "      <td>yes</td>\n",
              "      <td>yes</td>\n",
              "      <td>no</td>\n",
              "      <td>yes</td>\n",
              "      <td>no</td>\n",
              "      <td>yes</td>\n",
              "      <td>NaN</td>\n",
              "      <td>yes</td>\n",
              "      <td>no</td>\n",
              "    </tr>\n",
              "    <tr>\n",
              "      <th>3</th>\n",
              "      <td>Oct 28, 2019 1:02:33 PM</td>\n",
              "      <td>Oct 28, 2019 1:56:43 PM</td>\n",
              "      <td>1002</td>\n",
              "      <td>1</td>\n",
              "      <td>SACCO Account</td>\n",
              "      <td>122.90667</td>\n",
              "      <td>District_B</td>\n",
              "      <td>Rural</td>\n",
              "      <td>male</td>\n",
              "      <td>32</td>\n",
              "      <td>4</td>\n",
              "      <td>primary 3</td>\n",
              "      <td>yes</td>\n",
              "      <td>yes</td>\n",
              "      <td>no</td>\n",
              "      <td>NaN</td>\n",
              "      <td>NaN</td>\n",
              "      <td>NaN</td>\n",
              "      <td>no</td>\n",
              "      <td>NaN</td>\n",
              "      <td>yes</td>\n",
              "      <td>yes</td>\n",
              "      <td>yes</td>\n",
              "      <td>no</td>\n",
              "      <td>no</td>\n",
              "      <td>no</td>\n",
              "      <td>NaN</td>\n",
              "      <td>no</td>\n",
              "      <td>no</td>\n",
              "    </tr>\n",
              "    <tr>\n",
              "      <th>4</th>\n",
              "      <td>Oct 28, 2019 2:01:04 PM</td>\n",
              "      <td>Oct 28, 2019 2:58:34 PM</td>\n",
              "      <td>1002</td>\n",
              "      <td>2</td>\n",
              "      <td>VSLA Account</td>\n",
              "      <td>122.90667</td>\n",
              "      <td>District_B</td>\n",
              "      <td>Rural</td>\n",
              "      <td>male</td>\n",
              "      <td>32</td>\n",
              "      <td>4</td>\n",
              "      <td>primary 3</td>\n",
              "      <td>yes</td>\n",
              "      <td>yes</td>\n",
              "      <td>no</td>\n",
              "      <td>NaN</td>\n",
              "      <td>NaN</td>\n",
              "      <td>NaN</td>\n",
              "      <td>no</td>\n",
              "      <td>NaN</td>\n",
              "      <td>yes</td>\n",
              "      <td>yes</td>\n",
              "      <td>yes</td>\n",
              "      <td>no</td>\n",
              "      <td>no</td>\n",
              "      <td>no</td>\n",
              "      <td>NaN</td>\n",
              "      <td>no</td>\n",
              "      <td>no</td>\n",
              "    </tr>\n",
              "  </tbody>\n",
              "</table>\n",
              "</div>"
            ],
            "text/plain": [
              "                 start_time                  end_time  hhid  ...  v244 v245  v246\n",
              "0   Oct 28, 2019 9:05:08 AM  Oct 28, 2019 10:38:45 AM  1001  ...   NaN  yes    no\n",
              "1  Oct 28, 2019 10:42:17 AM  Oct 28, 2019 11:43:25 AM  1001  ...   NaN  yes    no\n",
              "2  Oct 28, 2019 11:47:47 AM  Oct 28, 2019 12:53:31 PM  1001  ...   NaN  yes    no\n",
              "3   Oct 28, 2019 1:02:33 PM   Oct 28, 2019 1:56:43 PM  1002  ...   NaN   no    no\n",
              "4   Oct 28, 2019 2:01:04 PM   Oct 28, 2019 2:58:34 PM  1002  ...   NaN   no    no\n",
              "\n",
              "[5 rows x 29 columns]"
            ]
          },
          "metadata": {
            "tags": []
          },
          "execution_count": 3
        }
      ]
    },
    {
      "cell_type": "markdown",
      "metadata": {
        "id": "nJ8I2s6M2oh1"
      },
      "source": [
        "For **Question 1**, we may want to see display how many products a single ID has. For doing so, we use the function below."
      ]
    },
    {
      "cell_type": "code",
      "metadata": {
        "colab": {
          "base_uri": "https://localhost:8080/"
        },
        "id": "DMqnQYfAHtuA",
        "outputId": "a9e31c6e-c298-4e42-b2a8-ff24e65054da"
      },
      "source": [
        "df1 = df.groupby(\"hhid\")[\"account_type\"].value_counts()"
      ],
      "execution_count": 13,
      "outputs": [
        {
          "output_type": "execute_result",
          "data": {
            "text/plain": [
              "hhid  account_type \n",
              "1001  Bank Account     1\n",
              "      Mobile Money     1\n",
              "      VSLA Account     1\n",
              "1002  SACCO Account    1\n",
              "      VSLA Account     1\n",
              "                      ..\n",
              "2204  VSLA Account     1\n",
              "2205  Bank Account     1\n",
              "      Mobile Money     1\n",
              "      SACCO Account    1\n",
              "      VSLA Account     1\n",
              "Name: account_type, Length: 2442, dtype: int64"
            ]
          },
          "metadata": {
            "tags": []
          },
          "execution_count": 13
        }
      ]
    },
    {
      "cell_type": "markdown",
      "metadata": {
        "id": "TRU1vlGt4yjZ"
      },
      "source": [
        "For **Question 2**, I created two dummy variables for each ID: ***Financially excluded*** and ***Digital inclusion***. Both can be seen as boolean expresions but for predicting purposes I rather prefer to transform them into integers so we can later on do some ML predictions"
      ]
    },
    {
      "cell_type": "code",
      "metadata": {
        "id": "T5JIEvoc44GP"
      },
      "source": [
        "#df['Dropout'] = ((df.Grade_2012 != \"Not in class\") & (df.Grade_2013 == \"Not in class\")).map({True: 1, False: 0})\n",
        "df[\"financially_excluded\"] = (df.account_type !=\"None\") & (df.account_type == \"Mobile Money\") & (df.account_type ==\"VSLA Account\") & (df.account_type == \"SACCO Account\") & (df.account_type == \"Bank Account\") & (df.account_type ==\"Online Bank Account\")"
      ],
      "execution_count": 10,
      "outputs": []
    },
    {
      "cell_type": "code",
      "metadata": {
        "id": "iKcncaw79rhf"
      },
      "source": [
        "df[\"financially_excluded\"] = df[\"financially_excluded\"].map({True:1, False:0})"
      ],
      "execution_count": 11,
      "outputs": []
    },
    {
      "cell_type": "code",
      "metadata": {
        "id": "y0eQ62Ja-VGY"
      },
      "source": [
        "#Digital financial inclusion \n",
        "df[\"digital_inclusion\"] = (df.account_type == \"Mobile Money\") | (df.account_type == \"Online Bank Account\") & (df.account_type != \"None\") & (df.account_type != \"VSLA Account\") & (df.account_type != \"SACCO Account\") & (df.account_type != \"Bank Account\")"
      ],
      "execution_count": 12,
      "outputs": []
    },
    {
      "cell_type": "code",
      "metadata": {
        "id": "1TH99jmtAQYG"
      },
      "source": [
        "df[\"digital_inclusion\"] = df[\"digital_inclusion\"].map({True:1, False:0})"
      ],
      "execution_count": 13,
      "outputs": []
    },
    {
      "cell_type": "markdown",
      "metadata": {
        "id": "u8rPYKzH5s7W"
      },
      "source": [
        "I also consider that from now on, its important to do some EDA so we can have an intuition of which variables may be correlated to the dependant variable, **which is how likely clients will cancel their mobile money account (mm_account_cancelled)**."
      ]
    },
    {
      "cell_type": "markdown",
      "metadata": {
        "id": "k_vR1eiT6eyb"
      },
      "source": [
        "So as we can see, Mobile Money shares is 33%, so it is the most popular among the remaining. Slightly, VSLA Account also counts for 28% of the share. So from this perspective, not that the Mobile Money will remain the majority of preference among clients. So first off, worth it to explore which target prefer VSLA Account, how they ended up adquiring this product. So far, VSLA Account is the traditional product among the sample of this study, which is majority rural. From Question 1 descriptive, we have seen that clients can have both products. From a microfinance perspective, it is ok to increase the number of products among customers, but mobile money operators only require a mobile and internet to operate, so worth it the make it the preferred one among the clients. "
      ]
    },
    {
      "cell_type": "code",
      "metadata": {
        "colab": {
          "base_uri": "https://localhost:8080/"
        },
        "id": "5RFjPAHYMqaG",
        "outputId": "385f94f4-1e09-484a-c236-24edaf1a6be4"
      },
      "source": [
        "df.account_type.value_counts(normalize = True)"
      ],
      "execution_count": 15,
      "outputs": [
        {
          "output_type": "execute_result",
          "data": {
            "text/plain": [
              "Mobile Money           0.338657\n",
              "VSLA Account           0.278460\n",
              "SACCO Account          0.191646\n",
              "Bank Account           0.132269\n",
              "None                   0.054054\n",
              "Online Bank Account    0.004914\n",
              "Name: account_type, dtype: float64"
            ]
          },
          "metadata": {
            "tags": []
          },
          "execution_count": 15
        }
      ]
    },
    {
      "cell_type": "markdown",
      "metadata": {
        "id": "Mv45xqCBB0_y"
      },
      "source": [
        "**Question 3. **"
      ]
    },
    {
      "cell_type": "markdown",
      "metadata": {
        "id": "WQIGTrqf9fee"
      },
      "source": [
        "As we can see in the descriptive below, Commpany_A and Company_B are the ones that customers prefer to have a mobile money account. So we can do the following actions: stick to Company A and B for promotions and that way increase share, or seeing Company C as a potential brand that need to fuel some promotions and advertising so they can increase market share. "
      ]
    },
    {
      "cell_type": "code",
      "metadata": {
        "colab": {
          "base_uri": "https://localhost:8080/"
        },
        "id": "1VENzPG4BJJP",
        "outputId": "c020c11e-feaa-4463-e4a8-0edeabdbb400"
      },
      "source": [
        "#Cross tab by company vs mobile money account\n",
        "df.mm_account_telco.value_counts(normalize= True)"
      ],
      "execution_count": 16,
      "outputs": [
        {
          "output_type": "execute_result",
          "data": {
            "text/plain": [
              "Company_A Company_B              0.426680\n",
              "Company_A                        0.270876\n",
              "Company_B                        0.204175\n",
              "Company_A Company_B Company_C    0.034114\n",
              "Company_A Company_C              0.028004\n",
              "Company_B Company_C              0.022912\n",
              "Company_C                        0.013238\n",
              "Name: mm_account_telco, dtype: float64"
            ]
          },
          "metadata": {
            "tags": []
          },
          "execution_count": 16
        }
      ]
    },
    {
      "cell_type": "markdown",
      "metadata": {
        "id": "eoeNxIvR-x8l"
      },
      "source": [
        "Likewise, Company A and B are more prone to have clients that are digital oriented in terms of banking."
      ]
    },
    {
      "cell_type": "code",
      "metadata": {
        "colab": {
          "base_uri": "https://localhost:8080/",
          "height": 297
        },
        "id": "6ETHyR4ANiMl",
        "outputId": "c60a03be-4286-436a-b23a-31bb0cb868c9"
      },
      "source": [
        "sns.countplot(x=\"mm_account_telco\", hue=\"digital_inclusion\", data=df)\n",
        "plt.xticks(plt.xticks()[0], rotation=90)\n",
        "plt.tight_layout()\n",
        "plt.show()"
      ],
      "execution_count": 10,
      "outputs": [
        {
          "output_type": "display_data",
          "data": {
            "image/png": "[encoded data removed]",
            "text/plain": [
              "<Figure size 432x288 with 1 Axes>"
            ]
          },
          "metadata": {
            "tags": [],
            "needs_background": "light"
          }
        }
      ]
    },
    {
      "cell_type": "markdown",
      "metadata": {
        "id": "YkDIYaSX_aJg"
      },
      "source": [
        "Among all the dataset, Its company A and B indeed, the ones that are preferred among the clients that are digital included. "
      ]
    },
    {
      "cell_type": "code",
      "metadata": {
        "colab": {
          "base_uri": "https://localhost:8080/",
          "height": 297
        },
        "id": "wI7WH39kOdOG",
        "outputId": "0522cf2a-a287-4e70-db6d-c3f63d4b6a7c"
      },
      "source": [
        "sns.countplot(x=\"mm_account_telco_main\", hue=\"digital_inclusion\", data=df)\n",
        "plt.xticks(plt.xticks()[0], rotation=90)\n",
        "plt.tight_layout()\n",
        "plt.show()"
      ],
      "execution_count": 11,
      "outputs": [
        {
          "output_type": "display_data",
          "data": {
            "image/png": "[encoded data removed]",
            "text/plain": [
              "<Figure size 432x288 with 1 Axes>"
            ]
          },
          "metadata": {
            "tags": [],
            "needs_background": "light"
          }
        }
      ]
    },
    {
      "cell_type": "markdown",
      "metadata": {
        "id": "-Pdc7P7bDDF3"
      },
      "source": [
        "I also explored, if there is relationship between cancelling a mobile account and the providers for the mobile money account. In the graph below, in the legend, 0 stands for not cancelled and 1 for cancelled. As we can see, none of the companies are related to cancelled in the past. Actually the company that is doing a good performance in this regard is Company A. "
      ]
    },
    {
      "cell_type": "code",
      "metadata": {
        "colab": {
          "base_uri": "https://localhost:8080/",
          "height": 297
        },
        "id": "oGuWcwLICaqF",
        "outputId": "cb6f3402-9f6a-43d4-928b-357d47e72cb2"
      },
      "source": [
        "sns.countplot(x=\"mm_account_telco_main\", hue=\"mm_account_cancelled\", data=df)\n",
        "plt.xticks(plt.xticks()[0], rotation=90)\n",
        "plt.tight_layout()\n",
        "plt.show()"
      ],
      "execution_count": 23,
      "outputs": [
        {
          "output_type": "display_data",
          "data": {
            "image/png": "[encoded data removed]",
            "text/plain": [
              "<Figure size 432x288 with 1 Axes>"
            ]
          },
          "metadata": {
            "tags": [],
            "needs_background": "light"
          }
        }
      ]
    },
    {
      "cell_type": "code",
      "metadata": {
        "colab": {
          "base_uri": "https://localhost:8080/",
          "height": 297
        },
        "id": "7y0BY0HAC0qB",
        "outputId": "66e2276e-63f1-44fa-b633-48d0385e32f3"
      },
      "source": [
        "sns.countplot(x=\"mm_account_telco\", hue=\"mm_account_cancelled\", data=df)\n",
        "plt.xticks(plt.xticks()[0], rotation=90)\n",
        "plt.tight_layout()\n",
        "plt.show()"
      ],
      "execution_count": 24,
      "outputs": [
        {
          "output_type": "display_data",
          "data": {
            "image/png": "[encoded data removed]",
            "text/plain": [
              "<Figure size 432x288 with 1 Axes>"
            ]
          },
          "metadata": {
            "tags": [],
            "needs_background": "light"
          }
        }
      ]
    },
    {
      "cell_type": "code",
      "metadata": {
        "colab": {
          "base_uri": "https://localhost:8080/"
        },
        "id": "dLClTR5yCYRF",
        "outputId": "acdb92ca-289f-47e1-d8ea-3006cb93b1f3"
      },
      "source": [
        "df.mm_account_telco_main.value_counts()"
      ],
      "execution_count": 12,
      "outputs": [
        {
          "output_type": "execute_result",
          "data": {
            "text/plain": [
              "Company_A    600\n",
              "Company_B    393\n",
              "Company_C     18\n",
              "Name: mm_account_telco_main, dtype: int64"
            ]
          },
          "metadata": {
            "tags": []
          },
          "execution_count": 12
        }
      ]
    },
    {
      "cell_type": "code",
      "metadata": {
        "id": "8Hk5fbVAIScq"
      },
      "source": [
        "#df.groupby('hhid')['account_type'].value_counts().unstack().fillna(0)"
      ],
      "execution_count": null,
      "outputs": []
    },
    {
      "cell_type": "markdown",
      "metadata": {
        "id": "QB3F6kGQALt_"
      },
      "source": [
        "We just continue exploring if we have some missing values that worth it to transform so we can work with them later on for prediction"
      ]
    },
    {
      "cell_type": "code",
      "metadata": {
        "id": "y3ZiaSNc0Ad4",
        "colab": {
          "base_uri": "https://localhost:8080/"
        },
        "outputId": "e21b598b-3583-43dd-ee2f-be0a1e90e2b2"
      },
      "source": [
        "df.isnull().sum()"
      ],
      "execution_count": 14,
      "outputs": [
        {
          "output_type": "execute_result",
          "data": {
            "text/plain": [
              "start_time                    0\n",
              "end_time                      0\n",
              "hhid                          0\n",
              "account_num                   0\n",
              "account_type                  0\n",
              "weight                        0\n",
              "district                      0\n",
              "urban                         0\n",
              "gender                        0\n",
              "age                           0\n",
              "hh_members                    0\n",
              "highest_grade_completed     207\n",
              "mm_account_cancelled          0\n",
              "prefer_cash                  47\n",
              "mm_trust                    128\n",
              "mm_account_telco            478\n",
              "mm_account_telco_main      1431\n",
              "v234                        594\n",
              "agent_trust                 808\n",
              "v236                       1799\n",
              "v237                        296\n",
              "v238                        287\n",
              "v240                        287\n",
              "v241                        336\n",
              "v242                        341\n",
              "v243                        296\n",
              "v244                       1867\n",
              "v245                        296\n",
              "v246                        287\n",
              "financially_excluded          0\n",
              "digital_inclusion             0\n",
              "dtype: int64"
            ]
          },
          "metadata": {
            "tags": []
          },
          "execution_count": 14
        }
      ]
    },
    {
      "cell_type": "markdown",
      "metadata": {
        "id": "ht4cwDayAaU5"
      },
      "source": [
        "The variable v240 which ask if a transaction ever failed to go through, its important explore and so forth, to clean it up because this feature may cause that clients decide it to keep digital products or to drop them. So that's why I decided to clean it up. "
      ]
    },
    {
      "cell_type": "code",
      "metadata": {
        "id": "BuYn0OTSUbLT"
      },
      "source": [
        "df = df[df['v240'].notna()]"
      ],
      "execution_count": 17,
      "outputs": []
    },
    {
      "cell_type": "markdown",
      "metadata": {
        "id": "9oAcjCDTBd4h"
      },
      "source": [
        "Luckily, as we have seen below the transactions are not likely to fail (only 28% of the cases are named as failed)"
      ]
    },
    {
      "cell_type": "code",
      "metadata": {
        "colab": {
          "base_uri": "https://localhost:8080/"
        },
        "id": "-EcgP2C6BRuV",
        "outputId": "f547ffee-3384-4476-8ad0-2784357fa85f"
      },
      "source": [
        "df.v240.value_counts(normalize=True)"
      ],
      "execution_count": 19,
      "outputs": [
        {
          "output_type": "execute_result",
          "data": {
            "text/plain": [
              "no     0.727146\n",
              "yes    0.272854\n",
              "Name: v240, dtype: float64"
            ]
          },
          "metadata": {
            "tags": []
          },
          "execution_count": 19
        }
      ]
    },
    {
      "cell_type": "code",
      "metadata": {
        "colab": {
          "base_uri": "https://localhost:8080/"
        },
        "id": "5ysJY5WjxEt4",
        "outputId": "f6f37ad4-e93a-4441-da52-4ae27fcf1e99"
      },
      "source": [
        "#4, question v240\n",
        "df.urban.value_counts()"
      ],
      "execution_count": 16,
      "outputs": [
        {
          "output_type": "execute_result",
          "data": {
            "text/plain": [
              "Rural    1613\n",
              "Urban     542\n",
              "Name: urban, dtype: int64"
            ]
          },
          "metadata": {
            "tags": []
          },
          "execution_count": 16
        }
      ]
    },
    {
      "cell_type": "code",
      "metadata": {
        "id": "-Hofd6ntPnGG"
      },
      "source": [
        "df[\"urban\"] = df[\"urban\"].map({\"Urban\":0, \"Rural\":1})"
      ],
      "execution_count": 45,
      "outputs": []
    },
    {
      "cell_type": "code",
      "metadata": {
        "id": "y0kOrgrVPcgC"
      },
      "source": [
        "df.dtypes"
      ],
      "execution_count": null,
      "outputs": []
    },
    {
      "cell_type": "code",
      "metadata": {
        "id": "_JWk9M0ZS6pb"
      },
      "source": [
        "df[\"v240\"] = df[\"v240\"].map({\"no\":0, \"yes\":1})"
      ],
      "execution_count": 20,
      "outputs": []
    },
    {
      "cell_type": "markdown",
      "metadata": {
        "id": "eAeF7kyyEA1b"
      },
      "source": [
        "***Question 4 ***asks for finding statistical differences in the share of customers who have experienced failed mobile money transactions in rural and urban villages. For that we need first to load packages and later, doing some data transformation for establishing the different groups to compare. "
      ]
    },
    {
      "cell_type": "code",
      "metadata": {
        "id": "S62K_baQSwoy"
      },
      "source": [
        "from scipy.stats import ttest_ind #to run the t-test for independent samples\n",
        "from scipy import stats\n",
        "from scipy.stats import spearmanr #to run spearman"
      ],
      "execution_count": 12,
      "outputs": []
    },
    {
      "cell_type": "code",
      "metadata": {
        "id": "plNFHk1lQNdB"
      },
      "source": [
        "#df['Sex'] = df['Sex'].map({\"Female\": 0, \"Male\": 1})\n",
        "df['urban'] = df['urban'].map({\"Rural\": 0, \"Urban\": 1})\n",
        "#df['Sex'] = df['Sex'].apply({'Male':1, 'Female': 0}.get)"
      ],
      "execution_count": 14,
      "outputs": []
    },
    {
      "cell_type": "code",
      "metadata": {
        "colab": {
          "base_uri": "https://localhost:8080/"
        },
        "id": "loCjWVrCTpu2",
        "outputId": "78db1089-bf0b-4f6a-b0c2-84649b39f477"
      },
      "source": [
        "df.v240.isnull"
      ],
      "execution_count": 21,
      "outputs": [
        {
          "output_type": "execute_result",
          "data": {
            "text/plain": [
              "<bound method Series.isnull of 0       0\n",
              "1       0\n",
              "2       0\n",
              "3       1\n",
              "4       1\n",
              "       ..\n",
              "2435    0\n",
              "2438    1\n",
              "2439    1\n",
              "2440    1\n",
              "2441    1\n",
              "Name: v240, Length: 2155, dtype: int64>"
            ]
          },
          "metadata": {
            "tags": []
          },
          "execution_count": 21
        }
      ]
    },
    {
      "cell_type": "code",
      "metadata": {
        "id": "sCkUQ1U-Q1Wg"
      },
      "source": [
        "Rural = df[df['urban']==0]\n",
        "Urban = df[df['urban']==1]"
      ],
      "execution_count": 22,
      "outputs": []
    },
    {
      "cell_type": "markdown",
      "metadata": {
        "id": "MMFiRQbIEjP_"
      },
      "source": [
        ""
      ]
    },
    {
      "cell_type": "markdown",
      "metadata": {
        "id": "7v13yNx1EjZD"
      },
      "source": [
        "For responding this question I used the independent sample t-test among rural vs urban population. So that is why I split the dataset and the ouput below shows that there is not significant differences regarding rural vs urban populations. This means that the kind of geography is not related with a crash in the transations that a client may display. So we may assume that that the companies that operate in those areas are not having difficulties in this regard. "
      ]
    },
    {
      "cell_type": "code",
      "metadata": {
        "colab": {
          "base_uri": "https://localhost:8080/"
        },
        "id": "dCAlPLxbSPsM",
        "outputId": "0e27d1d5-f7ef-408f-d54c-3cc078988bcf"
      },
      "source": [
        "#let's see if rural are more or less likely to v240 than urban\n",
        "ttest_ind(Rural['v240'], Urban['v240'], nan_policy='omit')"
      ],
      "execution_count": 16,
      "outputs": [
        {
          "output_type": "execute_result",
          "data": {
            "text/plain": [
              "Ttest_indResult(statistic=-6.653240450605926, pvalue=3.6249095821554155e-11)"
            ]
          },
          "metadata": {
            "tags": []
          },
          "execution_count": 16
        }
      ]
    },
    {
      "cell_type": "markdown",
      "metadata": {
        "id": "t0PgZ4ZZFw8h"
      },
      "source": [
        "**Question 5** asks for the variables that are good predictors that someone will cancel their mobile money account? Discuss what causes a customer to stop using their mobile money account including how strong the evidence is."
      ]
    },
    {
      "cell_type": "markdown",
      "metadata": {
        "id": "Qhql1iTwGIPg"
      },
      "source": [
        "In order to respond this question, still worth it to do some EDA so we can select the potential independent variables that may explain whether a person is likely to cancel a mobile money account or not. I start off with using ***mm_account_cancelled ***as a dependent variable. As we can see 90% of people hasnt cancelled their mobile account. This is a good indicator but for predicting it may causes a problem because we notice that the Dependent variable is imbalance, so it worth to balance with different approaches. One of the most common ones is SMOTE, but given the limitation of time I'm not doing imbalancing for this experiment "
      ]
    },
    {
      "cell_type": "code",
      "metadata": {
        "colab": {
          "base_uri": "https://localhost:8080/"
        },
        "id": "qd3v7AW2U0b1",
        "outputId": "33ccb14f-e376-4d73-b287-94aedf27a464"
      },
      "source": [
        "\n",
        "\n",
        "df.mm_account_cancelled.value_counts( normalize = True)"
      ],
      "execution_count": 27,
      "outputs": [
        {
          "output_type": "execute_result",
          "data": {
            "text/plain": [
              "0    0.902552\n",
              "1    0.097448\n",
              "Name: mm_account_cancelled, dtype: float64"
            ]
          },
          "metadata": {
            "tags": []
          },
          "execution_count": 27
        }
      ]
    },
    {
      "cell_type": "code",
      "metadata": {
        "id": "Uigokp0SVc5G"
      },
      "source": [
        "df['mm_account_cancelled'] = df['mm_account_cancelled'].map({\"no\": 0, \"yes\": 1})"
      ],
      "execution_count": 28,
      "outputs": []
    },
    {
      "cell_type": "code",
      "metadata": {
        "colab": {
          "base_uri": "https://localhost:8080/",
          "height": 297
        },
        "id": "8MjWw9JzVc_V",
        "outputId": "91411601-d6ad-4b40-b8bb-9186b898b480"
      },
      "source": [
        "#Lets do some EDA so we can suspect about some variables that may tell us whether a client is likely\n",
        "#to cancel or not their mobibe money account\n",
        "\n",
        "sns.countplot(x=\"urban\", hue=\"mm_account_cancelled\", data=df)\n",
        "plt.xticks(plt.xticks()[0], rotation=90)\n",
        "plt.tight_layout()\n",
        "plt.show()\n",
        "\n",
        "#With 0 being rural, among them, there are few chances of cancel your mobile account(since 0 is no cancelled)\n",
        "#With 1 being urban, among them, there are few chances of cancel your mobile account. \n",
        "#Still, seems that cancel is more likely to happen in rural areas. But this may looks this way because\n",
        "#of the imbalanced data.\n",
        "#Overall, seems that region variable does not have an impact whether or not someone cancel \n"
      ],
      "execution_count": 20,
      "outputs": [
        {
          "output_type": "display_data",
          "data": {
            "image/png": "[encoded data removed]",
            "text/plain": [
              "<Figure size 432x288 with 1 Axes>"
            ]
          },
          "metadata": {
            "tags": [],
            "needs_background": "light"
          }
        }
      ]
    },
    {
      "cell_type": "code",
      "metadata": {
        "colab": {
          "base_uri": "https://localhost:8080/",
          "height": 297
        },
        "id": "DJdH9hpxVdJZ",
        "outputId": "4d27df96-9189-4f73-b18f-5fbee0889f86"
      },
      "source": [
        "sns.countplot(x=\"gender\", hue=\"mm_account_cancelled\", data=df)\n",
        "plt.xticks(plt.xticks()[0], rotation=90)\n",
        "plt.tight_layout()\n",
        "plt.show()\n",
        "\n",
        "#With gender, it seems that women are more likely to cancel than men. So SEx may be\n",
        "#a good predictor for canceling or not. "
      ],
      "execution_count": 26,
      "outputs": [
        {
          "output_type": "display_data",
          "data": {
            "image/png": "[encoded data removed]",
            "text/plain": [
              "<Figure size 432x288 with 1 Axes>"
            ]
          },
          "metadata": {
            "tags": [],
            "needs_background": "light"
          }
        }
      ]
    },
    {
      "cell_type": "code",
      "metadata": {
        "colab": {
          "base_uri": "https://localhost:8080/",
          "height": 376
        },
        "id": "jvQ_wSp_ZKYX",
        "outputId": "4f995cd7-238e-4c30-ed25-23b741a07f98"
      },
      "source": [
        "#df.age.value_counts()\n",
        "plt.figure(figsize=(15,8))\n",
        "ax = sns.kdeplot(df[\"age\"][df.mm_account_cancelled == 1], color=\"darkturquoise\", shade=True)\n",
        "sns.kdeplot(df[\"age\"][df.mm_account_cancelled == 0], color=\"lightcoral\", shade=True)\n",
        "plt.legend(['cancelled', 'no cancelled'])\n",
        "#plt.title('Density Plot of Age for Surviving Population and Deceased Population')\n",
        "ax.set(xlabel='age')\n",
        "plt.xlim(-10,85)\n",
        "plt.show()\n",
        "\n"
      ],
      "execution_count": 23,
      "outputs": [
        {
          "output_type": "display_data",
          "data": {
            "image/png": "[encoded data removed]",
            "text/plain": [
              "<Figure size 1080x576 with 1 Axes>"
            ]
          },
          "metadata": {
            "tags": [],
            "needs_background": "light"
          }
        }
      ]
    },
    {
      "cell_type": "code",
      "metadata": {
        "colab": {
          "base_uri": "https://localhost:8080/"
        },
        "id": "WJBHIcpib4Km",
        "outputId": "b1c2f479-fee4-4367-c557-832eca95d1f3"
      },
      "source": [
        "df.dtypes"
      ],
      "execution_count": 28,
      "outputs": [
        {
          "output_type": "execute_result",
          "data": {
            "text/plain": [
              "start_time                  object\n",
              "end_time                    object\n",
              "hhid                         int64\n",
              "account_num                  int64\n",
              "account_type                object\n",
              "weight                     float64\n",
              "district                    object\n",
              "urban                        int64\n",
              "gender                      object\n",
              "age                          int64\n",
              "hh_members                   int64\n",
              "highest_grade_completed     object\n",
              "mm_account_cancelled         int64\n",
              "prefer_cash                 object\n",
              "mm_trust                    object\n",
              "mm_account_telco            object\n",
              "mm_account_telco_main       object\n",
              "v234                        object\n",
              "agent_trust                 object\n",
              "v236                        object\n",
              "v237                        object\n",
              "v238                        object\n",
              "v240                         int64\n",
              "v241                        object\n",
              "v242                        object\n",
              "v243                        object\n",
              "v244                        object\n",
              "v245                        object\n",
              "v246                        object\n",
              "financially_excluded         int64\n",
              "digital_inclusion             bool\n",
              "dtype: object"
            ]
          },
          "metadata": {
            "tags": []
          },
          "execution_count": 28
        }
      ]
    },
    {
      "cell_type": "code",
      "metadata": {
        "colab": {
          "base_uri": "https://localhost:8080/",
          "height": 380
        },
        "id": "EPTLSgd-aQ-P",
        "outputId": "5561e94b-c90c-4962-c7fb-25d6c0fc5014"
      },
      "source": [
        "#df.age.value_counts()\n",
        "plt.figure(figsize=(15,8))\n",
        "ax = sns.kdeplot(df[\"hh_members\"][df.mm_account_cancelled == 1], color=\"darkturquoise\", shade=True)\n",
        "sns.kdeplot(df[\"hh_members\"][df.mm_account_cancelled == 0], color=\"lightcoral\", shade=True)\n",
        "plt.legend(['cancelled', 'no cancelled'])\n",
        "#plt.title('Density Plot of Age for Surviving Population and Deceased Population')\n",
        "ax.set(xlabel='hh_members')\n",
        "plt.xlim(-10,85)\n",
        "plt.show()\n",
        "\n",
        "#seems that the more the members of the family, more likely not to cancel the mobile money account"
      ],
      "execution_count": 27,
      "outputs": [
        {
          "output_type": "display_data",
          "data": {
            "image/png": "[encoded data removed]",
            "text/plain": [
              "<Figure size 1080x576 with 1 Axes>"
            ]
          },
          "metadata": {
            "tags": [],
            "needs_background": "light"
          }
        }
      ]
    },
    {
      "cell_type": "code",
      "metadata": {
        "colab": {
          "base_uri": "https://localhost:8080/"
        },
        "id": "KGd0rO7IgtV6",
        "outputId": "dc4cf5c3-a90e-4865-946d-e1875796084d"
      },
      "source": [
        "df.highest_grade_completed.value_counts()"
      ],
      "execution_count": 12,
      "outputs": [
        {
          "output_type": "execute_result",
          "data": {
            "text/plain": [
              "primary 6      579\n",
              "secondary 6    228\n",
              "university     198\n",
              "primary 5      174\n",
              "primary 4      173\n",
              "primary 3      142\n",
              "secondary 3    135\n",
              "primary 2       83\n",
              "secondary 2     63\n",
              "tvet            62\n",
              "secondary 4     53\n",
              "secondary 5     47\n",
              "primary 1       40\n",
              "secondary 1     31\n",
              "other           11\n",
              "Name: highest_grade_completed, dtype: int64"
            ]
          },
          "metadata": {
            "tags": []
          },
          "execution_count": 12
        }
      ]
    },
    {
      "cell_type": "code",
      "metadata": {
        "colab": {
          "base_uri": "https://localhost:8080/",
          "height": 297
        },
        "id": "30UVaRv4VdOg",
        "outputId": "281cf1a5-ed83-46a4-9d41-d4f0fc981ac4"
      },
      "source": [
        "sns.countplot(x=\"highest_grade_completed\", hue=\"mm_account_cancelled\", data=df)\n",
        "plt.xticks(plt.xticks()[0], rotation=90)\n",
        "plt.tight_layout()\n",
        "plt.show()\n"
      ],
      "execution_count": 15,
      "outputs": [
        {
          "output_type": "display_data",
          "data": {
            "image/png": "[encoded data removed]",
            "text/plain": [
              "<Figure size 432x288 with 1 Axes>"
            ]
          },
          "metadata": {
            "tags": [],
            "needs_background": "light"
          }
        }
      ]
    },
    {
      "cell_type": "code",
      "metadata": {
        "colab": {
          "base_uri": "https://localhost:8080/"
        },
        "id": "kKuilhkLjlRe",
        "outputId": "c4247044-7f59-4881-93f2-99c389da6862"
      },
      "source": [
        "df1 = df.highest_grade_completed.groupby([df.highest_grade_completed, df.mm_account_cancelled]).size().unstack().fillna(0).astype(str)\n",
        "\n",
        "df1.index.name = None\n",
        "df1.columns.name = None\n",
        "print(df1)\n",
        "\n",
        "#Among the people that cancelled, the ones that reached primary 6 as the highest grade are more likely to cancel\n",
        "#compared to the other grades. "
      ],
      "execution_count": 38,
      "outputs": [
        {
          "output_type": "stream",
          "text": [
            "                 0     1\n",
            "other         10.0   1.0\n",
            "primary 1     29.0  11.0\n",
            "primary 2     65.0  18.0\n",
            "primary 3    126.0  16.0\n",
            "primary 4    152.0  21.0\n",
            "primary 5    160.0  14.0\n",
            "primary 6    519.0  60.0\n",
            "secondary 1   29.0   2.0\n",
            "secondary 2   54.0   9.0\n",
            "secondary 3  128.0   7.0\n",
            "secondary 4   50.0   3.0\n",
            "secondary 5   45.0   2.0\n",
            "secondary 6  227.0   1.0\n",
            "tvet          61.0   1.0\n",
            "university   198.0   0.0\n"
          ],
          "name": "stdout"
        }
      ]
    },
    {
      "cell_type": "code",
      "metadata": {
        "colab": {
          "base_uri": "https://localhost:8080/"
        },
        "id": "EjXubbZslfYl",
        "outputId": "16aa68a8-6c5a-46b7-dc56-867fce338979"
      },
      "source": [
        "df.prefer_cash.value_counts()"
      ],
      "execution_count": 27,
      "outputs": [
        {
          "output_type": "execute_result",
          "data": {
            "text/plain": [
              "yes    2033\n",
              "no       89\n",
              "Name: prefer_cash, dtype: int64"
            ]
          },
          "metadata": {
            "tags": []
          },
          "execution_count": 27
        }
      ]
    },
    {
      "cell_type": "code",
      "metadata": {
        "colab": {
          "base_uri": "https://localhost:8080/",
          "height": 280
        },
        "id": "YyvoqX_OlGfq",
        "outputId": "b9858d5c-58a8-41d2-f433-444aebc4243e"
      },
      "source": [
        "sns.countplot(x=\"prefer_cash\", hue=\"mm_account_cancelled\", data=df);"
      ],
      "execution_count": 47,
      "outputs": [
        {
          "output_type": "display_data",
          "data": {
            "image/png": "[encoded data removed]",
            "text/plain": [
              "<Figure size 432x288 with 1 Axes>"
            ]
          },
          "metadata": {
            "tags": [],
            "needs_background": "light"
          }
        }
      ]
    },
    {
      "cell_type": "code",
      "metadata": {
        "colab": {
          "base_uri": "https://localhost:8080/",
          "height": 297
        },
        "id": "IbN0PygNm8Ta",
        "outputId": "cb0d7c10-9103-48ec-fac4-6bdca3dac209"
      },
      "source": [
        "sns.barplot(x=\"prefer_cash\", y=\"mm_account_cancelled\", data=df)\n",
        "# use the original locations of your xticks, and only the date for your label\n",
        "# rotate the labels 90 degrees using the rotation argument\n",
        "plt.xticks(plt.xticks()[0], rotation=90)\n",
        "plt.tight_layout()\n",
        "plt.show()\n",
        "\n",
        "#the ones that prefer cash are more likely to cancel "
      ],
      "execution_count": 48,
      "outputs": [
        {
          "output_type": "display_data",
          "data": {
            "image/png": "[encoded data removed]",
            "text/plain": [
              "<Figure size 432x288 with 1 Axes>"
            ]
          },
          "metadata": {
            "tags": [],
            "needs_background": "light"
          }
        }
      ]
    },
    {
      "cell_type": "code",
      "metadata": {
        "colab": {
          "base_uri": "https://localhost:8080/",
          "height": 297
        },
        "id": "vodiK-2QnkcU",
        "outputId": "375d4d38-a0ad-4dcd-99f7-46567205adbf"
      },
      "source": [
        "sns.barplot(x=\"mm_trust\", y=\"mm_account_cancelled\", data=df)\n",
        "# use the original locations of your xticks, and only the date for your label\n",
        "# rotate the labels 90 degrees using the rotation argument\n",
        "plt.xticks(plt.xticks()[0], rotation=90)\n",
        "plt.tight_layout()\n",
        "plt.show()\n",
        "#Surprisingly the ones that trust mobile money are slightly likely to cancel. "
      ],
      "execution_count": 49,
      "outputs": [
        {
          "output_type": "display_data",
          "data": {
            "image/png": "[encoded data removed]",
            "text/plain": [
              "<Figure size 432x288 with 1 Axes>"
            ]
          },
          "metadata": {
            "tags": [],
            "needs_background": "light"
          }
        }
      ]
    },
    {
      "cell_type": "code",
      "metadata": {
        "colab": {
          "base_uri": "https://localhost:8080/",
          "height": 280
        },
        "id": "L9RREwosokD1",
        "outputId": "352ab786-524d-40fc-fd89-20e33aa13e59"
      },
      "source": [
        "sns.countplot(x=\"mm_trust\", hue=\"mm_account_cancelled\", data=df);"
      ],
      "execution_count": 50,
      "outputs": [
        {
          "output_type": "display_data",
          "data": {
            "image/png": "[encoded data removed]",
            "text/plain": [
              "<Figure size 432x288 with 1 Axes>"
            ]
          },
          "metadata": {
            "tags": [],
            "needs_background": "light"
          }
        }
      ]
    },
    {
      "cell_type": "code",
      "metadata": {
        "colab": {
          "base_uri": "https://localhost:8080/",
          "height": 297
        },
        "id": "Urf27ppopJzS",
        "outputId": "cb665090-8f9d-4d55-b220-1f4f569ea9bf"
      },
      "source": [
        "sns.barplot(x=\"v240\", y=\"mm_account_cancelled\", data=df)\n",
        "# use the original locations of your xticks, and only the date for your label\n",
        "# rotate the labels 90 degrees using the rotation argument\n",
        "plt.xticks(plt.xticks()[0], rotation=90)\n",
        "plt.tight_layout()\n",
        "plt.show()"
      ],
      "execution_count": 51,
      "outputs": [
        {
          "output_type": "display_data",
          "data": {
            "image/png": "[encoded data removed]",
            "text/plain": [
              "<Figure size 432x288 with 1 Axes>"
            ]
          },
          "metadata": {
            "tags": [],
            "needs_background": "light"
          }
        }
      ]
    },
    {
      "cell_type": "code",
      "metadata": {
        "colab": {
          "base_uri": "https://localhost:8080/",
          "height": 297
        },
        "id": "RhUWde0kpJ2-",
        "outputId": "406e24be-0994-4e12-dff0-ee203e62745f"
      },
      "source": [
        "sns.barplot(x=\"account_type\", y=\"mm_account_cancelled\", data=df)\n",
        "# use the original locations of your xticks, and only the date for your label\n",
        "# rotate the labels 90 degrees using the rotation argument\n",
        "plt.xticks(plt.xticks()[0], rotation=90)\n",
        "plt.tight_layout()\n",
        "plt.show()\n",
        "\n",
        "#The graph shows us that both VSLA Account and SACCO Account owners are more likely to cancel their\n",
        "#mobile account. They may be more comfortable with this kind of accounts. \n",
        "#may be worth it to address on a qualitative level what are the attributes that they like \n",
        "#from both accounts to stick with them. "
      ],
      "execution_count": 31,
      "outputs": [
        {
          "output_type": "display_data",
          "data": {
            "image/png": "[encoded data removed]",
            "text/plain": [
              "<Figure size 432x288 with 1 Axes>"
            ]
          },
          "metadata": {
            "tags": [],
            "needs_background": "light"
          }
        }
      ]
    },
    {
      "cell_type": "code",
      "metadata": {
        "colab": {
          "base_uri": "https://localhost:8080/"
        },
        "id": "X53Hq0hKaAWK",
        "outputId": "fcd6ff32-3771-435f-c9f0-a4e48f8a3fdf"
      },
      "source": [
        "df.v234.value_counts()"
      ],
      "execution_count": 29,
      "outputs": [
        {
          "output_type": "execute_result",
          "data": {
            "text/plain": [
              "yes    1396\n",
              "no      410\n",
              "-97      17\n",
              "Name: v234, dtype: int64"
            ]
          },
          "metadata": {
            "tags": []
          },
          "execution_count": 29
        }
      ]
    },
    {
      "cell_type": "code",
      "metadata": {
        "colab": {
          "base_uri": "https://localhost:8080/"
        },
        "id": "qoCFZYBqk5tk",
        "outputId": "059d23a3-9943-4110-e750-58f44862a510"
      },
      "source": [
        "df.drop(df[df['v234'] == '-97' ].index, inplace=True)\n",
        "\n",
        "# Delete these row indexes from dataFrame\n",
        "#df.drop(indexNames , inplace=True)\n",
        "print(df)"
      ],
      "execution_count": 30,
      "outputs": [
        {
          "output_type": "stream",
          "text": [
            "                    start_time  ... digital_inclusion\n",
            "0      Oct 28, 2019 9:05:08 AM  ...                 1\n",
            "1     Oct 28, 2019 10:42:17 AM  ...                 0\n",
            "2     Oct 28, 2019 11:47:47 AM  ...                 0\n",
            "3      Oct 28, 2019 1:02:33 PM  ...                 0\n",
            "4      Oct 28, 2019 2:01:04 PM  ...                 0\n",
            "...                        ...  ...               ...\n",
            "2435   Oct 31, 2019 9:17:34 AM  ...                 0\n",
            "2438    Nov 5, 2019 2:59:48 PM  ...                 1\n",
            "2439    Nov 5, 2019 3:54:18 PM  ...                 0\n",
            "2440    Nov 5, 2019 5:25:47 PM  ...                 0\n",
            "2441   Nov 6, 2019 11:05:26 AM  ...                 0\n",
            "\n",
            "[2138 rows x 31 columns]\n"
          ],
          "name": "stdout"
        }
      ]
    },
    {
      "cell_type": "code",
      "metadata": {
        "id": "B6sHu8H0aAgH"
      },
      "source": [
        "df['v234'] = df['v234'].map({\"no\": 0, \"yes\": 1})"
      ],
      "execution_count": 31,
      "outputs": []
    },
    {
      "cell_type": "code",
      "metadata": {
        "colab": {
          "base_uri": "https://localhost:8080/"
        },
        "id": "6z9T823aZ_5G",
        "outputId": "306e511b-96c5-4ee8-8a29-45c710897705"
      },
      "source": [
        "df.agent_trust.value_counts()"
      ],
      "execution_count": 23,
      "outputs": [
        {
          "output_type": "execute_result",
          "data": {
            "text/plain": [
              "no     1324\n",
              "yes     283\n",
              "-97       1\n",
              "Name: agent_trust, dtype: int64"
            ]
          },
          "metadata": {
            "tags": []
          },
          "execution_count": 23
        }
      ]
    },
    {
      "cell_type": "code",
      "metadata": {
        "colab": {
          "base_uri": "https://localhost:8080/"
        },
        "id": "FP6OhaV6Z_zv",
        "outputId": "09e1e567-2cc6-4097-c539-ca7a412ce9c5"
      },
      "source": [
        "df.drop(df[df['agent_trust'] == '-97' ].index, inplace=True)\n",
        "\n",
        "# Delete these row indexes from dataFrame\n",
        "#df.drop(indexNames , inplace=True)\n",
        "print(df)"
      ],
      "execution_count": 32,
      "outputs": [
        {
          "output_type": "stream",
          "text": [
            "                    start_time  ... digital_inclusion\n",
            "0      Oct 28, 2019 9:05:08 AM  ...                 1\n",
            "1     Oct 28, 2019 10:42:17 AM  ...                 0\n",
            "2     Oct 28, 2019 11:47:47 AM  ...                 0\n",
            "3      Oct 28, 2019 1:02:33 PM  ...                 0\n",
            "4      Oct 28, 2019 2:01:04 PM  ...                 0\n",
            "...                        ...  ...               ...\n",
            "2435   Oct 31, 2019 9:17:34 AM  ...                 0\n",
            "2438    Nov 5, 2019 2:59:48 PM  ...                 1\n",
            "2439    Nov 5, 2019 3:54:18 PM  ...                 0\n",
            "2440    Nov 5, 2019 5:25:47 PM  ...                 0\n",
            "2441   Nov 6, 2019 11:05:26 AM  ...                 0\n",
            "\n",
            "[2137 rows x 31 columns]\n"
          ],
          "name": "stdout"
        }
      ]
    },
    {
      "cell_type": "code",
      "metadata": {
        "colab": {
          "base_uri": "https://localhost:8080/",
          "height": 297
        },
        "id": "O2eTYbp-Z_qF",
        "outputId": "1788c9b6-fb79-4f22-f857-32c4cdba0b25"
      },
      "source": [
        "sns.barplot(x=\"agent_trust\", y=\"mm_account_cancelled\", data=df)\n",
        "# use the original locations of your xticks, and only the date for your label\n",
        "# rotate the labels 90 degrees using the rotation argument\n",
        "plt.xticks(plt.xticks()[0], rotation=90)\n",
        "plt.tight_layout()\n",
        "plt.show()"
      ],
      "execution_count": 21,
      "outputs": [
        {
          "output_type": "display_data",
          "data": {
            "image/png": "[encoded data removed]",
            "text/plain": [
              "<Figure size 432x288 with 1 Axes>"
            ]
          },
          "metadata": {
            "tags": [],
            "needs_background": "light"
          }
        }
      ]
    },
    {
      "cell_type": "code",
      "metadata": {
        "id": "Zf7woz4jZ_mo"
      },
      "source": [
        "sns.barplot(x=\"agent_trust\", y=\"mm_account_cancelled\", data=df)\n",
        "# use the original locations of your xticks, and only the date for your label\n",
        "# rotate the labels 90 degrees using the rotation argument\n",
        "plt.xticks(plt.xticks()[0], rotation=90)\n",
        "plt.tight_layout()\n",
        "plt.show()"
      ],
      "execution_count": null,
      "outputs": []
    },
    {
      "cell_type": "code",
      "metadata": {
        "colab": {
          "base_uri": "https://localhost:8080/"
        },
        "id": "OZq7CyQxZ3P9",
        "outputId": "56358704-d2d1-4f30-99f4-3f8ce2df3666"
      },
      "source": [
        "df.v236.isnull"
      ],
      "execution_count": 33,
      "outputs": [
        {
          "output_type": "execute_result",
          "data": {
            "text/plain": [
              "<bound method Series.isnull of 0       NaN\n",
              "1       NaN\n",
              "2       NaN\n",
              "3       NaN\n",
              "4       NaN\n",
              "       ... \n",
              "2435    NaN\n",
              "2438     no\n",
              "2439     no\n",
              "2440     no\n",
              "2441     no\n",
              "Name: v236, Length: 2137, dtype: object>"
            ]
          },
          "metadata": {
            "tags": []
          },
          "execution_count": 33
        }
      ]
    },
    {
      "cell_type": "code",
      "metadata": {
        "colab": {
          "base_uri": "https://localhost:8080/"
        },
        "id": "jUcKct4Pmsac",
        "outputId": "3d8a0737-e503-4777-ba26-44972f1dd70f"
      },
      "source": [
        "df.drop(df[df['v236'] == 'NaN' ].index, inplace=True)\n",
        "\n",
        "# Delete these row indexes from dataFrame\n",
        "#df.drop(indexNames , inplace=True)\n",
        "print(df)"
      ],
      "execution_count": 34,
      "outputs": [
        {
          "output_type": "stream",
          "text": [
            "                    start_time  ... digital_inclusion\n",
            "0      Oct 28, 2019 9:05:08 AM  ...                 1\n",
            "1     Oct 28, 2019 10:42:17 AM  ...                 0\n",
            "2     Oct 28, 2019 11:47:47 AM  ...                 0\n",
            "3      Oct 28, 2019 1:02:33 PM  ...                 0\n",
            "4      Oct 28, 2019 2:01:04 PM  ...                 0\n",
            "...                        ...  ...               ...\n",
            "2435   Oct 31, 2019 9:17:34 AM  ...                 0\n",
            "2438    Nov 5, 2019 2:59:48 PM  ...                 1\n",
            "2439    Nov 5, 2019 3:54:18 PM  ...                 0\n",
            "2440    Nov 5, 2019 5:25:47 PM  ...                 0\n",
            "2441   Nov 6, 2019 11:05:26 AM  ...                 0\n",
            "\n",
            "[2137 rows x 31 columns]\n"
          ],
          "name": "stdout"
        }
      ]
    },
    {
      "cell_type": "code",
      "metadata": {
        "colab": {
          "base_uri": "https://localhost:8080/"
        },
        "id": "zPy_BcYNsXKD",
        "outputId": "95c9c023-24d9-47aa-99cd-15e5137066b8"
      },
      "source": [
        "df.isnull().sum()"
      ],
      "execution_count": 35,
      "outputs": [
        {
          "output_type": "execute_result",
          "data": {
            "text/plain": [
              "start_time                    0\n",
              "end_time                      0\n",
              "hhid                          0\n",
              "account_num                   0\n",
              "account_type                  0\n",
              "weight                        0\n",
              "district                      0\n",
              "urban                         0\n",
              "gender                        0\n",
              "age                           0\n",
              "hh_members                    0\n",
              "highest_grade_completed     136\n",
              "mm_account_cancelled       2137\n",
              "prefer_cash                  33\n",
              "mm_trust                     55\n",
              "mm_account_telco            219\n",
              "mm_account_telco_main      1148\n",
              "v234                        332\n",
              "agent_trust                 530\n",
              "v236                       1508\n",
              "v237                          9\n",
              "v238                          0\n",
              "v240                          0\n",
              "v241                         49\n",
              "v242                         54\n",
              "v243                          9\n",
              "v244                       1564\n",
              "v245                          9\n",
              "v246                          0\n",
              "financially_excluded          0\n",
              "digital_inclusion             0\n",
              "dtype: int64"
            ]
          },
          "metadata": {
            "tags": []
          },
          "execution_count": 35
        }
      ]
    },
    {
      "cell_type": "markdown",
      "metadata": {
        "id": "7N2EpvUwI86T"
      },
      "source": [
        "Standarization process \n"
      ]
    },
    {
      "cell_type": "code",
      "metadata": {
        "colab": {
          "base_uri": "https://localhost:8080/"
        },
        "id": "-V_UT6H6JCft",
        "outputId": "71877f13-35b6-4067-c313-928b039b0b8b"
      },
      "source": [
        "df.dtypes"
      ],
      "execution_count": 37,
      "outputs": [
        {
          "output_type": "execute_result",
          "data": {
            "text/plain": [
              "start_time                  object\n",
              "end_time                    object\n",
              "hhid                         int64\n",
              "account_num                  int64\n",
              "account_type                object\n",
              "weight                     float64\n",
              "district                    object\n",
              "urban                       object\n",
              "gender                      object\n",
              "age                          int64\n",
              "hh_members                   int64\n",
              "highest_grade_completed     object\n",
              "mm_account_cancelled       float64\n",
              "prefer_cash                 object\n",
              "mm_trust                    object\n",
              "mm_account_telco            object\n",
              "mm_account_telco_main       object\n",
              "v234                       float64\n",
              "agent_trust                 object\n",
              "v236                        object\n",
              "v237                        object\n",
              "v238                        object\n",
              "v240                         int64\n",
              "v241                        object\n",
              "v242                        object\n",
              "v243                        object\n",
              "v244                        object\n",
              "v245                        object\n",
              "v246                        object\n",
              "financially_excluded         int64\n",
              "digital_inclusion            int64\n",
              "dtype: object"
            ]
          },
          "metadata": {
            "tags": []
          },
          "execution_count": 37
        }
      ]
    },
    {
      "cell_type": "code",
      "metadata": {
        "id": "WA21C1L0KRVG"
      },
      "source": [
        "from sklearn.linear_model import LogisticRegression\n",
        "from sklearn.feature_selection import RFE"
      ],
      "execution_count": 39,
      "outputs": []
    },
    {
      "cell_type": "code",
      "metadata": {
        "id": "NI8Id5XeI0L5"
      },
      "source": [
        "#dropping columns that not add any info\n",
        "\n",
        "#train_data_dummies=pd.get_dummies(df, columns=[])\n"
      ],
      "execution_count": 38,
      "outputs": []
    },
    {
      "cell_type": "code",
      "metadata": {
        "id": "pX5jjH9jO22V"
      },
      "source": [
        "df[\"account_type\"] = df[\"account_type\"].astype(int)"
      ],
      "execution_count": null,
      "outputs": []
    },
    {
      "cell_type": "code",
      "metadata": {
        "colab": {
          "base_uri": "https://localhost:8080/",
          "height": 426
        },
        "id": "rLwUu7UwKRZs",
        "outputId": "2c05fa03-0bd0-4985-f36b-7bbdfdb8f444"
      },
      "source": [
        "train_data_dummies=pd.get_dummies(df, columns=[\"urban\",\"age\",\"hh_members\", \n",
        "                                               \"highest_grade_completed\", \"prefer_cash\", \n",
        "                                               \"mm_trust\", \"mm_account_telco\", \n",
        "                                               \"mm_account_telco_main\", \"financially_excluded\", \n",
        "                                               \"digital_inclusion\", \"mm_account_cancelled\"])\n",
        "\n",
        "train_data_dummies = df.copy()\n",
        "train_data_dummies.drop(\"account_type\", axis = 1, inplace = True)\n",
        "train_data_dummies.drop(\"gender\", axis = 1, inplace = True)\n",
        "train_data_dummies.drop('start_time', axis=1, inplace=True)\n",
        "train_data_dummies.drop('end_time', axis=1, inplace=True)\n",
        "train_data_dummies.drop('hhid', axis=1, inplace=True)\n",
        "train_data_dummies.drop('account_num', axis=1, inplace=True)\n",
        "train_data_dummies.drop('weight', axis=1, inplace=True)\n",
        "train_data_dummies.drop('district', axis=1, inplace=True)\n",
        "#train_data.drop(\"edu_expenes\", axis = 1, inplace = True)\n",
        "train_data_dummies.drop('v234', axis=1, inplace=True)\n",
        "train_data_dummies.drop('agent_trust', axis=1, inplace=True)\n",
        "#train_data.drop(\"Sex\", axis = 1, inplace=True)\n",
        "train_data_dummies.drop('v236', axis=1, inplace=True)\n",
        "train_data_dummies.drop('v237', axis=1, inplace=True)\n",
        "train_data_dummies.drop('v238', axis=1, inplace=True)\n",
        "train_data_dummies.drop('v241', axis=1, inplace=True)\n",
        "train_data_dummies.drop('v242', axis=1, inplace=True)\n",
        "train_data_dummies.drop('v243', axis=1, inplace=True)\n",
        "train_data_dummies.drop('v244', axis=1, inplace=True)\n",
        "train_data_dummies.drop('v245', axis=1, inplace=True)\n",
        "train_data_dummies.drop('v246', axis=1, inplace=True)\n",
        "\n",
        "\n",
        "\n",
        "final_train = train_data_dummies\n",
        "\n",
        "# standardization for just numerical variables \n",
        "categorical_cols= [\"urban\",\"highest_grade_completed\", \"prefer_cash\", \n",
        "                                               \"mm_trust\", \"mm_account_telco\", \n",
        "                                               \"mm_account_telco_main\"]\n",
        "\n",
        "feature_scale=[feature for feature in final_train.columns if feature not in categorical_cols]\n",
        "\n",
        "scaler=StandardScaler()\n",
        "scaler.fit(final_train[feature_scale])\n",
        "X=final_train[categorical_cols]\n",
        "y=final_train[\"mm_account_cancelled\"]\n",
        "\n",
        "# Build a logreg and compute the feature importances\n",
        "model = LogisticRegression()\n",
        "# create the RFE model and select 8 attributes\n",
        "rfe = RFE(model, 8)\n",
        "rfe = rfe.fit(X, y)\n",
        "# summarize the selection of the attributes\n",
        "print('Selected features: %s' % list(X.columns[rfe.support_]))"
      ],
      "execution_count": 47,
      "outputs": [
        {
          "output_type": "stream",
          "text": [
            "/usr/local/lib/python3.7/dist-packages/sklearn/utils/extmath.py:765: RuntimeWarning: invalid value encountered in true_divide\n",
            "  updated_mean = (last_sum + new_sum) / updated_sample_count\n",
            "/usr/local/lib/python3.7/dist-packages/sklearn/utils/extmath.py:706: RuntimeWarning: Degrees of freedom <= 0 for slice.\n",
            "  result = op(x, *args, **kwargs)\n"
          ],
          "name": "stderr"
        },
        {
          "output_type": "error",
          "ename": "ValueError",
          "evalue": "ignored",
          "traceback": [
            "\u001b[0;31m---------------------------------------------------------------------------\u001b[0m",
            "\u001b[0;31mValueError\u001b[0m                                Traceback (most recent call last)",
            "\u001b[0;32m<ipython-input-47-065fc2e6dbea>\u001b[0m in \u001b[0;36m<module>\u001b[0;34m()\u001b[0m\n\u001b[1;32m     48\u001b[0m \u001b[0;31m# create the RFE model and select 8 attributes\u001b[0m\u001b[0;34m\u001b[0m\u001b[0;34m\u001b[0m\u001b[0;34m\u001b[0m\u001b[0m\n\u001b[1;32m     49\u001b[0m \u001b[0mrfe\u001b[0m \u001b[0;34m=\u001b[0m \u001b[0mRFE\u001b[0m\u001b[0;34m(\u001b[0m\u001b[0mmodel\u001b[0m\u001b[0;34m,\u001b[0m \u001b[0;36m8\u001b[0m\u001b[0;34m)\u001b[0m\u001b[0;34m\u001b[0m\u001b[0;34m\u001b[0m\u001b[0m\n\u001b[0;32m---> 50\u001b[0;31m \u001b[0mrfe\u001b[0m \u001b[0;34m=\u001b[0m \u001b[0mrfe\u001b[0m\u001b[0;34m.\u001b[0m\u001b[0mfit\u001b[0m\u001b[0;34m(\u001b[0m\u001b[0mX\u001b[0m\u001b[0;34m,\u001b[0m \u001b[0my\u001b[0m\u001b[0;34m)\u001b[0m\u001b[0;34m\u001b[0m\u001b[0;34m\u001b[0m\u001b[0m\n\u001b[0m\u001b[1;32m     51\u001b[0m \u001b[0;31m# summarize the selection of the attributes\u001b[0m\u001b[0;34m\u001b[0m\u001b[0;34m\u001b[0m\u001b[0;34m\u001b[0m\u001b[0m\n\u001b[1;32m     52\u001b[0m \u001b[0mprint\u001b[0m\u001b[0;34m(\u001b[0m\u001b[0;34m'Selected features: %s'\u001b[0m \u001b[0;34m%\u001b[0m \u001b[0mlist\u001b[0m\u001b[0;34m(\u001b[0m\u001b[0mX\u001b[0m\u001b[0;34m.\u001b[0m\u001b[0mcolumns\u001b[0m\u001b[0;34m[\u001b[0m\u001b[0mrfe\u001b[0m\u001b[0;34m.\u001b[0m\u001b[0msupport_\u001b[0m\u001b[0;34m]\u001b[0m\u001b[0;34m)\u001b[0m\u001b[0;34m)\u001b[0m\u001b[0;34m\u001b[0m\u001b[0;34m\u001b[0m\u001b[0m\n",
            "\u001b[0;32m/usr/local/lib/python3.7/dist-packages/sklearn/feature_selection/_rfe.py\u001b[0m in \u001b[0;36mfit\u001b[0;34m(self, X, y)\u001b[0m\n\u001b[1;32m    147\u001b[0m             \u001b[0mThe\u001b[0m \u001b[0mtarget\u001b[0m \u001b[0mvalues\u001b[0m\u001b[0;34m.\u001b[0m\u001b[0;34m\u001b[0m\u001b[0;34m\u001b[0m\u001b[0m\n\u001b[1;32m    148\u001b[0m         \"\"\"\n\u001b[0;32m--> 149\u001b[0;31m         \u001b[0;32mreturn\u001b[0m \u001b[0mself\u001b[0m\u001b[0;34m.\u001b[0m\u001b[0m_fit\u001b[0m\u001b[0;34m(\u001b[0m\u001b[0mX\u001b[0m\u001b[0;34m,\u001b[0m \u001b[0my\u001b[0m\u001b[0;34m)\u001b[0m\u001b[0;34m\u001b[0m\u001b[0;34m\u001b[0m\u001b[0m\n\u001b[0m\u001b[1;32m    150\u001b[0m \u001b[0;34m\u001b[0m\u001b[0m\n\u001b[1;32m    151\u001b[0m     \u001b[0;32mdef\u001b[0m \u001b[0m_fit\u001b[0m\u001b[0;34m(\u001b[0m\u001b[0mself\u001b[0m\u001b[0;34m,\u001b[0m \u001b[0mX\u001b[0m\u001b[0;34m,\u001b[0m \u001b[0my\u001b[0m\u001b[0;34m,\u001b[0m \u001b[0mstep_score\u001b[0m\u001b[0;34m=\u001b[0m\u001b[0;32mNone\u001b[0m\u001b[0;34m)\u001b[0m\u001b[0;34m:\u001b[0m\u001b[0;34m\u001b[0m\u001b[0;34m\u001b[0m\u001b[0m\n",
            "\u001b[0;32m/usr/local/lib/python3.7/dist-packages/sklearn/feature_selection/_rfe.py\u001b[0m in \u001b[0;36m_fit\u001b[0;34m(self, X, y, step_score)\u001b[0m\n\u001b[1;32m    157\u001b[0m         \u001b[0mtags\u001b[0m \u001b[0;34m=\u001b[0m \u001b[0mself\u001b[0m\u001b[0;34m.\u001b[0m\u001b[0m_get_tags\u001b[0m\u001b[0;34m(\u001b[0m\u001b[0;34m)\u001b[0m\u001b[0;34m\u001b[0m\u001b[0;34m\u001b[0m\u001b[0m\n\u001b[1;32m    158\u001b[0m         X, y = check_X_y(X, y, \"csc\", ensure_min_features=2,\n\u001b[0;32m--> 159\u001b[0;31m                          force_all_finite=not tags.get('allow_nan', True))\n\u001b[0m\u001b[1;32m    160\u001b[0m         \u001b[0;31m# Initialization\u001b[0m\u001b[0;34m\u001b[0m\u001b[0;34m\u001b[0m\u001b[0;34m\u001b[0m\u001b[0m\n\u001b[1;32m    161\u001b[0m         \u001b[0mn_features\u001b[0m \u001b[0;34m=\u001b[0m \u001b[0mX\u001b[0m\u001b[0;34m.\u001b[0m\u001b[0mshape\u001b[0m\u001b[0;34m[\u001b[0m\u001b[0;36m1\u001b[0m\u001b[0;34m]\u001b[0m\u001b[0;34m\u001b[0m\u001b[0;34m\u001b[0m\u001b[0m\n",
            "\u001b[0;32m/usr/local/lib/python3.7/dist-packages/sklearn/utils/validation.py\u001b[0m in \u001b[0;36mcheck_X_y\u001b[0;34m(X, y, accept_sparse, accept_large_sparse, dtype, order, copy, force_all_finite, ensure_2d, allow_nd, multi_output, ensure_min_samples, ensure_min_features, y_numeric, warn_on_dtype, estimator)\u001b[0m\n\u001b[1;32m    753\u001b[0m                     \u001b[0mensure_min_features\u001b[0m\u001b[0;34m=\u001b[0m\u001b[0mensure_min_features\u001b[0m\u001b[0;34m,\u001b[0m\u001b[0;34m\u001b[0m\u001b[0;34m\u001b[0m\u001b[0m\n\u001b[1;32m    754\u001b[0m                     \u001b[0mwarn_on_dtype\u001b[0m\u001b[0;34m=\u001b[0m\u001b[0mwarn_on_dtype\u001b[0m\u001b[0;34m,\u001b[0m\u001b[0;34m\u001b[0m\u001b[0;34m\u001b[0m\u001b[0m\n\u001b[0;32m--> 755\u001b[0;31m                     estimator=estimator)\n\u001b[0m\u001b[1;32m    756\u001b[0m     \u001b[0;32mif\u001b[0m \u001b[0mmulti_output\u001b[0m\u001b[0;34m:\u001b[0m\u001b[0;34m\u001b[0m\u001b[0;34m\u001b[0m\u001b[0m\n\u001b[1;32m    757\u001b[0m         y = check_array(y, 'csr', force_all_finite=True, ensure_2d=False,\n",
            "\u001b[0;32m/usr/local/lib/python3.7/dist-packages/sklearn/utils/validation.py\u001b[0m in \u001b[0;36mcheck_array\u001b[0;34m(array, accept_sparse, accept_large_sparse, dtype, order, copy, force_all_finite, ensure_2d, allow_nd, ensure_min_samples, ensure_min_features, warn_on_dtype, estimator)\u001b[0m\n\u001b[1;32m    529\u001b[0m                     \u001b[0marray\u001b[0m \u001b[0;34m=\u001b[0m \u001b[0marray\u001b[0m\u001b[0;34m.\u001b[0m\u001b[0mastype\u001b[0m\u001b[0;34m(\u001b[0m\u001b[0mdtype\u001b[0m\u001b[0;34m,\u001b[0m \u001b[0mcasting\u001b[0m\u001b[0;34m=\u001b[0m\u001b[0;34m\"unsafe\"\u001b[0m\u001b[0;34m,\u001b[0m \u001b[0mcopy\u001b[0m\u001b[0;34m=\u001b[0m\u001b[0;32mFalse\u001b[0m\u001b[0;34m)\u001b[0m\u001b[0;34m\u001b[0m\u001b[0;34m\u001b[0m\u001b[0m\n\u001b[1;32m    530\u001b[0m                 \u001b[0;32melse\u001b[0m\u001b[0;34m:\u001b[0m\u001b[0;34m\u001b[0m\u001b[0;34m\u001b[0m\u001b[0m\n\u001b[0;32m--> 531\u001b[0;31m                     \u001b[0marray\u001b[0m \u001b[0;34m=\u001b[0m \u001b[0mnp\u001b[0m\u001b[0;34m.\u001b[0m\u001b[0masarray\u001b[0m\u001b[0;34m(\u001b[0m\u001b[0marray\u001b[0m\u001b[0;34m,\u001b[0m \u001b[0morder\u001b[0m\u001b[0;34m=\u001b[0m\u001b[0morder\u001b[0m\u001b[0;34m,\u001b[0m \u001b[0mdtype\u001b[0m\u001b[0;34m=\u001b[0m\u001b[0mdtype\u001b[0m\u001b[0;34m)\u001b[0m\u001b[0;34m\u001b[0m\u001b[0;34m\u001b[0m\u001b[0m\n\u001b[0m\u001b[1;32m    532\u001b[0m             \u001b[0;32mexcept\u001b[0m \u001b[0mComplexWarning\u001b[0m\u001b[0;34m:\u001b[0m\u001b[0;34m\u001b[0m\u001b[0;34m\u001b[0m\u001b[0m\n\u001b[1;32m    533\u001b[0m                 raise ValueError(\"Complex data not supported\\n\"\n",
            "\u001b[0;32m/usr/local/lib/python3.7/dist-packages/numpy/core/_asarray.py\u001b[0m in \u001b[0;36masarray\u001b[0;34m(a, dtype, order)\u001b[0m\n\u001b[1;32m     81\u001b[0m \u001b[0;34m\u001b[0m\u001b[0m\n\u001b[1;32m     82\u001b[0m     \"\"\"\n\u001b[0;32m---> 83\u001b[0;31m     \u001b[0;32mreturn\u001b[0m \u001b[0marray\u001b[0m\u001b[0;34m(\u001b[0m\u001b[0ma\u001b[0m\u001b[0;34m,\u001b[0m \u001b[0mdtype\u001b[0m\u001b[0;34m,\u001b[0m \u001b[0mcopy\u001b[0m\u001b[0;34m=\u001b[0m\u001b[0;32mFalse\u001b[0m\u001b[0;34m,\u001b[0m \u001b[0morder\u001b[0m\u001b[0;34m=\u001b[0m\u001b[0morder\u001b[0m\u001b[0;34m)\u001b[0m\u001b[0;34m\u001b[0m\u001b[0;34m\u001b[0m\u001b[0m\n\u001b[0m\u001b[1;32m     84\u001b[0m \u001b[0;34m\u001b[0m\u001b[0m\n\u001b[1;32m     85\u001b[0m \u001b[0;34m\u001b[0m\u001b[0m\n",
            "\u001b[0;32m/usr/local/lib/python3.7/dist-packages/pandas/core/generic.py\u001b[0m in \u001b[0;36m__array__\u001b[0;34m(self, dtype)\u001b[0m\n\u001b[1;32m   1779\u001b[0m \u001b[0;34m\u001b[0m\u001b[0m\n\u001b[1;32m   1780\u001b[0m     \u001b[0;32mdef\u001b[0m \u001b[0m__array__\u001b[0m\u001b[0;34m(\u001b[0m\u001b[0mself\u001b[0m\u001b[0;34m,\u001b[0m \u001b[0mdtype\u001b[0m\u001b[0;34m=\u001b[0m\u001b[0;32mNone\u001b[0m\u001b[0;34m)\u001b[0m \u001b[0;34m->\u001b[0m \u001b[0mnp\u001b[0m\u001b[0;34m.\u001b[0m\u001b[0mndarray\u001b[0m\u001b[0;34m:\u001b[0m\u001b[0;34m\u001b[0m\u001b[0;34m\u001b[0m\u001b[0m\n\u001b[0;32m-> 1781\u001b[0;31m         \u001b[0;32mreturn\u001b[0m \u001b[0mnp\u001b[0m\u001b[0;34m.\u001b[0m\u001b[0masarray\u001b[0m\u001b[0;34m(\u001b[0m\u001b[0mself\u001b[0m\u001b[0;34m.\u001b[0m\u001b[0m_values\u001b[0m\u001b[0;34m,\u001b[0m \u001b[0mdtype\u001b[0m\u001b[0;34m=\u001b[0m\u001b[0mdtype\u001b[0m\u001b[0;34m)\u001b[0m\u001b[0;34m\u001b[0m\u001b[0;34m\u001b[0m\u001b[0m\n\u001b[0m\u001b[1;32m   1782\u001b[0m \u001b[0;34m\u001b[0m\u001b[0m\n\u001b[1;32m   1783\u001b[0m     \u001b[0;32mdef\u001b[0m \u001b[0m__array_wrap__\u001b[0m\u001b[0;34m(\u001b[0m\u001b[0mself\u001b[0m\u001b[0;34m,\u001b[0m \u001b[0mresult\u001b[0m\u001b[0;34m,\u001b[0m \u001b[0mcontext\u001b[0m\u001b[0;34m=\u001b[0m\u001b[0;32mNone\u001b[0m\u001b[0;34m)\u001b[0m\u001b[0;34m:\u001b[0m\u001b[0;34m\u001b[0m\u001b[0;34m\u001b[0m\u001b[0m\n",
            "\u001b[0;32m/usr/local/lib/python3.7/dist-packages/numpy/core/_asarray.py\u001b[0m in \u001b[0;36masarray\u001b[0;34m(a, dtype, order)\u001b[0m\n\u001b[1;32m     81\u001b[0m \u001b[0;34m\u001b[0m\u001b[0m\n\u001b[1;32m     82\u001b[0m     \"\"\"\n\u001b[0;32m---> 83\u001b[0;31m     \u001b[0;32mreturn\u001b[0m \u001b[0marray\u001b[0m\u001b[0;34m(\u001b[0m\u001b[0ma\u001b[0m\u001b[0;34m,\u001b[0m \u001b[0mdtype\u001b[0m\u001b[0;34m,\u001b[0m \u001b[0mcopy\u001b[0m\u001b[0;34m=\u001b[0m\u001b[0;32mFalse\u001b[0m\u001b[0;34m,\u001b[0m \u001b[0morder\u001b[0m\u001b[0;34m=\u001b[0m\u001b[0morder\u001b[0m\u001b[0;34m)\u001b[0m\u001b[0;34m\u001b[0m\u001b[0;34m\u001b[0m\u001b[0m\n\u001b[0m\u001b[1;32m     84\u001b[0m \u001b[0;34m\u001b[0m\u001b[0m\n\u001b[1;32m     85\u001b[0m \u001b[0;34m\u001b[0m\u001b[0m\n",
            "\u001b[0;31mValueError\u001b[0m: could not convert string to float: 'primary 6'"
          ]
        }
      ]
    },
    {
      "cell_type": "code",
      "metadata": {
        "id": "_ivICzjcKRez"
      },
      "source": [
        ""
      ],
      "execution_count": null,
      "outputs": []
    },
    {
      "cell_type": "code",
      "metadata": {
        "id": "N1WbDtHjKRkm"
      },
      "source": [
        ""
      ],
      "execution_count": null,
      "outputs": []
    },
    {
      "cell_type": "code",
      "metadata": {
        "id": "ide8OdaMKRsh"
      },
      "source": [
        ""
      ],
      "execution_count": null,
      "outputs": []
    }
  ]
}