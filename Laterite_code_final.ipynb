{
  "nbformat": 4,
  "nbformat_minor": 0,
  "metadata": {
    "colab": {
      "name": "Laterite_code_final.ipynb",
      "provenance": []
    },
    "kernelspec": {
      "name": "python3",
      "display_name": "Python 3"
    },
    "language_info": {
      "name": "python"
    }
  },
  "cells": [
    {
      "cell_type": "code",
      "metadata": {
        "colab": {
          "base_uri": "https://localhost:8080/"
        },
        "id": "JEyPJpg9VR-N",
        "outputId": "33fa6440-23de-4d22-a87b-7b2e8631e68e"
      },
      "source": [
        "from google.colab import drive \n",
        "drive.mount('/content/drive')"
      ],
      "execution_count": 1,
      "outputs": [
        {
          "output_type": "stream",
          "name": "stdout",
          "text": [
            "Mounted at /content/drive\n"
          ]
        }
      ]
    },
    {
      "cell_type": "code",
      "metadata": {
        "colab": {
          "base_uri": "https://localhost:8080/"
        },
        "id": "UAciIaTtVkgi",
        "outputId": "6100bbbb-29dd-4374-863c-68685f0affe1"
      },
      "source": [
        "import pandas as pd\n",
        "import numpy as np\n",
        "import matplotlib.pyplot as plt \n",
        "import seaborn as sns\n",
        "from sklearn import metrics\n",
        "from sklearn.model_selection import train_test_split\n",
        "from sklearn.metrics import classification_report, confusion_matrix, accuracy_score, roc_auc_score, roc_curve, recall_score\n",
        "from sklearn.model_selection import GridSearchCV, RepeatedStratifiedKFold, RandomizedSearchCV, cross_val_score\n",
        "from sklearn.discriminant_analysis import LinearDiscriminantAnalysis, QuadraticDiscriminantAnalysis\n",
        "from sklearn.neighbors import KNeighborsClassifier\n",
        "from sklearn.tree import DecisionTreeClassifier\n",
        "import xgboost as xgb\n",
        "from xgboost import XGBClassifier\n",
        "from sklearn.linear_model import LogisticRegression\n",
        "from sklearn.naive_bayes import GaussianNB\n",
        "from sklearn.svm import SVC \n",
        "from sklearn.ensemble import RandomForestClassifier,VotingClassifier\n",
        "from imblearn.under_sampling import RandomUnderSampler\n",
        "from imblearn.over_sampling import RandomOverSampler, SMOTE\n",
        "from collections import Counter\n",
        "from pprint import pprint\n",
        "from scipy import stats\n",
        "from sklearn.preprocessing import StandardScaler"
      ],
      "execution_count": 2,
      "outputs": [
        {
          "output_type": "stream",
          "name": "stderr",
          "text": [
            "/usr/local/lib/python3.7/dist-packages/sklearn/externals/six.py:31: FutureWarning: The module is deprecated in version 0.21 and will be removed in version 0.23 since we've dropped support for Python 2.7. Please rely on the official version of six (https://pypi.org/project/six/).\n",
            "  \"(https://pypi.org/project/six/).\", FutureWarning)\n",
            "/usr/local/lib/python3.7/dist-packages/sklearn/utils/deprecation.py:144: FutureWarning: The sklearn.neighbors.base module is  deprecated in version 0.22 and will be removed in version 0.24. The corresponding classes / functions should instead be imported from sklearn.neighbors. Anything that cannot be imported from sklearn.neighbors is now part of the private API.\n",
            "  warnings.warn(message, FutureWarning)\n"
          ]
        }
      ]
    },
    {
      "cell_type": "code",
      "metadata": {
        "id": "noVygr8CVpYn"
      },
      "source": [
        "df = pd.read_csv(\"/content/drive/MyDrive/laterite_mobilemoney_data.csv\")"
      ],
      "execution_count": 3,
      "outputs": []
    },
    {
      "cell_type": "code",
      "metadata": {
        "colab": {
          "base_uri": "https://localhost:8080/"
        },
        "id": "Lc6A4Qh_yxbk",
        "outputId": "d074aa13-aee8-4a93-b86a-31a50c320461"
      },
      "source": [
        "df['hhid'].nunique()"
      ],
      "execution_count": 4,
      "outputs": [
        {
          "output_type": "execute_result",
          "data": {
            "text/plain": [
              "1205"
            ]
          },
          "metadata": {},
          "execution_count": 4
        }
      ]
    },
    {
      "cell_type": "code",
      "metadata": {
        "id": "VLW-LieCWm6b"
      },
      "source": [
        "df['account_type_index'] = df.groupby('hhid').cumcount()"
      ],
      "execution_count": 5,
      "outputs": []
    },
    {
      "cell_type": "code",
      "metadata": {
        "colab": {
          "base_uri": "https://localhost:8080/"
        },
        "id": "XE0rpWi0bw5y",
        "outputId": "c6e6068b-7e16-47fe-e472-973e926dd94a"
      },
      "source": [
        "print(df.pivot(index='hhid',columns='account_type_index')[['account_type']])"
      ],
      "execution_count": null,
      "outputs": [
        {
          "output_type": "stream",
          "name": "stdout",
          "text": [
            "                     account_type                 ...                   \n",
            "account_type_index              0              1  ...             3    4\n",
            "hhid                                              ...                   \n",
            "1001                 Mobile Money   Bank Account  ...           NaN  NaN\n",
            "1002                SACCO Account   VSLA Account  ...           NaN  NaN\n",
            "1003                 Mobile Money   Bank Account  ...           NaN  NaN\n",
            "1004                 Mobile Money   Bank Account  ...           NaN  NaN\n",
            "1005                 Mobile Money   VSLA Account  ...           NaN  NaN\n",
            "...                           ...            ...  ...           ...  ...\n",
            "2201                 Mobile Money  SACCO Account  ...           NaN  NaN\n",
            "2202                 Mobile Money   VSLA Account  ...           NaN  NaN\n",
            "2203                         None            NaN  ...           NaN  NaN\n",
            "2204                 VSLA Account            NaN  ...           NaN  NaN\n",
            "2205                 Mobile Money   Bank Account  ...  VSLA Account  NaN\n",
            "\n",
            "[1205 rows x 5 columns]\n"
          ]
        }
      ]
    },
    {
      "cell_type": "code",
      "metadata": {
        "id": "Qa-fpQrUFCu5"
      },
      "source": [
        "#df['idx'] = df.groupby('Salesman').cumcount()\n",
        "\n",
        "tmp = []\n",
        "for var in ['account_type']:\n",
        "    df['tmp_idx'] = var + '_' + df.account_type_index.astype(str)\n",
        "    tmp.append(df.pivot(index='hhid',columns='tmp_idx',values=var))\n",
        "\n",
        "reshape = pd.concat(tmp,axis=1)"
      ],
      "execution_count": 6,
      "outputs": []
    },
    {
      "cell_type": "code",
      "metadata": {
        "colab": {
          "base_uri": "https://localhost:8080/",
          "height": 230
        },
        "id": "K9IyHdSpFfvA",
        "outputId": "c5ed946f-93c7-4c4e-d8f3-e87bb7cf9a23"
      },
      "source": [
        "reshape.head()"
      ],
      "execution_count": null,
      "outputs": [
        {
          "output_type": "execute_result",
          "data": {
            "text/html": [
              "<div>\n",
              "<style scoped>\n",
              "    .dataframe tbody tr th:only-of-type {\n",
              "        vertical-align: middle;\n",
              "    }\n",
              "\n",
              "    .dataframe tbody tr th {\n",
              "        vertical-align: top;\n",
              "    }\n",
              "\n",
              "    .dataframe thead th {\n",
              "        text-align: right;\n",
              "    }\n",
              "</style>\n",
              "<table border=\"1\" class=\"dataframe\">\n",
              "  <thead>\n",
              "    <tr style=\"text-align: right;\">\n",
              "      <th>tmp_idx</th>\n",
              "      <th>account_type_0</th>\n",
              "      <th>account_type_1</th>\n",
              "      <th>account_type_2</th>\n",
              "      <th>account_type_3</th>\n",
              "      <th>account_type_4</th>\n",
              "    </tr>\n",
              "    <tr>\n",
              "      <th>hhid</th>\n",
              "      <th></th>\n",
              "      <th></th>\n",
              "      <th></th>\n",
              "      <th></th>\n",
              "      <th></th>\n",
              "    </tr>\n",
              "  </thead>\n",
              "  <tbody>\n",
              "    <tr>\n",
              "      <th>1001</th>\n",
              "      <td>Mobile Money</td>\n",
              "      <td>Bank Account</td>\n",
              "      <td>VSLA Account</td>\n",
              "      <td>NaN</td>\n",
              "      <td>NaN</td>\n",
              "    </tr>\n",
              "    <tr>\n",
              "      <th>1002</th>\n",
              "      <td>SACCO Account</td>\n",
              "      <td>VSLA Account</td>\n",
              "      <td>NaN</td>\n",
              "      <td>NaN</td>\n",
              "      <td>NaN</td>\n",
              "    </tr>\n",
              "    <tr>\n",
              "      <th>1003</th>\n",
              "      <td>Mobile Money</td>\n",
              "      <td>Bank Account</td>\n",
              "      <td>NaN</td>\n",
              "      <td>NaN</td>\n",
              "      <td>NaN</td>\n",
              "    </tr>\n",
              "    <tr>\n",
              "      <th>1004</th>\n",
              "      <td>Mobile Money</td>\n",
              "      <td>Bank Account</td>\n",
              "      <td>SACCO Account</td>\n",
              "      <td>NaN</td>\n",
              "      <td>NaN</td>\n",
              "    </tr>\n",
              "    <tr>\n",
              "      <th>1005</th>\n",
              "      <td>Mobile Money</td>\n",
              "      <td>VSLA Account</td>\n",
              "      <td>NaN</td>\n",
              "      <td>NaN</td>\n",
              "      <td>NaN</td>\n",
              "    </tr>\n",
              "  </tbody>\n",
              "</table>\n",
              "</div>"
            ],
            "text/plain": [
              "tmp_idx account_type_0 account_type_1  ... account_type_3 account_type_4\n",
              "hhid                                   ...                              \n",
              "1001      Mobile Money   Bank Account  ...            NaN            NaN\n",
              "1002     SACCO Account   VSLA Account  ...            NaN            NaN\n",
              "1003      Mobile Money   Bank Account  ...            NaN            NaN\n",
              "1004      Mobile Money   Bank Account  ...            NaN            NaN\n",
              "1005      Mobile Money   VSLA Account  ...            NaN            NaN\n",
              "\n",
              "[5 rows x 5 columns]"
            ]
          },
          "metadata": {},
          "execution_count": 8
        }
      ]
    },
    {
      "cell_type": "code",
      "metadata": {
        "id": "jWSJn3oYFfyo"
      },
      "source": [
        "dataset = pd.merge(df, reshape, on='hhid')"
      ],
      "execution_count": 7,
      "outputs": []
    },
    {
      "cell_type": "code",
      "metadata": {
        "colab": {
          "base_uri": "https://localhost:8080/"
        },
        "id": "JWnWaYeVFf2A",
        "outputId": "749ee2b3-7ff7-478f-86df-0688c277831e"
      },
      "source": [
        "print(dataset)"
      ],
      "execution_count": null,
      "outputs": [
        {
          "output_type": "stream",
          "name": "stdout",
          "text": [
            "                    start_time  ... account_type_4\n",
            "0      Oct 28, 2019 9:05:08 AM  ...            NaN\n",
            "1     Oct 28, 2019 10:42:17 AM  ...            NaN\n",
            "2     Oct 28, 2019 11:47:47 AM  ...            NaN\n",
            "3      Oct 28, 2019 1:02:33 PM  ...            NaN\n",
            "4      Oct 28, 2019 2:01:04 PM  ...            NaN\n",
            "...                        ...  ...            ...\n",
            "2437    Nov 4, 2019 1:52:43 PM  ...            NaN\n",
            "2438    Nov 5, 2019 2:59:48 PM  ...            NaN\n",
            "2439    Nov 5, 2019 3:54:18 PM  ...            NaN\n",
            "2440    Nov 5, 2019 5:25:47 PM  ...            NaN\n",
            "2441   Nov 6, 2019 11:05:26 AM  ...            NaN\n",
            "\n",
            "[2442 rows x 36 columns]\n"
          ]
        }
      ]
    },
    {
      "cell_type": "code",
      "metadata": {
        "id": "3GkF6fVCKEKB"
      },
      "source": [
        "#dataset.head(5)"
      ],
      "execution_count": null,
      "outputs": []
    },
    {
      "cell_type": "code",
      "metadata": {
        "colab": {
          "base_uri": "https://localhost:8080/",
          "height": 965
        },
        "id": "80g7XR9NKq39",
        "outputId": "ba4df186-6d93-4ca7-c00f-e1698553a19f"
      },
      "source": [
        "dataset.drop_duplicates(subset =[\"hhid\"], keep= \"first\")\n",
        "#dataset[dataset.duplicated()]\n",
        "\n",
        "\n",
        "#df = df.drop_duplicates(subset=['Column1','Column2'],keep='first')"
      ],
      "execution_count": 8,
      "outputs": [
        {
          "output_type": "execute_result",
          "data": {
            "text/html": [
              "<div>\n",
              "<style scoped>\n",
              "    .dataframe tbody tr th:only-of-type {\n",
              "        vertical-align: middle;\n",
              "    }\n",
              "\n",
              "    .dataframe tbody tr th {\n",
              "        vertical-align: top;\n",
              "    }\n",
              "\n",
              "    .dataframe thead th {\n",
              "        text-align: right;\n",
              "    }\n",
              "</style>\n",
              "<table border=\"1\" class=\"dataframe\">\n",
              "  <thead>\n",
              "    <tr style=\"text-align: right;\">\n",
              "      <th></th>\n",
              "      <th>start_time</th>\n",
              "      <th>end_time</th>\n",
              "      <th>hhid</th>\n",
              "      <th>account_num</th>\n",
              "      <th>account_type</th>\n",
              "      <th>weight</th>\n",
              "      <th>district</th>\n",
              "      <th>urban</th>\n",
              "      <th>gender</th>\n",
              "      <th>age</th>\n",
              "      <th>hh_members</th>\n",
              "      <th>highest_grade_completed</th>\n",
              "      <th>mm_account_cancelled</th>\n",
              "      <th>prefer_cash</th>\n",
              "      <th>mm_trust</th>\n",
              "      <th>mm_account_telco</th>\n",
              "      <th>mm_account_telco_main</th>\n",
              "      <th>v234</th>\n",
              "      <th>agent_trust</th>\n",
              "      <th>v236</th>\n",
              "      <th>v237</th>\n",
              "      <th>v238</th>\n",
              "      <th>v240</th>\n",
              "      <th>v241</th>\n",
              "      <th>v242</th>\n",
              "      <th>v243</th>\n",
              "      <th>v244</th>\n",
              "      <th>v245</th>\n",
              "      <th>v246</th>\n",
              "      <th>account_type_index</th>\n",
              "      <th>tmp_idx</th>\n",
              "      <th>account_type_0</th>\n",
              "      <th>account_type_1</th>\n",
              "      <th>account_type_2</th>\n",
              "      <th>account_type_3</th>\n",
              "      <th>account_type_4</th>\n",
              "    </tr>\n",
              "  </thead>\n",
              "  <tbody>\n",
              "    <tr>\n",
              "      <th>0</th>\n",
              "      <td>Oct 28, 2019 9:05:08 AM</td>\n",
              "      <td>Oct 28, 2019 10:38:45 AM</td>\n",
              "      <td>1001</td>\n",
              "      <td>1</td>\n",
              "      <td>Mobile Money</td>\n",
              "      <td>145.94444</td>\n",
              "      <td>District_A</td>\n",
              "      <td>Urban</td>\n",
              "      <td>male</td>\n",
              "      <td>32</td>\n",
              "      <td>1</td>\n",
              "      <td>primary 6</td>\n",
              "      <td>no</td>\n",
              "      <td>yes</td>\n",
              "      <td>no</td>\n",
              "      <td>Company_A Company_B</td>\n",
              "      <td>Company_A</td>\n",
              "      <td>yes</td>\n",
              "      <td>no</td>\n",
              "      <td>NaN</td>\n",
              "      <td>yes</td>\n",
              "      <td>yes</td>\n",
              "      <td>no</td>\n",
              "      <td>yes</td>\n",
              "      <td>no</td>\n",
              "      <td>yes</td>\n",
              "      <td>NaN</td>\n",
              "      <td>yes</td>\n",
              "      <td>no</td>\n",
              "      <td>0</td>\n",
              "      <td>account_type_0</td>\n",
              "      <td>Mobile Money</td>\n",
              "      <td>Bank Account</td>\n",
              "      <td>VSLA Account</td>\n",
              "      <td>NaN</td>\n",
              "      <td>NaN</td>\n",
              "    </tr>\n",
              "    <tr>\n",
              "      <th>3</th>\n",
              "      <td>Oct 28, 2019 1:02:33 PM</td>\n",
              "      <td>Oct 28, 2019 1:56:43 PM</td>\n",
              "      <td>1002</td>\n",
              "      <td>1</td>\n",
              "      <td>SACCO Account</td>\n",
              "      <td>122.90667</td>\n",
              "      <td>District_B</td>\n",
              "      <td>Rural</td>\n",
              "      <td>male</td>\n",
              "      <td>32</td>\n",
              "      <td>4</td>\n",
              "      <td>primary 3</td>\n",
              "      <td>yes</td>\n",
              "      <td>yes</td>\n",
              "      <td>no</td>\n",
              "      <td>NaN</td>\n",
              "      <td>NaN</td>\n",
              "      <td>NaN</td>\n",
              "      <td>no</td>\n",
              "      <td>NaN</td>\n",
              "      <td>yes</td>\n",
              "      <td>yes</td>\n",
              "      <td>yes</td>\n",
              "      <td>no</td>\n",
              "      <td>no</td>\n",
              "      <td>no</td>\n",
              "      <td>NaN</td>\n",
              "      <td>no</td>\n",
              "      <td>no</td>\n",
              "      <td>0</td>\n",
              "      <td>account_type_0</td>\n",
              "      <td>SACCO Account</td>\n",
              "      <td>VSLA Account</td>\n",
              "      <td>NaN</td>\n",
              "      <td>NaN</td>\n",
              "      <td>NaN</td>\n",
              "    </tr>\n",
              "    <tr>\n",
              "      <th>5</th>\n",
              "      <td>Oct 28, 2019 3:03:31 PM</td>\n",
              "      <td>Oct 28, 2019 4:15:07 PM</td>\n",
              "      <td>1003</td>\n",
              "      <td>1</td>\n",
              "      <td>Mobile Money</td>\n",
              "      <td>760.46191</td>\n",
              "      <td>District_A</td>\n",
              "      <td>Urban</td>\n",
              "      <td>male</td>\n",
              "      <td>30</td>\n",
              "      <td>8</td>\n",
              "      <td>secondary 6</td>\n",
              "      <td>no</td>\n",
              "      <td>yes</td>\n",
              "      <td>no</td>\n",
              "      <td>Company_A</td>\n",
              "      <td>NaN</td>\n",
              "      <td>yes</td>\n",
              "      <td>no</td>\n",
              "      <td>NaN</td>\n",
              "      <td>no</td>\n",
              "      <td>yes</td>\n",
              "      <td>yes</td>\n",
              "      <td>yes</td>\n",
              "      <td>no</td>\n",
              "      <td>yes</td>\n",
              "      <td>yes</td>\n",
              "      <td>yes</td>\n",
              "      <td>no</td>\n",
              "      <td>0</td>\n",
              "      <td>account_type_0</td>\n",
              "      <td>Mobile Money</td>\n",
              "      <td>Bank Account</td>\n",
              "      <td>NaN</td>\n",
              "      <td>NaN</td>\n",
              "      <td>NaN</td>\n",
              "    </tr>\n",
              "    <tr>\n",
              "      <th>7</th>\n",
              "      <td>Oct 28, 2019 3:17:44 PM</td>\n",
              "      <td>Oct 28, 2019 4:35:00 PM</td>\n",
              "      <td>1004</td>\n",
              "      <td>1</td>\n",
              "      <td>Mobile Money</td>\n",
              "      <td>433.96402</td>\n",
              "      <td>District_A</td>\n",
              "      <td>Rural</td>\n",
              "      <td>male</td>\n",
              "      <td>68</td>\n",
              "      <td>4</td>\n",
              "      <td>primary 6</td>\n",
              "      <td>no</td>\n",
              "      <td>yes</td>\n",
              "      <td>no</td>\n",
              "      <td>Company_A</td>\n",
              "      <td>NaN</td>\n",
              "      <td>no</td>\n",
              "      <td>no</td>\n",
              "      <td>NaN</td>\n",
              "      <td>no</td>\n",
              "      <td>no</td>\n",
              "      <td>no</td>\n",
              "      <td>no</td>\n",
              "      <td>no</td>\n",
              "      <td>yes</td>\n",
              "      <td>NaN</td>\n",
              "      <td>no</td>\n",
              "      <td>no</td>\n",
              "      <td>0</td>\n",
              "      <td>account_type_0</td>\n",
              "      <td>Mobile Money</td>\n",
              "      <td>Bank Account</td>\n",
              "      <td>SACCO Account</td>\n",
              "      <td>NaN</td>\n",
              "      <td>NaN</td>\n",
              "    </tr>\n",
              "    <tr>\n",
              "      <th>10</th>\n",
              "      <td>Oct 28, 2019 4:25:43 PM</td>\n",
              "      <td>Oct 28, 2019 5:21:08 PM</td>\n",
              "      <td>1005</td>\n",
              "      <td>1</td>\n",
              "      <td>Mobile Money</td>\n",
              "      <td>303.04395</td>\n",
              "      <td>District_C</td>\n",
              "      <td>Rural</td>\n",
              "      <td>female</td>\n",
              "      <td>28</td>\n",
              "      <td>2</td>\n",
              "      <td>primary 6</td>\n",
              "      <td>no</td>\n",
              "      <td>yes</td>\n",
              "      <td>no</td>\n",
              "      <td>Company_B</td>\n",
              "      <td>NaN</td>\n",
              "      <td>yes</td>\n",
              "      <td>no</td>\n",
              "      <td>no</td>\n",
              "      <td>yes</td>\n",
              "      <td>yes</td>\n",
              "      <td>yes</td>\n",
              "      <td>yes</td>\n",
              "      <td>no</td>\n",
              "      <td>yes</td>\n",
              "      <td>NaN</td>\n",
              "      <td>no</td>\n",
              "      <td>no</td>\n",
              "      <td>0</td>\n",
              "      <td>account_type_0</td>\n",
              "      <td>Mobile Money</td>\n",
              "      <td>VSLA Account</td>\n",
              "      <td>NaN</td>\n",
              "      <td>NaN</td>\n",
              "      <td>NaN</td>\n",
              "    </tr>\n",
              "    <tr>\n",
              "      <th>...</th>\n",
              "      <td>...</td>\n",
              "      <td>...</td>\n",
              "      <td>...</td>\n",
              "      <td>...</td>\n",
              "      <td>...</td>\n",
              "      <td>...</td>\n",
              "      <td>...</td>\n",
              "      <td>...</td>\n",
              "      <td>...</td>\n",
              "      <td>...</td>\n",
              "      <td>...</td>\n",
              "      <td>...</td>\n",
              "      <td>...</td>\n",
              "      <td>...</td>\n",
              "      <td>...</td>\n",
              "      <td>...</td>\n",
              "      <td>...</td>\n",
              "      <td>...</td>\n",
              "      <td>...</td>\n",
              "      <td>...</td>\n",
              "      <td>...</td>\n",
              "      <td>...</td>\n",
              "      <td>...</td>\n",
              "      <td>...</td>\n",
              "      <td>...</td>\n",
              "      <td>...</td>\n",
              "      <td>...</td>\n",
              "      <td>...</td>\n",
              "      <td>...</td>\n",
              "      <td>...</td>\n",
              "      <td>...</td>\n",
              "      <td>...</td>\n",
              "      <td>...</td>\n",
              "      <td>...</td>\n",
              "      <td>...</td>\n",
              "      <td>...</td>\n",
              "    </tr>\n",
              "    <tr>\n",
              "      <th>2431</th>\n",
              "      <td>Nov 7, 2019 9:59:56 AM</td>\n",
              "      <td>Nov 7, 2019 10:57:51 AM</td>\n",
              "      <td>2201</td>\n",
              "      <td>1</td>\n",
              "      <td>Mobile Money</td>\n",
              "      <td>406.14180</td>\n",
              "      <td>District_B</td>\n",
              "      <td>Rural</td>\n",
              "      <td>male</td>\n",
              "      <td>38</td>\n",
              "      <td>7</td>\n",
              "      <td>primary 3</td>\n",
              "      <td>no</td>\n",
              "      <td>yes</td>\n",
              "      <td>no</td>\n",
              "      <td>Company_A Company_B</td>\n",
              "      <td>Company_B</td>\n",
              "      <td>yes</td>\n",
              "      <td>no</td>\n",
              "      <td>NaN</td>\n",
              "      <td>yes</td>\n",
              "      <td>no</td>\n",
              "      <td>no</td>\n",
              "      <td>yes</td>\n",
              "      <td>no</td>\n",
              "      <td>yes</td>\n",
              "      <td>yes</td>\n",
              "      <td>yes</td>\n",
              "      <td>no</td>\n",
              "      <td>0</td>\n",
              "      <td>account_type_0</td>\n",
              "      <td>Mobile Money</td>\n",
              "      <td>SACCO Account</td>\n",
              "      <td>VSLA Account</td>\n",
              "      <td>NaN</td>\n",
              "      <td>NaN</td>\n",
              "    </tr>\n",
              "    <tr>\n",
              "      <th>2434</th>\n",
              "      <td>Oct 28, 2019 9:37:33 AM</td>\n",
              "      <td>Oct 28, 2019 11:11:40 AM</td>\n",
              "      <td>2202</td>\n",
              "      <td>1</td>\n",
              "      <td>Mobile Money</td>\n",
              "      <td>172.01519</td>\n",
              "      <td>District_C</td>\n",
              "      <td>Rural</td>\n",
              "      <td>male</td>\n",
              "      <td>35</td>\n",
              "      <td>4</td>\n",
              "      <td>primary 6</td>\n",
              "      <td>no</td>\n",
              "      <td>yes</td>\n",
              "      <td>no</td>\n",
              "      <td>Company_B</td>\n",
              "      <td>NaN</td>\n",
              "      <td>yes</td>\n",
              "      <td>NaN</td>\n",
              "      <td>NaN</td>\n",
              "      <td>no</td>\n",
              "      <td>yes</td>\n",
              "      <td>no</td>\n",
              "      <td>no</td>\n",
              "      <td>no</td>\n",
              "      <td>yes</td>\n",
              "      <td>NaN</td>\n",
              "      <td>no</td>\n",
              "      <td>no</td>\n",
              "      <td>0</td>\n",
              "      <td>account_type_0</td>\n",
              "      <td>Mobile Money</td>\n",
              "      <td>VSLA Account</td>\n",
              "      <td>NaN</td>\n",
              "      <td>NaN</td>\n",
              "      <td>NaN</td>\n",
              "    </tr>\n",
              "    <tr>\n",
              "      <th>2436</th>\n",
              "      <td>Nov 4, 2019 10:43:40 AM</td>\n",
              "      <td>Nov 4, 2019 11:48:21 AM</td>\n",
              "      <td>2203</td>\n",
              "      <td>1</td>\n",
              "      <td>None</td>\n",
              "      <td>103.26880</td>\n",
              "      <td>District_C</td>\n",
              "      <td>Rural</td>\n",
              "      <td>female</td>\n",
              "      <td>18</td>\n",
              "      <td>7</td>\n",
              "      <td>primary 6</td>\n",
              "      <td>no</td>\n",
              "      <td>yes</td>\n",
              "      <td>NaN</td>\n",
              "      <td>NaN</td>\n",
              "      <td>NaN</td>\n",
              "      <td>NaN</td>\n",
              "      <td>NaN</td>\n",
              "      <td>NaN</td>\n",
              "      <td>NaN</td>\n",
              "      <td>NaN</td>\n",
              "      <td>NaN</td>\n",
              "      <td>NaN</td>\n",
              "      <td>NaN</td>\n",
              "      <td>NaN</td>\n",
              "      <td>NaN</td>\n",
              "      <td>NaN</td>\n",
              "      <td>NaN</td>\n",
              "      <td>0</td>\n",
              "      <td>account_type_0</td>\n",
              "      <td>None</td>\n",
              "      <td>NaN</td>\n",
              "      <td>NaN</td>\n",
              "      <td>NaN</td>\n",
              "      <td>NaN</td>\n",
              "    </tr>\n",
              "    <tr>\n",
              "      <th>2437</th>\n",
              "      <td>Nov 4, 2019 1:52:43 PM</td>\n",
              "      <td>Nov 4, 2019 2:59:24 PM</td>\n",
              "      <td>2204</td>\n",
              "      <td>1</td>\n",
              "      <td>VSLA Account</td>\n",
              "      <td>495.77039</td>\n",
              "      <td>District_C</td>\n",
              "      <td>Rural</td>\n",
              "      <td>female</td>\n",
              "      <td>58</td>\n",
              "      <td>6</td>\n",
              "      <td>primary 6</td>\n",
              "      <td>no</td>\n",
              "      <td>yes</td>\n",
              "      <td>no</td>\n",
              "      <td>NaN</td>\n",
              "      <td>NaN</td>\n",
              "      <td>NaN</td>\n",
              "      <td>NaN</td>\n",
              "      <td>NaN</td>\n",
              "      <td>NaN</td>\n",
              "      <td>NaN</td>\n",
              "      <td>NaN</td>\n",
              "      <td>NaN</td>\n",
              "      <td>NaN</td>\n",
              "      <td>NaN</td>\n",
              "      <td>NaN</td>\n",
              "      <td>NaN</td>\n",
              "      <td>NaN</td>\n",
              "      <td>0</td>\n",
              "      <td>account_type_0</td>\n",
              "      <td>VSLA Account</td>\n",
              "      <td>NaN</td>\n",
              "      <td>NaN</td>\n",
              "      <td>NaN</td>\n",
              "      <td>NaN</td>\n",
              "    </tr>\n",
              "    <tr>\n",
              "      <th>2438</th>\n",
              "      <td>Nov 5, 2019 2:59:48 PM</td>\n",
              "      <td>Nov 5, 2019 4:06:37 PM</td>\n",
              "      <td>2205</td>\n",
              "      <td>1</td>\n",
              "      <td>Mobile Money</td>\n",
              "      <td>666.83021</td>\n",
              "      <td>District_A</td>\n",
              "      <td>Rural</td>\n",
              "      <td>female</td>\n",
              "      <td>23</td>\n",
              "      <td>7</td>\n",
              "      <td>secondary 6</td>\n",
              "      <td>no</td>\n",
              "      <td>yes</td>\n",
              "      <td>no</td>\n",
              "      <td>Company_A Company_B</td>\n",
              "      <td>Company_A</td>\n",
              "      <td>no</td>\n",
              "      <td>no</td>\n",
              "      <td>no</td>\n",
              "      <td>yes</td>\n",
              "      <td>yes</td>\n",
              "      <td>yes</td>\n",
              "      <td>no</td>\n",
              "      <td>yes</td>\n",
              "      <td>yes</td>\n",
              "      <td>yes</td>\n",
              "      <td>no</td>\n",
              "      <td>yes</td>\n",
              "      <td>0</td>\n",
              "      <td>account_type_0</td>\n",
              "      <td>Mobile Money</td>\n",
              "      <td>Bank Account</td>\n",
              "      <td>SACCO Account</td>\n",
              "      <td>VSLA Account</td>\n",
              "      <td>NaN</td>\n",
              "    </tr>\n",
              "  </tbody>\n",
              "</table>\n",
              "<p>1205 rows × 36 columns</p>\n",
              "</div>"
            ],
            "text/plain": [
              "                   start_time  ... account_type_4\n",
              "0     Oct 28, 2019 9:05:08 AM  ...            NaN\n",
              "3     Oct 28, 2019 1:02:33 PM  ...            NaN\n",
              "5     Oct 28, 2019 3:03:31 PM  ...            NaN\n",
              "7     Oct 28, 2019 3:17:44 PM  ...            NaN\n",
              "10    Oct 28, 2019 4:25:43 PM  ...            NaN\n",
              "...                       ...  ...            ...\n",
              "2431   Nov 7, 2019 9:59:56 AM  ...            NaN\n",
              "2434  Oct 28, 2019 9:37:33 AM  ...            NaN\n",
              "2436  Nov 4, 2019 10:43:40 AM  ...            NaN\n",
              "2437   Nov 4, 2019 1:52:43 PM  ...            NaN\n",
              "2438   Nov 5, 2019 2:59:48 PM  ...            NaN\n",
              "\n",
              "[1205 rows x 36 columns]"
            ]
          },
          "metadata": {},
          "execution_count": 8
        }
      ]
    },
    {
      "cell_type": "code",
      "metadata": {
        "id": "bPZEi7lbK6cd"
      },
      "source": [
        "dataset_1=dataset.drop_duplicates(subset =[\"hhid\"], keep= \"first\")"
      ],
      "execution_count": 9,
      "outputs": []
    },
    {
      "cell_type": "code",
      "metadata": {
        "colab": {
          "base_uri": "https://localhost:8080/",
          "height": 463
        },
        "id": "3zW-jp4igFI9",
        "outputId": "0b50aac3-1067-475e-a95d-8defe8015d66"
      },
      "source": [
        "dataset_1.head()"
      ],
      "execution_count": null,
      "outputs": [
        {
          "output_type": "execute_result",
          "data": {
            "text/html": [
              "<div>\n",
              "<style scoped>\n",
              "    .dataframe tbody tr th:only-of-type {\n",
              "        vertical-align: middle;\n",
              "    }\n",
              "\n",
              "    .dataframe tbody tr th {\n",
              "        vertical-align: top;\n",
              "    }\n",
              "\n",
              "    .dataframe thead th {\n",
              "        text-align: right;\n",
              "    }\n",
              "</style>\n",
              "<table border=\"1\" class=\"dataframe\">\n",
              "  <thead>\n",
              "    <tr style=\"text-align: right;\">\n",
              "      <th></th>\n",
              "      <th>start_time</th>\n",
              "      <th>end_time</th>\n",
              "      <th>hhid</th>\n",
              "      <th>account_num</th>\n",
              "      <th>account_type</th>\n",
              "      <th>weight</th>\n",
              "      <th>district</th>\n",
              "      <th>urban</th>\n",
              "      <th>gender</th>\n",
              "      <th>age</th>\n",
              "      <th>hh_members</th>\n",
              "      <th>highest_grade_completed</th>\n",
              "      <th>mm_account_cancelled</th>\n",
              "      <th>prefer_cash</th>\n",
              "      <th>mm_trust</th>\n",
              "      <th>mm_account_telco</th>\n",
              "      <th>mm_account_telco_main</th>\n",
              "      <th>v234</th>\n",
              "      <th>agent_trust</th>\n",
              "      <th>v236</th>\n",
              "      <th>v237</th>\n",
              "      <th>v238</th>\n",
              "      <th>v240</th>\n",
              "      <th>v241</th>\n",
              "      <th>v242</th>\n",
              "      <th>v243</th>\n",
              "      <th>v244</th>\n",
              "      <th>v245</th>\n",
              "      <th>v246</th>\n",
              "      <th>account_type_index</th>\n",
              "      <th>tmp_idx</th>\n",
              "      <th>account_type_0</th>\n",
              "      <th>account_type_1</th>\n",
              "      <th>account_type_2</th>\n",
              "      <th>account_type_3</th>\n",
              "      <th>account_type_4</th>\n",
              "    </tr>\n",
              "  </thead>\n",
              "  <tbody>\n",
              "    <tr>\n",
              "      <th>0</th>\n",
              "      <td>Oct 28, 2019 9:05:08 AM</td>\n",
              "      <td>Oct 28, 2019 10:38:45 AM</td>\n",
              "      <td>1001</td>\n",
              "      <td>1</td>\n",
              "      <td>Mobile Money</td>\n",
              "      <td>145.94444</td>\n",
              "      <td>District_A</td>\n",
              "      <td>Urban</td>\n",
              "      <td>male</td>\n",
              "      <td>32</td>\n",
              "      <td>1</td>\n",
              "      <td>primary 6</td>\n",
              "      <td>no</td>\n",
              "      <td>yes</td>\n",
              "      <td>no</td>\n",
              "      <td>Company_A Company_B</td>\n",
              "      <td>Company_A</td>\n",
              "      <td>yes</td>\n",
              "      <td>no</td>\n",
              "      <td>NaN</td>\n",
              "      <td>yes</td>\n",
              "      <td>yes</td>\n",
              "      <td>no</td>\n",
              "      <td>yes</td>\n",
              "      <td>no</td>\n",
              "      <td>yes</td>\n",
              "      <td>NaN</td>\n",
              "      <td>yes</td>\n",
              "      <td>no</td>\n",
              "      <td>0</td>\n",
              "      <td>account_type_0</td>\n",
              "      <td>Mobile Money</td>\n",
              "      <td>Bank Account</td>\n",
              "      <td>VSLA Account</td>\n",
              "      <td>NaN</td>\n",
              "      <td>NaN</td>\n",
              "    </tr>\n",
              "    <tr>\n",
              "      <th>3</th>\n",
              "      <td>Oct 28, 2019 1:02:33 PM</td>\n",
              "      <td>Oct 28, 2019 1:56:43 PM</td>\n",
              "      <td>1002</td>\n",
              "      <td>1</td>\n",
              "      <td>SACCO Account</td>\n",
              "      <td>122.90667</td>\n",
              "      <td>District_B</td>\n",
              "      <td>Rural</td>\n",
              "      <td>male</td>\n",
              "      <td>32</td>\n",
              "      <td>4</td>\n",
              "      <td>primary 3</td>\n",
              "      <td>yes</td>\n",
              "      <td>yes</td>\n",
              "      <td>no</td>\n",
              "      <td>NaN</td>\n",
              "      <td>NaN</td>\n",
              "      <td>NaN</td>\n",
              "      <td>no</td>\n",
              "      <td>NaN</td>\n",
              "      <td>yes</td>\n",
              "      <td>yes</td>\n",
              "      <td>yes</td>\n",
              "      <td>no</td>\n",
              "      <td>no</td>\n",
              "      <td>no</td>\n",
              "      <td>NaN</td>\n",
              "      <td>no</td>\n",
              "      <td>no</td>\n",
              "      <td>0</td>\n",
              "      <td>account_type_0</td>\n",
              "      <td>SACCO Account</td>\n",
              "      <td>VSLA Account</td>\n",
              "      <td>NaN</td>\n",
              "      <td>NaN</td>\n",
              "      <td>NaN</td>\n",
              "    </tr>\n",
              "    <tr>\n",
              "      <th>5</th>\n",
              "      <td>Oct 28, 2019 3:03:31 PM</td>\n",
              "      <td>Oct 28, 2019 4:15:07 PM</td>\n",
              "      <td>1003</td>\n",
              "      <td>1</td>\n",
              "      <td>Mobile Money</td>\n",
              "      <td>760.46191</td>\n",
              "      <td>District_A</td>\n",
              "      <td>Urban</td>\n",
              "      <td>male</td>\n",
              "      <td>30</td>\n",
              "      <td>8</td>\n",
              "      <td>secondary 6</td>\n",
              "      <td>no</td>\n",
              "      <td>yes</td>\n",
              "      <td>no</td>\n",
              "      <td>Company_A</td>\n",
              "      <td>NaN</td>\n",
              "      <td>yes</td>\n",
              "      <td>no</td>\n",
              "      <td>NaN</td>\n",
              "      <td>no</td>\n",
              "      <td>yes</td>\n",
              "      <td>yes</td>\n",
              "      <td>yes</td>\n",
              "      <td>no</td>\n",
              "      <td>yes</td>\n",
              "      <td>yes</td>\n",
              "      <td>yes</td>\n",
              "      <td>no</td>\n",
              "      <td>0</td>\n",
              "      <td>account_type_0</td>\n",
              "      <td>Mobile Money</td>\n",
              "      <td>Bank Account</td>\n",
              "      <td>NaN</td>\n",
              "      <td>NaN</td>\n",
              "      <td>NaN</td>\n",
              "    </tr>\n",
              "    <tr>\n",
              "      <th>7</th>\n",
              "      <td>Oct 28, 2019 3:17:44 PM</td>\n",
              "      <td>Oct 28, 2019 4:35:00 PM</td>\n",
              "      <td>1004</td>\n",
              "      <td>1</td>\n",
              "      <td>Mobile Money</td>\n",
              "      <td>433.96402</td>\n",
              "      <td>District_A</td>\n",
              "      <td>Rural</td>\n",
              "      <td>male</td>\n",
              "      <td>68</td>\n",
              "      <td>4</td>\n",
              "      <td>primary 6</td>\n",
              "      <td>no</td>\n",
              "      <td>yes</td>\n",
              "      <td>no</td>\n",
              "      <td>Company_A</td>\n",
              "      <td>NaN</td>\n",
              "      <td>no</td>\n",
              "      <td>no</td>\n",
              "      <td>NaN</td>\n",
              "      <td>no</td>\n",
              "      <td>no</td>\n",
              "      <td>no</td>\n",
              "      <td>no</td>\n",
              "      <td>no</td>\n",
              "      <td>yes</td>\n",
              "      <td>NaN</td>\n",
              "      <td>no</td>\n",
              "      <td>no</td>\n",
              "      <td>0</td>\n",
              "      <td>account_type_0</td>\n",
              "      <td>Mobile Money</td>\n",
              "      <td>Bank Account</td>\n",
              "      <td>SACCO Account</td>\n",
              "      <td>NaN</td>\n",
              "      <td>NaN</td>\n",
              "    </tr>\n",
              "    <tr>\n",
              "      <th>10</th>\n",
              "      <td>Oct 28, 2019 4:25:43 PM</td>\n",
              "      <td>Oct 28, 2019 5:21:08 PM</td>\n",
              "      <td>1005</td>\n",
              "      <td>1</td>\n",
              "      <td>Mobile Money</td>\n",
              "      <td>303.04395</td>\n",
              "      <td>District_C</td>\n",
              "      <td>Rural</td>\n",
              "      <td>female</td>\n",
              "      <td>28</td>\n",
              "      <td>2</td>\n",
              "      <td>primary 6</td>\n",
              "      <td>no</td>\n",
              "      <td>yes</td>\n",
              "      <td>no</td>\n",
              "      <td>Company_B</td>\n",
              "      <td>NaN</td>\n",
              "      <td>yes</td>\n",
              "      <td>no</td>\n",
              "      <td>no</td>\n",
              "      <td>yes</td>\n",
              "      <td>yes</td>\n",
              "      <td>yes</td>\n",
              "      <td>yes</td>\n",
              "      <td>no</td>\n",
              "      <td>yes</td>\n",
              "      <td>NaN</td>\n",
              "      <td>no</td>\n",
              "      <td>no</td>\n",
              "      <td>0</td>\n",
              "      <td>account_type_0</td>\n",
              "      <td>Mobile Money</td>\n",
              "      <td>VSLA Account</td>\n",
              "      <td>NaN</td>\n",
              "      <td>NaN</td>\n",
              "      <td>NaN</td>\n",
              "    </tr>\n",
              "  </tbody>\n",
              "</table>\n",
              "</div>"
            ],
            "text/plain": [
              "                 start_time  ... account_type_4\n",
              "0   Oct 28, 2019 9:05:08 AM  ...            NaN\n",
              "3   Oct 28, 2019 1:02:33 PM  ...            NaN\n",
              "5   Oct 28, 2019 3:03:31 PM  ...            NaN\n",
              "7   Oct 28, 2019 3:17:44 PM  ...            NaN\n",
              "10  Oct 28, 2019 4:25:43 PM  ...            NaN\n",
              "\n",
              "[5 rows x 36 columns]"
            ]
          },
          "metadata": {},
          "execution_count": 11
        }
      ]
    },
    {
      "cell_type": "code",
      "metadata": {
        "id": "TWbAtc3bwoL6"
      },
      "source": [
        "#dataset_1.account_type.value_counts()"
      ],
      "execution_count": null,
      "outputs": []
    },
    {
      "cell_type": "code",
      "metadata": {
        "colab": {
          "base_uri": "https://localhost:8080/"
        },
        "id": "9bAoouMXjv-8",
        "outputId": "73741938-9ddb-47d0-b2ca-f51c2bc54a8a"
      },
      "source": [
        "dataset_1.account_type.value_counts()"
      ],
      "execution_count": null,
      "outputs": [
        {
          "output_type": "execute_result",
          "data": {
            "text/plain": [
              "Mobile Money     827\n",
              "None             132\n",
              "SACCO Account    115\n",
              "VSLA Account     106\n",
              "Bank Account      25\n",
              "Name: account_type, dtype: int64"
            ]
          },
          "metadata": {},
          "execution_count": 17
        }
      ]
    },
    {
      "cell_type": "code",
      "metadata": {
        "colab": {
          "base_uri": "https://localhost:8080/"
        },
        "id": "HnbibZ2JjwDA",
        "outputId": "891a9476-3728-44c0-9aed-44c82cba7ec4"
      },
      "source": [
        "dataset_1.account_type_0.value_counts()"
      ],
      "execution_count": null,
      "outputs": [
        {
          "output_type": "execute_result",
          "data": {
            "text/plain": [
              "Mobile Money     827\n",
              "None             132\n",
              "SACCO Account    115\n",
              "VSLA Account     106\n",
              "Bank Account      25\n",
              "Name: account_type_0, dtype: int64"
            ]
          },
          "metadata": {},
          "execution_count": 18
        }
      ]
    },
    {
      "cell_type": "code",
      "metadata": {
        "colab": {
          "base_uri": "https://localhost:8080/"
        },
        "id": "TDRzYqZkldaE",
        "outputId": "59cfad31-665e-471f-80fa-8bbbcdea70aa"
      },
      "source": [
        "dataset_1.account_type_1.value_counts()"
      ],
      "execution_count": null,
      "outputs": [
        {
          "output_type": "execute_result",
          "data": {
            "text/plain": [
              "Bank Account     298\n",
              "SACCO Account    242\n",
              "VSLA Account     238\n",
              "Name: account_type_1, dtype: int64"
            ]
          },
          "metadata": {},
          "execution_count": 19
        }
      ]
    },
    {
      "cell_type": "code",
      "metadata": {
        "colab": {
          "base_uri": "https://localhost:8080/"
        },
        "id": "TCFuPeUgljz2",
        "outputId": "309ea1f2-4105-4df0-d55a-60700e5a11c1"
      },
      "source": [
        "dataset_1.account_type_2.value_counts()"
      ],
      "execution_count": null,
      "outputs": [
        {
          "output_type": "execute_result",
          "data": {
            "text/plain": [
              "VSLA Account           257\n",
              "SACCO Account          108\n",
              "Online Bank Account     12\n",
              "Name: account_type_2, dtype: int64"
            ]
          },
          "metadata": {},
          "execution_count": 21
        }
      ]
    },
    {
      "cell_type": "code",
      "metadata": {
        "colab": {
          "base_uri": "https://localhost:8080/"
        },
        "id": "v5ZXOu1-lsgN",
        "outputId": "502eca24-fc88-4204-ea5c-0dd45ac83cf7"
      },
      "source": [
        "dataset_1.account_type_3.value_counts()"
      ],
      "execution_count": null,
      "outputs": [
        {
          "output_type": "execute_result",
          "data": {
            "text/plain": [
              "VSLA Account     77\n",
              "SACCO Account     3\n",
              "Name: account_type_3, dtype: int64"
            ]
          },
          "metadata": {},
          "execution_count": 23
        }
      ]
    },
    {
      "cell_type": "code",
      "metadata": {
        "colab": {
          "base_uri": "https://localhost:8080/"
        },
        "id": "6icB11gIl1nH",
        "outputId": "79cf9886-d2d2-42a9-c013-a2f72c4a011f"
      },
      "source": [
        "dataset_1.account_type_4.value_counts()"
      ],
      "execution_count": null,
      "outputs": [
        {
          "output_type": "execute_result",
          "data": {
            "text/plain": [
              "VSLA Account    2\n",
              "Name: account_type_4, dtype: int64"
            ]
          },
          "metadata": {},
          "execution_count": 24
        }
      ]
    },
    {
      "cell_type": "markdown",
      "metadata": {
        "id": "07n-0UqCg9rO"
      },
      "source": [
        "Create two dummy variables for whether each participant is: i) financially excluded\n",
        "and ii) digitally financially included. What are the overall rates of financial exclusion\n",
        "and digital financial inclusion for the combined population of these three districts?\n",
        "\n",
        "a. Financial exclusion is defined as not having registered for any type of\n",
        "financial account including accounts with: Mobile money operators, banks,\n",
        "micro-finance institutions (MFI’s), savings and credit cooperative\n",
        "organisations (SACCO’s) and village savings and loan associations (VSLA’s).\n",
        "\n",
        "b. Digital financial inclusion is defined as having at least one registered account\n",
        "with a mobile money operator or an online bank account. "
      ]
    },
    {
      "cell_type": "code",
      "metadata": {
        "id": "XxS_u8MvgVof"
      },
      "source": [
        "#df[\"financially_excluded\"] = (df.account_type !=\"None\") & (df.account_type == \"Mobile Money\") & (df.account_type ==\"VSLA Account\") & (df.account_type == \"SACCO Account\") & (df.account_type == \"Bank Account\") & (df.account_type ==\"Online Bank Account\")"
      ],
      "execution_count": null,
      "outputs": []
    },
    {
      "cell_type": "code",
      "metadata": {
        "colab": {
          "base_uri": "https://localhost:8080/"
        },
        "id": "x_1aslqokQiw",
        "outputId": "de1f495b-d0b3-412a-b3a9-99d5f4980f97"
      },
      "source": [
        "dataset_1[\"financially_excluded\"] = (dataset_1.account_type_0 == \"None\") & (dataset_1.account_type_1 != \"Bank Account\") & (dataset_1.account_type_1 != \"SACCO Account\") & (dataset_1.account_type_1 != \"VSLA Account\") & (dataset_1.account_type_2 != \"VSLA Account\") & (dataset_1.account_type_2 != \"SACCO Account\") & (dataset_1.account_type_3 != \"VSLA Account\") & (dataset_1.account_type_3 != \"SACCO Account\") & (dataset_1.account_type_4 != \"VSLA Account\")"
      ],
      "execution_count": 10,
      "outputs": [
        {
          "output_type": "stream",
          "name": "stderr",
          "text": [
            "/usr/local/lib/python3.7/dist-packages/ipykernel_launcher.py:1: SettingWithCopyWarning: \n",
            "A value is trying to be set on a copy of a slice from a DataFrame.\n",
            "Try using .loc[row_indexer,col_indexer] = value instead\n",
            "\n",
            "See the caveats in the documentation: https://pandas.pydata.org/pandas-docs/stable/user_guide/indexing.html#returning-a-view-versus-a-copy\n",
            "  \"\"\"Entry point for launching an IPython kernel.\n"
          ]
        }
      ]
    },
    {
      "cell_type": "code",
      "metadata": {
        "colab": {
          "base_uri": "https://localhost:8080/"
        },
        "id": "GtoIbA6Z0ozH",
        "outputId": "e9edf71f-f612-4bb0-b671-bbad111c818c"
      },
      "source": [
        "dataset_1[\"financially_excluded\"] = dataset_1[\"financially_excluded\"].map({True:1, False:0})"
      ],
      "execution_count": 11,
      "outputs": [
        {
          "output_type": "stream",
          "name": "stderr",
          "text": [
            "/usr/local/lib/python3.7/dist-packages/ipykernel_launcher.py:1: SettingWithCopyWarning: \n",
            "A value is trying to be set on a copy of a slice from a DataFrame.\n",
            "Try using .loc[row_indexer,col_indexer] = value instead\n",
            "\n",
            "See the caveats in the documentation: https://pandas.pydata.org/pandas-docs/stable/user_guide/indexing.html#returning-a-view-versus-a-copy\n",
            "  \"\"\"Entry point for launching an IPython kernel.\n"
          ]
        }
      ]
    },
    {
      "cell_type": "code",
      "metadata": {
        "id": "sqSQ-Om_qXfi"
      },
      "source": [
        "#df[\"financially_excluded\"] = df[\"financially_excluded\"].map({True:1, False:0})"
      ],
      "execution_count": null,
      "outputs": []
    },
    {
      "cell_type": "code",
      "metadata": {
        "colab": {
          "base_uri": "https://localhost:8080/"
        },
        "id": "sgNETF8gq-PF",
        "outputId": "6fabc6c6-0ff5-4291-e720-33b40d4ac0ee"
      },
      "source": [
        "#Digital financial inclusion \n",
        "#dataset_1[\"digital_inclusion\"] = (dataset_1.account_type_0 == \"Mobile Money\") | (dataset_1.account_type_2 == \"Online Bank Account\") & (dataset_1.account_type_0 != \"None\") & (dataset.account_type_0 != \"VSLA Account\") & (dataset_1.account_type_0 != \"SACCO Account\") & (dataset_1.account_type_0 != \"Bank Account\") & (dataset_1.account_type_1 != \"Bank Account\") & (dataset_1.account_type_1 != \"SACCO Account\") & (dataset_1.account_type_1 != \"VSLA Account\") & (dataset_1.account_type_2 != \"VSLA Account\") & (dataset_1.account_type_2 != \"SACCO Account\") & (dataset_1.account_type_3 != \"VSLA Account\") & (dataset_1.account_type_3 != \"SACCO Account\") & (dataset_1.account_type_4 != \"VSLA Account\")\n",
        "dataset_1[\"digital_inclusion\"] = (dataset_1.account_type_0 == \"Mobile Money\") | (dataset_1.account_type_2 == \"Online Bank Account\") & (dataset_1.account_type_0 != \"None\")"
      ],
      "execution_count": 12,
      "outputs": [
        {
          "output_type": "stream",
          "name": "stderr",
          "text": [
            "/usr/local/lib/python3.7/dist-packages/ipykernel_launcher.py:3: SettingWithCopyWarning: \n",
            "A value is trying to be set on a copy of a slice from a DataFrame.\n",
            "Try using .loc[row_indexer,col_indexer] = value instead\n",
            "\n",
            "See the caveats in the documentation: https://pandas.pydata.org/pandas-docs/stable/user_guide/indexing.html#returning-a-view-versus-a-copy\n",
            "  This is separate from the ipykernel package so we can avoid doing imports until\n"
          ]
        }
      ]
    },
    {
      "cell_type": "code",
      "metadata": {
        "colab": {
          "base_uri": "https://localhost:8080/"
        },
        "id": "9y2KXCsM029R",
        "outputId": "4309afb7-7c9c-43ea-fb28-0881cda428a8"
      },
      "source": [
        "dataset_1[\"digital_inclusion\"] = dataset_1[\"digital_inclusion\"].map({True:1, False:0})"
      ],
      "execution_count": 13,
      "outputs": [
        {
          "output_type": "stream",
          "name": "stderr",
          "text": [
            "/usr/local/lib/python3.7/dist-packages/ipykernel_launcher.py:1: SettingWithCopyWarning: \n",
            "A value is trying to be set on a copy of a slice from a DataFrame.\n",
            "Try using .loc[row_indexer,col_indexer] = value instead\n",
            "\n",
            "See the caveats in the documentation: https://pandas.pydata.org/pandas-docs/stable/user_guide/indexing.html#returning-a-view-versus-a-copy\n",
            "  \"\"\"Entry point for launching an IPython kernel.\n"
          ]
        }
      ]
    },
    {
      "cell_type": "markdown",
      "metadata": {
        "id": "4vvUXmqWLOeE"
      },
      "source": [
        "From the figures, only 11% of the population are indeed financially excluded. Given that almost 90% of the population are already into the financial system, we can be sure that the majority of population are familiar with the financial products. \n",
        "Figures are also positive regarding the population that is digitally included; almost 69% of the population are having online account or mobile account (or both). However, there is a 31% that are not having digital products. It will be interesting to know what are the reasons for not accessing to digital products. "
      ]
    },
    {
      "cell_type": "code",
      "metadata": {
        "colab": {
          "base_uri": "https://localhost:8080/"
        },
        "id": "TS7_nWhk1gee",
        "outputId": "7861141d-4fc2-4d34-ef5b-4adb03f64334"
      },
      "source": [
        "dataset_1.financially_excluded.value_counts(normalize = True)"
      ],
      "execution_count": null,
      "outputs": [
        {
          "output_type": "execute_result",
          "data": {
            "text/plain": [
              "0    0.890456\n",
              "1    0.109544\n",
              "Name: financially_excluded, dtype: float64"
            ]
          },
          "metadata": {},
          "execution_count": 16
        }
      ]
    },
    {
      "cell_type": "code",
      "metadata": {
        "colab": {
          "base_uri": "https://localhost:8080/"
        },
        "id": "kGhzOvmI1rJv",
        "outputId": "2101a3ab-0620-4d02-c8a3-e3bff07b6047"
      },
      "source": [
        "dataset_1.digital_inclusion.value_counts(normalize= True) "
      ],
      "execution_count": null,
      "outputs": [
        {
          "output_type": "execute_result",
          "data": {
            "text/plain": [
              "1    0.686307\n",
              "0    0.313693\n",
              "Name: digital_inclusion, dtype: float64"
            ]
          },
          "metadata": {},
          "execution_count": 18
        }
      ]
    },
    {
      "cell_type": "code",
      "metadata": {
        "id": "opDBI68GzqXY"
      },
      "source": [
        "#training=pd.get_dummies(dataset_1, columns=[\"financially_excluded\",\"digital_inclusion\"])"
      ],
      "execution_count": null,
      "outputs": []
    },
    {
      "cell_type": "code",
      "metadata": {
        "id": "UL_mfjtY0Gwh"
      },
      "source": [
        "#training.head()"
      ],
      "execution_count": null,
      "outputs": []
    },
    {
      "cell_type": "code",
      "metadata": {
        "id": "gVA_sAeN1SVJ"
      },
      "source": [
        "#training.financially_excluded_1.value_counts()"
      ],
      "execution_count": null,
      "outputs": []
    },
    {
      "cell_type": "code",
      "metadata": {
        "colab": {
          "base_uri": "https://localhost:8080/",
          "height": 463
        },
        "id": "AD73CKc3KdXm",
        "outputId": "a6e87858-1e15-43a1-def2-767243bbfaa2"
      },
      "source": [
        "dataset_1.head()"
      ],
      "execution_count": null,
      "outputs": [
        {
          "output_type": "execute_result",
          "data": {
            "text/html": [
              "<div>\n",
              "<style scoped>\n",
              "    .dataframe tbody tr th:only-of-type {\n",
              "        vertical-align: middle;\n",
              "    }\n",
              "\n",
              "    .dataframe tbody tr th {\n",
              "        vertical-align: top;\n",
              "    }\n",
              "\n",
              "    .dataframe thead th {\n",
              "        text-align: right;\n",
              "    }\n",
              "</style>\n",
              "<table border=\"1\" class=\"dataframe\">\n",
              "  <thead>\n",
              "    <tr style=\"text-align: right;\">\n",
              "      <th></th>\n",
              "      <th>start_time</th>\n",
              "      <th>end_time</th>\n",
              "      <th>hhid</th>\n",
              "      <th>account_num</th>\n",
              "      <th>account_type</th>\n",
              "      <th>weight</th>\n",
              "      <th>district</th>\n",
              "      <th>urban</th>\n",
              "      <th>gender</th>\n",
              "      <th>age</th>\n",
              "      <th>hh_members</th>\n",
              "      <th>highest_grade_completed</th>\n",
              "      <th>mm_account_cancelled</th>\n",
              "      <th>prefer_cash</th>\n",
              "      <th>mm_trust</th>\n",
              "      <th>mm_account_telco</th>\n",
              "      <th>mm_account_telco_main</th>\n",
              "      <th>v234</th>\n",
              "      <th>agent_trust</th>\n",
              "      <th>v236</th>\n",
              "      <th>v237</th>\n",
              "      <th>v238</th>\n",
              "      <th>v240</th>\n",
              "      <th>v241</th>\n",
              "      <th>v242</th>\n",
              "      <th>v243</th>\n",
              "      <th>v244</th>\n",
              "      <th>v245</th>\n",
              "      <th>v246</th>\n",
              "      <th>account_type_index</th>\n",
              "      <th>tmp_idx</th>\n",
              "      <th>account_type_0</th>\n",
              "      <th>account_type_1</th>\n",
              "      <th>account_type_2</th>\n",
              "      <th>account_type_3</th>\n",
              "      <th>account_type_4</th>\n",
              "      <th>financially_excluded</th>\n",
              "      <th>digital_inclusion</th>\n",
              "    </tr>\n",
              "  </thead>\n",
              "  <tbody>\n",
              "    <tr>\n",
              "      <th>0</th>\n",
              "      <td>Oct 28, 2019 9:05:08 AM</td>\n",
              "      <td>Oct 28, 2019 10:38:45 AM</td>\n",
              "      <td>1001</td>\n",
              "      <td>1</td>\n",
              "      <td>Mobile Money</td>\n",
              "      <td>145.94444</td>\n",
              "      <td>District_A</td>\n",
              "      <td>1</td>\n",
              "      <td>male</td>\n",
              "      <td>32</td>\n",
              "      <td>1</td>\n",
              "      <td>primary 6</td>\n",
              "      <td>no</td>\n",
              "      <td>yes</td>\n",
              "      <td>no</td>\n",
              "      <td>Company_A Company_B</td>\n",
              "      <td>Company_A</td>\n",
              "      <td>yes</td>\n",
              "      <td>no</td>\n",
              "      <td>NaN</td>\n",
              "      <td>yes</td>\n",
              "      <td>yes</td>\n",
              "      <td>no</td>\n",
              "      <td>yes</td>\n",
              "      <td>no</td>\n",
              "      <td>yes</td>\n",
              "      <td>NaN</td>\n",
              "      <td>yes</td>\n",
              "      <td>no</td>\n",
              "      <td>0</td>\n",
              "      <td>account_type_0</td>\n",
              "      <td>Mobile Money</td>\n",
              "      <td>Bank Account</td>\n",
              "      <td>VSLA Account</td>\n",
              "      <td>NaN</td>\n",
              "      <td>NaN</td>\n",
              "      <td>0</td>\n",
              "      <td>1</td>\n",
              "    </tr>\n",
              "    <tr>\n",
              "      <th>3</th>\n",
              "      <td>Oct 28, 2019 1:02:33 PM</td>\n",
              "      <td>Oct 28, 2019 1:56:43 PM</td>\n",
              "      <td>1002</td>\n",
              "      <td>1</td>\n",
              "      <td>SACCO Account</td>\n",
              "      <td>122.90667</td>\n",
              "      <td>District_B</td>\n",
              "      <td>0</td>\n",
              "      <td>male</td>\n",
              "      <td>32</td>\n",
              "      <td>4</td>\n",
              "      <td>primary 3</td>\n",
              "      <td>yes</td>\n",
              "      <td>yes</td>\n",
              "      <td>no</td>\n",
              "      <td>NaN</td>\n",
              "      <td>NaN</td>\n",
              "      <td>NaN</td>\n",
              "      <td>no</td>\n",
              "      <td>NaN</td>\n",
              "      <td>yes</td>\n",
              "      <td>yes</td>\n",
              "      <td>yes</td>\n",
              "      <td>no</td>\n",
              "      <td>no</td>\n",
              "      <td>no</td>\n",
              "      <td>NaN</td>\n",
              "      <td>no</td>\n",
              "      <td>no</td>\n",
              "      <td>0</td>\n",
              "      <td>account_type_0</td>\n",
              "      <td>SACCO Account</td>\n",
              "      <td>VSLA Account</td>\n",
              "      <td>NaN</td>\n",
              "      <td>NaN</td>\n",
              "      <td>NaN</td>\n",
              "      <td>0</td>\n",
              "      <td>0</td>\n",
              "    </tr>\n",
              "    <tr>\n",
              "      <th>5</th>\n",
              "      <td>Oct 28, 2019 3:03:31 PM</td>\n",
              "      <td>Oct 28, 2019 4:15:07 PM</td>\n",
              "      <td>1003</td>\n",
              "      <td>1</td>\n",
              "      <td>Mobile Money</td>\n",
              "      <td>760.46191</td>\n",
              "      <td>District_A</td>\n",
              "      <td>1</td>\n",
              "      <td>male</td>\n",
              "      <td>30</td>\n",
              "      <td>8</td>\n",
              "      <td>secondary 6</td>\n",
              "      <td>no</td>\n",
              "      <td>yes</td>\n",
              "      <td>no</td>\n",
              "      <td>Company_A</td>\n",
              "      <td>NaN</td>\n",
              "      <td>yes</td>\n",
              "      <td>no</td>\n",
              "      <td>NaN</td>\n",
              "      <td>no</td>\n",
              "      <td>yes</td>\n",
              "      <td>yes</td>\n",
              "      <td>yes</td>\n",
              "      <td>no</td>\n",
              "      <td>yes</td>\n",
              "      <td>yes</td>\n",
              "      <td>yes</td>\n",
              "      <td>no</td>\n",
              "      <td>0</td>\n",
              "      <td>account_type_0</td>\n",
              "      <td>Mobile Money</td>\n",
              "      <td>Bank Account</td>\n",
              "      <td>NaN</td>\n",
              "      <td>NaN</td>\n",
              "      <td>NaN</td>\n",
              "      <td>0</td>\n",
              "      <td>1</td>\n",
              "    </tr>\n",
              "    <tr>\n",
              "      <th>7</th>\n",
              "      <td>Oct 28, 2019 3:17:44 PM</td>\n",
              "      <td>Oct 28, 2019 4:35:00 PM</td>\n",
              "      <td>1004</td>\n",
              "      <td>1</td>\n",
              "      <td>Mobile Money</td>\n",
              "      <td>433.96402</td>\n",
              "      <td>District_A</td>\n",
              "      <td>0</td>\n",
              "      <td>male</td>\n",
              "      <td>68</td>\n",
              "      <td>4</td>\n",
              "      <td>primary 6</td>\n",
              "      <td>no</td>\n",
              "      <td>yes</td>\n",
              "      <td>no</td>\n",
              "      <td>Company_A</td>\n",
              "      <td>NaN</td>\n",
              "      <td>no</td>\n",
              "      <td>no</td>\n",
              "      <td>NaN</td>\n",
              "      <td>no</td>\n",
              "      <td>no</td>\n",
              "      <td>no</td>\n",
              "      <td>no</td>\n",
              "      <td>no</td>\n",
              "      <td>yes</td>\n",
              "      <td>NaN</td>\n",
              "      <td>no</td>\n",
              "      <td>no</td>\n",
              "      <td>0</td>\n",
              "      <td>account_type_0</td>\n",
              "      <td>Mobile Money</td>\n",
              "      <td>Bank Account</td>\n",
              "      <td>SACCO Account</td>\n",
              "      <td>NaN</td>\n",
              "      <td>NaN</td>\n",
              "      <td>0</td>\n",
              "      <td>1</td>\n",
              "    </tr>\n",
              "    <tr>\n",
              "      <th>10</th>\n",
              "      <td>Oct 28, 2019 4:25:43 PM</td>\n",
              "      <td>Oct 28, 2019 5:21:08 PM</td>\n",
              "      <td>1005</td>\n",
              "      <td>1</td>\n",
              "      <td>Mobile Money</td>\n",
              "      <td>303.04395</td>\n",
              "      <td>District_C</td>\n",
              "      <td>0</td>\n",
              "      <td>female</td>\n",
              "      <td>28</td>\n",
              "      <td>2</td>\n",
              "      <td>primary 6</td>\n",
              "      <td>no</td>\n",
              "      <td>yes</td>\n",
              "      <td>no</td>\n",
              "      <td>Company_B</td>\n",
              "      <td>NaN</td>\n",
              "      <td>yes</td>\n",
              "      <td>no</td>\n",
              "      <td>no</td>\n",
              "      <td>yes</td>\n",
              "      <td>yes</td>\n",
              "      <td>yes</td>\n",
              "      <td>yes</td>\n",
              "      <td>no</td>\n",
              "      <td>yes</td>\n",
              "      <td>NaN</td>\n",
              "      <td>no</td>\n",
              "      <td>no</td>\n",
              "      <td>0</td>\n",
              "      <td>account_type_0</td>\n",
              "      <td>Mobile Money</td>\n",
              "      <td>VSLA Account</td>\n",
              "      <td>NaN</td>\n",
              "      <td>NaN</td>\n",
              "      <td>NaN</td>\n",
              "      <td>0</td>\n",
              "      <td>1</td>\n",
              "    </tr>\n",
              "  </tbody>\n",
              "</table>\n",
              "</div>"
            ],
            "text/plain": [
              "                 start_time  ... digital_inclusion\n",
              "0   Oct 28, 2019 9:05:08 AM  ...                 1\n",
              "3   Oct 28, 2019 1:02:33 PM  ...                 0\n",
              "5   Oct 28, 2019 3:03:31 PM  ...                 1\n",
              "7   Oct 28, 2019 3:17:44 PM  ...                 1\n",
              "10  Oct 28, 2019 4:25:43 PM  ...                 1\n",
              "\n",
              "[5 rows x 38 columns]"
            ]
          },
          "metadata": {},
          "execution_count": 33
        }
      ]
    },
    {
      "cell_type": "markdown",
      "metadata": {
        "id": "LtP2i8kYPtNi"
      },
      "source": [
        "**Question 3.** Describe in a few short paragraphs how the mobile money market is divided\n",
        "between the three companies. Include at least one chart or table to illustrate your\n",
        "findings."
      ]
    },
    {
      "cell_type": "markdown",
      "metadata": {
        "id": "yGMW9FJWRO81"
      },
      "source": [
        "Over the respondents, **Company_A and Company_B** share **40%** of the providers the population say they have a mobile money account with. solely **Company_A** is **26% **and only **Company_B** counts for **23%**. It seems the case that Company_C is not that prefer as a provider as telco company so we may want to either understand why or may be stick to Company A and Company B for continuing offering services\n",
        "\n"
      ]
    },
    {
      "cell_type": "code",
      "metadata": {
        "colab": {
          "base_uri": "https://localhost:8080/"
        },
        "id": "zx4ASWlTPl5q",
        "outputId": "5f28f643-3a81-48a0-d404-429ca5f9f896"
      },
      "source": [
        "dataset_1.mm_account_telco.value_counts(normalize= True)"
      ],
      "execution_count": null,
      "outputs": [
        {
          "output_type": "execute_result",
          "data": {
            "text/plain": [
              "Company_A Company_B              0.401212\n",
              "Company_A                        0.264242\n",
              "Company_B                        0.231515\n",
              "Company_A Company_B Company_C    0.030303\n",
              "Company_A Company_C              0.027879\n",
              "Company_B Company_C              0.027879\n",
              "Company_C                        0.016970\n",
              "Name: mm_account_telco, dtype: float64"
            ]
          },
          "metadata": {},
          "execution_count": 18
        }
      ]
    },
    {
      "cell_type": "markdown",
      "metadata": {
        "id": "IqMPEL2TVdTV"
      },
      "source": [
        "Likewise, Company A and B are more prone to have clients that are digital oriented in terms of banking."
      ]
    },
    {
      "cell_type": "code",
      "metadata": {
        "colab": {
          "base_uri": "https://localhost:8080/",
          "height": 297
        },
        "id": "I87bPoGeVbno",
        "outputId": "13b94084-c571-4107-a73d-2a1eb02f0c3a"
      },
      "source": [
        "sns.countplot(x=\"mm_account_telco\", hue=\"digital_inclusion\", data=dataset_1)\n",
        "plt.xticks(plt.xticks()[0], rotation=90)\n",
        "plt.tight_layout()\n",
        "plt.show()"
      ],
      "execution_count": null,
      "outputs": [
        {
          "output_type": "display_data",
          "data": {
            "image/png": "[encoded data removed]",
            "text/plain": [
              "<Figure size 432x288 with 1 Axes>"
            ]
          },
          "metadata": {
            "needs_background": "light"
          }
        }
      ]
    },
    {
      "cell_type": "markdown",
      "metadata": {
        "id": "oy3UMlz6WTMi"
      },
      "source": [
        "Among all the dataset, Its company A and B indeed, the ones that are preferred among the clients that are digital included"
      ]
    },
    {
      "cell_type": "code",
      "metadata": {
        "colab": {
          "base_uri": "https://localhost:8080/",
          "height": 297
        },
        "id": "mC0GBkkmV_Rh",
        "outputId": "70184627-a019-4590-c897-a6dcb25e7afc"
      },
      "source": [
        "sns.countplot(x=\"mm_account_telco_main\", hue=\"digital_inclusion\", data=dataset_1)\n",
        "plt.xticks(plt.xticks()[0], rotation=90)\n",
        "plt.tight_layout()\n",
        "plt.show()"
      ],
      "execution_count": null,
      "outputs": [
        {
          "output_type": "display_data",
          "data": {
            "image/png": "[encoded data removed]",
            "text/plain": [
              "<Figure size 432x288 with 1 Axes>"
            ]
          },
          "metadata": {
            "needs_background": "light"
          }
        }
      ]
    },
    {
      "cell_type": "markdown",
      "metadata": {
        "id": "XvZqKrohWs1J"
      },
      "source": [
        ""
      ]
    },
    {
      "cell_type": "code",
      "metadata": {
        "colab": {
          "base_uri": "https://localhost:8080/",
          "height": 297
        },
        "id": "temwx22OWsS1",
        "outputId": "29ade680-6308-4a9e-d0bc-0cabd357a25f"
      },
      "source": [
        "sns.countplot(x=\"mm_account_telco_main\", hue=\"mm_account_cancelled\", data=dataset_1)\n",
        "plt.xticks(plt.xticks()[0], rotation=90)\n",
        "plt.tight_layout()\n",
        "plt.show()"
      ],
      "execution_count": null,
      "outputs": [
        {
          "output_type": "display_data",
          "data": {
            "image/png": "[encoded data removed]",
            "text/plain": [
              "<Figure size 432x288 with 1 Axes>"
            ]
          },
          "metadata": {
            "needs_background": "light"
          }
        }
      ]
    },
    {
      "cell_type": "code",
      "metadata": {
        "id": "Bd39Czz0XP6t"
      },
      "source": [
        "#df1 = df.highest_grade_completed.groupby([df.highest_grade_completed, df.mm_account_cancelled]).size().unstack().fillna(0).astype(str)\n",
        "\n",
        "#df1.index.name = None\n",
        "#df1.columns.name = None\n",
        "#print(df1)"
      ],
      "execution_count": null,
      "outputs": []
    },
    {
      "cell_type": "code",
      "metadata": {
        "colab": {
          "base_uri": "https://localhost:8080/",
          "height": 290
        },
        "id": "KUAVh63KXhjZ",
        "outputId": "52c1ab16-015c-480c-eeec-db26f8ac5b25"
      },
      "source": [
        "df.groupby('mm_account_telco')['mm_account_cancelled'].value_counts().unstack().fillna(0)"
      ],
      "execution_count": null,
      "outputs": [
        {
          "output_type": "execute_result",
          "data": {
            "text/html": [
              "<div>\n",
              "<style scoped>\n",
              "    .dataframe tbody tr th:only-of-type {\n",
              "        vertical-align: middle;\n",
              "    }\n",
              "\n",
              "    .dataframe tbody tr th {\n",
              "        vertical-align: top;\n",
              "    }\n",
              "\n",
              "    .dataframe thead th {\n",
              "        text-align: right;\n",
              "    }\n",
              "</style>\n",
              "<table border=\"1\" class=\"dataframe\">\n",
              "  <thead>\n",
              "    <tr style=\"text-align: right;\">\n",
              "      <th>mm_account_cancelled</th>\n",
              "      <th>no</th>\n",
              "    </tr>\n",
              "    <tr>\n",
              "      <th>mm_account_telco</th>\n",
              "      <th></th>\n",
              "    </tr>\n",
              "  </thead>\n",
              "  <tbody>\n",
              "    <tr>\n",
              "      <th>Company_A</th>\n",
              "      <td>532</td>\n",
              "    </tr>\n",
              "    <tr>\n",
              "      <th>Company_A Company_B</th>\n",
              "      <td>838</td>\n",
              "    </tr>\n",
              "    <tr>\n",
              "      <th>Company_A Company_B Company_C</th>\n",
              "      <td>67</td>\n",
              "    </tr>\n",
              "    <tr>\n",
              "      <th>Company_A Company_C</th>\n",
              "      <td>55</td>\n",
              "    </tr>\n",
              "    <tr>\n",
              "      <th>Company_B</th>\n",
              "      <td>401</td>\n",
              "    </tr>\n",
              "    <tr>\n",
              "      <th>Company_B Company_C</th>\n",
              "      <td>45</td>\n",
              "    </tr>\n",
              "    <tr>\n",
              "      <th>Company_C</th>\n",
              "      <td>26</td>\n",
              "    </tr>\n",
              "  </tbody>\n",
              "</table>\n",
              "</div>"
            ],
            "text/plain": [
              "mm_account_cancelled            no\n",
              "mm_account_telco                  \n",
              "Company_A                      532\n",
              "Company_A Company_B            838\n",
              "Company_A Company_B Company_C   67\n",
              "Company_A Company_C             55\n",
              "Company_B                      401\n",
              "Company_B Company_C             45\n",
              "Company_C                       26"
            ]
          },
          "metadata": {},
          "execution_count": 22
        }
      ]
    },
    {
      "cell_type": "code",
      "metadata": {
        "colab": {
          "base_uri": "https://localhost:8080/"
        },
        "id": "8yLHrwEKXGM7",
        "outputId": "87138653-582e-4054-8956-1fae716f79b4"
      },
      "source": [
        "dataset_1.mm_account_cancelled.value_counts(normalize= True)"
      ],
      "execution_count": null,
      "outputs": [
        {
          "output_type": "execute_result",
          "data": {
            "text/plain": [
              "no     0.851452\n",
              "yes    0.148548\n",
              "Name: mm_account_cancelled, dtype: float64"
            ]
          },
          "metadata": {},
          "execution_count": 24
        }
      ]
    },
    {
      "cell_type": "code",
      "metadata": {
        "colab": {
          "base_uri": "https://localhost:8080/"
        },
        "id": "LylY4tbjYWLy",
        "outputId": "073272f6-d9ba-4135-aafb-69f3bbc11361"
      },
      "source": [
        "dataset_1.mm_account_telco.value_counts()"
      ],
      "execution_count": null,
      "outputs": [
        {
          "output_type": "execute_result",
          "data": {
            "text/plain": [
              "Company_A Company_B              331\n",
              "Company_A                        218\n",
              "Company_B                        191\n",
              "Company_A Company_B Company_C     25\n",
              "Company_A Company_C               23\n",
              "Company_B Company_C               23\n",
              "Company_C                         14\n",
              "Name: mm_account_telco, dtype: int64"
            ]
          },
          "metadata": {},
          "execution_count": 27
        }
      ]
    },
    {
      "cell_type": "code",
      "metadata": {
        "colab": {
          "base_uri": "https://localhost:8080/"
        },
        "id": "623ymmlDaNUQ",
        "outputId": "168c67d0-210e-4c63-cf7d-4da77a34be7a"
      },
      "source": [
        "dataset_1.isnull().sum()"
      ],
      "execution_count": null,
      "outputs": [
        {
          "output_type": "execute_result",
          "data": {
            "text/plain": [
              "start_time                    0\n",
              "end_time                      0\n",
              "hhid                          0\n",
              "account_num                   0\n",
              "account_type                  0\n",
              "weight                        0\n",
              "district                      0\n",
              "urban                         0\n",
              "gender                        0\n",
              "age                           0\n",
              "hh_members                    0\n",
              "highest_grade_completed     131\n",
              "mm_account_cancelled          0\n",
              "prefer_cash                  26\n",
              "mm_trust                     92\n",
              "mm_account_telco            380\n",
              "mm_account_telco_main       800\n",
              "v234                        429\n",
              "agent_trust                 499\n",
              "v236                        943\n",
              "v237                        228\n",
              "v238                        222\n",
              "v240                        222\n",
              "v241                        254\n",
              "v242                        263\n",
              "v243                        228\n",
              "v244                        952\n",
              "v245                        228\n",
              "v246                        222\n",
              "account_type_index            0\n",
              "tmp_idx                       0\n",
              "account_type_0                0\n",
              "account_type_1              427\n",
              "account_type_2              828\n",
              "account_type_3             1125\n",
              "account_type_4             1203\n",
              "financially_excluded          0\n",
              "digital_inclusion             0\n",
              "dtype: int64"
            ]
          },
          "metadata": {},
          "execution_count": 17
        }
      ]
    },
    {
      "cell_type": "code",
      "metadata": {
        "colab": {
          "base_uri": "https://localhost:8080/"
        },
        "id": "7nr-TMqlbcO4",
        "outputId": "481f8d3b-00bd-4837-af86-3b80a5cafc68"
      },
      "source": [
        "dataset_1.v234.value_counts()"
      ],
      "execution_count": null,
      "outputs": [
        {
          "output_type": "execute_result",
          "data": {
            "text/plain": [
              "yes    591\n",
              "no     177\n",
              "-97      8\n",
              "Name: v234, dtype: int64"
            ]
          },
          "metadata": {},
          "execution_count": 29
        }
      ]
    },
    {
      "cell_type": "code",
      "metadata": {
        "colab": {
          "base_uri": "https://localhost:8080/"
        },
        "id": "CB45P_G0buYW",
        "outputId": "235cbac6-fc9b-424a-b254-3f1566810fb3"
      },
      "source": [
        "dataset_1.v234.isnull().sum()"
      ],
      "execution_count": null,
      "outputs": [
        {
          "output_type": "execute_result",
          "data": {
            "text/plain": [
              "429"
            ]
          },
          "metadata": {},
          "execution_count": 32
        }
      ]
    },
    {
      "cell_type": "code",
      "metadata": {
        "id": "ZI15pKKJ26sX",
        "colab": {
          "base_uri": "https://localhost:8080/"
        },
        "outputId": "dadd478d-61f7-4375-84af-114ebae23e33"
      },
      "source": [
        "dataset_1.info()"
      ],
      "execution_count": null,
      "outputs": [
        {
          "output_type": "stream",
          "name": "stdout",
          "text": [
            "<class 'pandas.core.frame.DataFrame'>\n",
            "Int64Index: 1205 entries, 0 to 2438\n",
            "Data columns (total 38 columns):\n",
            " #   Column                   Non-Null Count  Dtype  \n",
            "---  ------                   --------------  -----  \n",
            " 0   start_time               1205 non-null   object \n",
            " 1   end_time                 1205 non-null   object \n",
            " 2   hhid                     1205 non-null   int64  \n",
            " 3   account_num              1205 non-null   int64  \n",
            " 4   account_type             1205 non-null   object \n",
            " 5   weight                   1205 non-null   float64\n",
            " 6   district                 1205 non-null   object \n",
            " 7   urban                    1205 non-null   object \n",
            " 8   gender                   1205 non-null   object \n",
            " 9   age                      1205 non-null   int64  \n",
            " 10  hh_members               1205 non-null   int64  \n",
            " 11  highest_grade_completed  1074 non-null   object \n",
            " 12  mm_account_cancelled     1205 non-null   object \n",
            " 13  prefer_cash              1179 non-null   object \n",
            " 14  mm_trust                 1113 non-null   object \n",
            " 15  mm_account_telco         825 non-null    object \n",
            " 16  mm_account_telco_main    405 non-null    object \n",
            " 17  v234                     776 non-null    object \n",
            " 18  agent_trust              706 non-null    object \n",
            " 19  v236                     262 non-null    object \n",
            " 20  v237                     977 non-null    object \n",
            " 21  v238                     983 non-null    object \n",
            " 22  v240                     1205 non-null   object \n",
            " 23  v241                     951 non-null    object \n",
            " 24  v242                     942 non-null    object \n",
            " 25  v243                     977 non-null    object \n",
            " 26  v244                     253 non-null    object \n",
            " 27  v245                     977 non-null    object \n",
            " 28  v246                     983 non-null    object \n",
            " 29  account_type_index       1205 non-null   int64  \n",
            " 30  tmp_idx                  1205 non-null   object \n",
            " 31  account_type_0           1205 non-null   object \n",
            " 32  account_type_1           778 non-null    object \n",
            " 33  account_type_2           377 non-null    object \n",
            " 34  account_type_3           80 non-null     object \n",
            " 35  account_type_4           2 non-null      object \n",
            " 36  financially_excluded     1205 non-null   int64  \n",
            " 37  digital_inclusion        1205 non-null   int64  \n",
            "dtypes: float64(1), int64(7), object(30)\n",
            "memory usage: 367.1+ KB\n"
          ]
        }
      ]
    },
    {
      "cell_type": "code",
      "metadata": {
        "colab": {
          "base_uri": "https://localhost:8080/"
        },
        "id": "blgQaPrNbiDy",
        "outputId": "d38268fc-7478-4584-9069-214c6d0a8645"
      },
      "source": [
        "dataset_1.highest_grade_completed.value_counts()"
      ],
      "execution_count": null,
      "outputs": [
        {
          "output_type": "execute_result",
          "data": {
            "text/plain": [
              "primary 6      319\n",
              "secondary 6    105\n",
              "primary 5      101\n",
              "primary 4      100\n",
              "primary 3       94\n",
              "university      72\n",
              "primary 2       65\n",
              "secondary 3     60\n",
              "secondary 2     36\n",
              "primary 1       27\n",
              "secondary 4     25\n",
              "tvet            25\n",
              "secondary 1     19\n",
              "secondary 5     19\n",
              "other            7\n",
              "Name: highest_grade_completed, dtype: int64"
            ]
          },
          "metadata": {},
          "execution_count": 23
        }
      ]
    },
    {
      "cell_type": "code",
      "metadata": {
        "id": "NSWwrOnxgYr-"
      },
      "source": [
        "#print(dataset_1.pivot(index='highest_grade_completed',columns='account_type_0')[['account_type_index']])"
      ],
      "execution_count": null,
      "outputs": []
    },
    {
      "cell_type": "code",
      "metadata": {
        "id": "meUXa2wziQPL"
      },
      "source": [
        "#pd.pivot_table(dataset_1, index =[\"highest_grade_completed\"])"
      ],
      "execution_count": null,
      "outputs": []
    },
    {
      "cell_type": "code",
      "metadata": {
        "colab": {
          "base_uri": "https://localhost:8080/"
        },
        "id": "ZvSxCkm1i_Wv",
        "outputId": "8172ef91-020f-4e0f-fd92-b9ef38975632"
      },
      "source": [
        "dataset_1.groupby([\"highest_grade_completed\", \"financially_excluded\"]).size()"
      ],
      "execution_count": null,
      "outputs": [
        {
          "output_type": "execute_result",
          "data": {
            "text/plain": [
              "highest_grade_completed  financially_excluded\n",
              "other                    0                         6\n",
              "                         1                         1\n",
              "primary 1                0                        20\n",
              "                         1                         7\n",
              "primary 2                0                        56\n",
              "                         1                         9\n",
              "primary 3                0                        79\n",
              "                         1                        15\n",
              "primary 4                0                        86\n",
              "                         1                        14\n",
              "primary 5                0                        90\n",
              "                         1                        11\n",
              "primary 6                0                       295\n",
              "                         1                        24\n",
              "secondary 1              0                        18\n",
              "                         1                         1\n",
              "secondary 2              0                        32\n",
              "                         1                         4\n",
              "secondary 3              0                        55\n",
              "                         1                         5\n",
              "secondary 4              0                        21\n",
              "                         1                         4\n",
              "secondary 5              0                        18\n",
              "                         1                         1\n",
              "secondary 6              0                        99\n",
              "                         1                         6\n",
              "tvet                     0                        23\n",
              "                         1                         2\n",
              "university               0                        72\n",
              "dtype: int64"
            ]
          },
          "metadata": {},
          "execution_count": 47
        }
      ]
    },
    {
      "cell_type": "markdown",
      "metadata": {
        "id": "j6h4LDrmvgH6"
      },
      "source": [
        "The following distribution shows us that the more educated the people, the more they become digital included. "
      ]
    },
    {
      "cell_type": "code",
      "metadata": {
        "colab": {
          "base_uri": "https://localhost:8080/"
        },
        "id": "sH7ycl9guZf2",
        "outputId": "3189f039-905d-4355-9152-593b3bae367e"
      },
      "source": [
        "dataset_1.groupby([\"highest_grade_completed\", \"digital_inclusion\"]).size()"
      ],
      "execution_count": null,
      "outputs": [
        {
          "output_type": "execute_result",
          "data": {
            "text/plain": [
              "highest_grade_completed  digital_inclusion\n",
              "other                    0                      3\n",
              "                         1                      4\n",
              "primary 1                0                     14\n",
              "                         1                     13\n",
              "primary 2                0                     33\n",
              "                         1                     32\n",
              "primary 3                0                     39\n",
              "                         1                     55\n",
              "primary 4                0                     39\n",
              "                         1                     61\n",
              "primary 5                0                     28\n",
              "                         1                     73\n",
              "primary 6                0                     92\n",
              "                         1                    227\n",
              "secondary 1              0                      4\n",
              "                         1                     15\n",
              "secondary 2              0                      9\n",
              "                         1                     27\n",
              "secondary 3              0                      9\n",
              "                         1                     51\n",
              "secondary 4              0                      6\n",
              "                         1                     19\n",
              "secondary 5              0                      2\n",
              "                         1                     17\n",
              "secondary 6              0                      7\n",
              "                         1                     98\n",
              "tvet                     0                      3\n",
              "                         1                     22\n",
              "university               0                      1\n",
              "                         1                     71\n",
              "dtype: int64"
            ]
          },
          "metadata": {},
          "execution_count": 49
        }
      ]
    },
    {
      "cell_type": "code",
      "metadata": {
        "colab": {
          "base_uri": "https://localhost:8080/"
        },
        "id": "Bc5DQ1OKv0hS",
        "outputId": "482d2997-2f35-4bdb-9abe-168f6660269c"
      },
      "source": [
        "dataset_1.highest_grade_completed.value_counts(normalize= True)"
      ],
      "execution_count": null,
      "outputs": [
        {
          "output_type": "execute_result",
          "data": {
            "text/plain": [
              "primary 6      0.297020\n",
              "secondary 6    0.097765\n",
              "primary 5      0.094041\n",
              "primary 4      0.093110\n",
              "primary 3      0.087523\n",
              "university     0.067039\n",
              "primary 2      0.060521\n",
              "secondary 3    0.055866\n",
              "secondary 2    0.033520\n",
              "primary 1      0.025140\n",
              "secondary 4    0.023277\n",
              "tvet           0.023277\n",
              "secondary 1    0.017691\n",
              "secondary 5    0.017691\n",
              "other          0.006518\n",
              "Name: highest_grade_completed, dtype: float64"
            ]
          },
          "metadata": {},
          "execution_count": 50
        }
      ]
    },
    {
      "cell_type": "markdown",
      "metadata": {
        "id": "gVylIQxP85hi"
      },
      "source": [
        "It also can be seen that among the non-digital included users there have been 50% 50% chances to cancel a mobile money account. It may be worth to explore other demographic variables like urban\n"
      ]
    },
    {
      "cell_type": "code",
      "metadata": {
        "colab": {
          "base_uri": "https://localhost:8080/"
        },
        "id": "-TOBgc1zxCgj",
        "outputId": "2fed71fc-6377-44b4-c80f-db77ebf508e0"
      },
      "source": [
        "dataset_1.groupby([\"digital_inclusion\",\"mm_account_cancelled\"]).size()"
      ],
      "execution_count": null,
      "outputs": [
        {
          "output_type": "execute_result",
          "data": {
            "text/plain": [
              "digital_inclusion  mm_account_cancelled\n",
              "0                  no                      199\n",
              "                   yes                     179\n",
              "1                  no                      827\n",
              "dtype: int64"
            ]
          },
          "metadata": {},
          "execution_count": 53
        }
      ]
    },
    {
      "cell_type": "code",
      "metadata": {
        "id": "vb_z0cTp-byo"
      },
      "source": [
        ""
      ],
      "execution_count": null,
      "outputs": []
    },
    {
      "cell_type": "code",
      "metadata": {
        "colab": {
          "base_uri": "https://localhost:8080/",
          "height": 158
        },
        "id": "h_NmiBTQy6nz",
        "outputId": "98495f7f-d3c5-4c72-b0da-33ff65fc2b90"
      },
      "source": [
        "#print(dataset_1.pivot(index='digital_inclusion', columns='mm_account_cancelled'))\n",
        "pd.pivot_table(dataset_1, values = None, index=['digital_inclusion'], columns = 'mm_account_cancelled').reset_index()"
      ],
      "execution_count": null,
      "outputs": [
        {
          "output_type": "execute_result",
          "data": {
            "text/html": [
              "<div>\n",
              "<style scoped>\n",
              "    .dataframe tbody tr th:only-of-type {\n",
              "        vertical-align: middle;\n",
              "    }\n",
              "\n",
              "    .dataframe tbody tr th {\n",
              "        vertical-align: top;\n",
              "    }\n",
              "\n",
              "    .dataframe thead tr th {\n",
              "        text-align: left;\n",
              "    }\n",
              "</style>\n",
              "<table border=\"1\" class=\"dataframe\">\n",
              "  <thead>\n",
              "    <tr>\n",
              "      <th></th>\n",
              "      <th>digital_inclusion</th>\n",
              "      <th colspan=\"2\" halign=\"left\">account_num</th>\n",
              "      <th colspan=\"2\" halign=\"left\">account_type_index</th>\n",
              "      <th colspan=\"2\" halign=\"left\">age</th>\n",
              "      <th colspan=\"2\" halign=\"left\">financially_excluded</th>\n",
              "      <th colspan=\"2\" halign=\"left\">hh_members</th>\n",
              "      <th colspan=\"2\" halign=\"left\">hhid</th>\n",
              "      <th colspan=\"2\" halign=\"left\">weight</th>\n",
              "    </tr>\n",
              "    <tr>\n",
              "      <th>mm_account_cancelled</th>\n",
              "      <th></th>\n",
              "      <th>no</th>\n",
              "      <th>yes</th>\n",
              "      <th>no</th>\n",
              "      <th>yes</th>\n",
              "      <th>no</th>\n",
              "      <th>yes</th>\n",
              "      <th>no</th>\n",
              "      <th>yes</th>\n",
              "      <th>no</th>\n",
              "      <th>yes</th>\n",
              "      <th>no</th>\n",
              "      <th>yes</th>\n",
              "      <th>no</th>\n",
              "      <th>yes</th>\n",
              "    </tr>\n",
              "  </thead>\n",
              "  <tbody>\n",
              "    <tr>\n",
              "      <th>0</th>\n",
              "      <td>0</td>\n",
              "      <td>1.0</td>\n",
              "      <td>1.0</td>\n",
              "      <td>0.0</td>\n",
              "      <td>0.0</td>\n",
              "      <td>42.552764</td>\n",
              "      <td>39.201117</td>\n",
              "      <td>0.396985</td>\n",
              "      <td>0.296089</td>\n",
              "      <td>4.502513</td>\n",
              "      <td>4.765363</td>\n",
              "      <td>1585.412060</td>\n",
              "      <td>1592.184358</td>\n",
              "      <td>769.934809</td>\n",
              "      <td>469.907987</td>\n",
              "    </tr>\n",
              "    <tr>\n",
              "      <th>1</th>\n",
              "      <td>1</td>\n",
              "      <td>1.0</td>\n",
              "      <td>NaN</td>\n",
              "      <td>0.0</td>\n",
              "      <td>NaN</td>\n",
              "      <td>36.383313</td>\n",
              "      <td>NaN</td>\n",
              "      <td>0.000000</td>\n",
              "      <td>NaN</td>\n",
              "      <td>4.719468</td>\n",
              "      <td>NaN</td>\n",
              "      <td>1609.573156</td>\n",
              "      <td>NaN</td>\n",
              "      <td>355.787488</td>\n",
              "      <td>NaN</td>\n",
              "    </tr>\n",
              "  </tbody>\n",
              "</table>\n",
              "</div>"
            ],
            "text/plain": [
              "                     digital_inclusion account_num  ...      weight            \n",
              "mm_account_cancelled                            no  ...          no         yes\n",
              "0                                    0         1.0  ...  769.934809  469.907987\n",
              "1                                    1         1.0  ...  355.787488         NaN\n",
              "\n",
              "[2 rows x 15 columns]"
            ]
          },
          "metadata": {},
          "execution_count": 60
        }
      ]
    },
    {
      "cell_type": "code",
      "metadata": {
        "colab": {
          "base_uri": "https://localhost:8080/"
        },
        "id": "mvvTSa1X-Szx",
        "outputId": "36b09bb1-e2ae-4cc6-c39c-c0338ad60edc"
      },
      "source": [
        "dataset_1.urban.value_counts()"
      ],
      "execution_count": null,
      "outputs": [
        {
          "output_type": "execute_result",
          "data": {
            "text/plain": [
              "Rural    940\n",
              "Urban    265\n",
              "Name: urban, dtype: int64"
            ]
          },
          "metadata": {},
          "execution_count": 19
        }
      ]
    },
    {
      "cell_type": "markdown",
      "metadata": {
        "id": "HJRfVXAa_2qn"
      },
      "source": [
        "Given the information belo, by conducting some descriptives, we can see that there is a 0.17 percentage of people that have cancelled their mobile money account in the rural area compared to the 0.06% that have cancelled their mobile money account in the urban area."
      ]
    },
    {
      "cell_type": "code",
      "metadata": {
        "colab": {
          "base_uri": "https://localhost:8080/"
        },
        "id": "M0BU7e5o-lL0",
        "outputId": "67bfb311-570f-4105-dcc1-b517681c0451"
      },
      "source": [
        "dataset_1.groupby([\"mm_account_cancelled\", \"urban\"]).size()"
      ],
      "execution_count": null,
      "outputs": [
        {
          "output_type": "execute_result",
          "data": {
            "text/plain": [
              "mm_account_cancelled  urban\n",
              "no                    Rural    777\n",
              "                      Urban    249\n",
              "yes                   Rural    163\n",
              "                      Urban     16\n",
              "dtype: int64"
            ]
          },
          "metadata": {},
          "execution_count": 18
        }
      ]
    },
    {
      "cell_type": "code",
      "metadata": {
        "colab": {
          "base_uri": "https://localhost:8080/"
        },
        "id": "x-vsvJFRYChm",
        "outputId": "4cd15503-cd0e-4b4d-d9c1-9133b9b110ad"
      },
      "source": [
        "222/1205"
      ],
      "execution_count": null,
      "outputs": [
        {
          "output_type": "execute_result",
          "data": {
            "text/plain": [
              "0.18423236514522823"
            ]
          },
          "metadata": {},
          "execution_count": 19
        }
      ]
    },
    {
      "cell_type": "code",
      "metadata": {
        "colab": {
          "base_uri": "https://localhost:8080/"
        },
        "id": "hT4_-UECZkx5",
        "outputId": "b9952319-fd32-47ba-c024-a208b6236154"
      },
      "source": [
        "print('Percent of missing \"v240\" records is %.2f%%' %((dataset_1['v240'].isnull().sum()/dataset_1.shape[0])*100))"
      ],
      "execution_count": null,
      "outputs": [
        {
          "output_type": "stream",
          "name": "stdout",
          "text": [
            "Percent of missing \"v240\" records is 0.00%\n"
          ]
        }
      ]
    },
    {
      "cell_type": "code",
      "metadata": {
        "colab": {
          "base_uri": "https://localhost:8080/",
          "height": 345
        },
        "id": "PYBImQWuZ5Ff",
        "outputId": "12f5ebb0-0106-4a4e-8601-2958a30141f5"
      },
      "source": [
        "print('Have a transaction ever failed to go through (yes: 1 or not :0')\n",
        "print(dataset_1['v240'].value_counts(normalize = True))\n",
        "sns.countplot(x='v240', data=dataset_1, palette='Set2')\n",
        "plt.show()"
      ],
      "execution_count": null,
      "outputs": [
        {
          "output_type": "stream",
          "name": "stdout",
          "text": [
            "Have a transaction ever failed to go through (yes: 1 or not :0\n",
            "no     0.80083\n",
            "yes    0.19917\n",
            "Name: v240, dtype: float64\n"
          ]
        },
        {
          "output_type": "display_data",
          "data": {
            "image/png": "[encoded data removed]",
            "text/plain": [
              "<Figure size 432x288 with 1 Axes>"
            ]
          },
          "metadata": {
            "needs_background": "light"
          }
        }
      ]
    },
    {
      "cell_type": "code",
      "metadata": {
        "colab": {
          "base_uri": "https://localhost:8080/"
        },
        "id": "bQgzeHXWeAQi",
        "outputId": "a03b457d-f52a-4d58-c51c-f48fe8784bcc"
      },
      "source": [
        "dataset_1[\"v240\"].fillna(dataset_1['v240'].value_counts().idxmax(), inplace=True)"
      ],
      "execution_count": 14,
      "outputs": [
        {
          "output_type": "stream",
          "name": "stderr",
          "text": [
            "/usr/local/lib/python3.7/dist-packages/pandas/core/series.py:4536: SettingWithCopyWarning: \n",
            "A value is trying to be set on a copy of a slice from a DataFrame\n",
            "\n",
            "See the caveats in the documentation: https://pandas.pydata.org/pandas-docs/stable/user_guide/indexing.html#returning-a-view-versus-a-copy\n",
            "  downcast=downcast,\n"
          ]
        }
      ]
    },
    {
      "cell_type": "markdown",
      "metadata": {
        "id": "Icss-yCahF-A"
      },
      "source": [
        "Continuing the exploration of variables and their relationship among them, there is something that is worth exploring: whether the population is either urban or rural and if they ever experiended a crashed transaction via the mobile money account. Before seeing some pattern, v240 (crashed transaction) has missing values. I chose to impute given the max value into the variables. \n",
        "\n",
        "After doing that, I realized that 65% of the population that said that their transactions failed in the past are from the rural area. It may be worth it to explore if there is something in the system that make this users experience this failure.\n"
      ]
    },
    {
      "cell_type": "code",
      "metadata": {
        "colab": {
          "base_uri": "https://localhost:8080/"
        },
        "id": "EkqclDeveQYC",
        "outputId": "d9c884dd-7f47-48e6-fecf-3f9789a5ab93"
      },
      "source": [
        "print('Have a transaction ever failed to go through (yes: 1 or not :0')\n",
        "dataset_1.groupby([\"v240\", \"urban\"]).size()"
      ],
      "execution_count": null,
      "outputs": [
        {
          "output_type": "stream",
          "name": "stdout",
          "text": [
            "Have a transaction ever failed to go through (yes: 1 or not :0\n"
          ]
        },
        {
          "output_type": "execute_result",
          "data": {
            "text/plain": [
              "v240  urban\n",
              "no    Rural    785\n",
              "      Urban    180\n",
              "yes   Rural    155\n",
              "      Urban     85\n",
              "dtype: int64"
            ]
          },
          "metadata": {},
          "execution_count": 24
        }
      ]
    },
    {
      "cell_type": "code",
      "metadata": {
        "colab": {
          "base_uri": "https://localhost:8080/"
        },
        "id": "uTylrcQ2j0sC",
        "outputId": "914b4f4d-6b13-4b38-d430-fddefde902de"
      },
      "source": [
        "dataset_1.groupby([\"digital_inclusion\", \"urban\"]).size()"
      ],
      "execution_count": null,
      "outputs": [
        {
          "output_type": "execute_result",
          "data": {
            "text/plain": [
              "digital_inclusion  urban\n",
              "0                  Rural    339\n",
              "                   Urban     39\n",
              "1                  Rural    601\n",
              "                   Urban    226\n",
              "dtype: int64"
            ]
          },
          "metadata": {},
          "execution_count": 29
        }
      ]
    },
    {
      "cell_type": "code",
      "metadata": {
        "colab": {
          "base_uri": "https://localhost:8080/",
          "height": 297
        },
        "id": "LGqyA6dxkjLi",
        "outputId": "dca9cdf0-701b-4c75-b01c-f4c982a883f7"
      },
      "source": [
        "sns.countplot(x=\"urban\", hue=\"digital_inclusion\", data=dataset_1)\n",
        "plt.xticks(plt.xticks()[0], rotation=90)\n",
        "plt.tight_layout()\n",
        "plt.show()"
      ],
      "execution_count": null,
      "outputs": [
        {
          "output_type": "display_data",
          "data": {
            "image/png": "[encoded data removed]",
            "text/plain": [
              "<Figure size 432x288 with 1 Axes>"
            ]
          },
          "metadata": {
            "needs_background": "light"
          }
        }
      ]
    },
    {
      "cell_type": "code",
      "metadata": {
        "colab": {
          "base_uri": "https://localhost:8080/"
        },
        "id": "FPKJpU_lkWIq",
        "outputId": "7973043d-7aa2-40a4-8618-6af0600f052d"
      },
      "source": [
        "dataset_1.groupby([\"digital_inclusion\", \"gender\"]).size()"
      ],
      "execution_count": null,
      "outputs": [
        {
          "output_type": "execute_result",
          "data": {
            "text/plain": [
              "digital_inclusion  gender\n",
              "0                  female    270\n",
              "                   male      108\n",
              "1                  female    425\n",
              "                   male      402\n",
              "dtype: int64"
            ]
          },
          "metadata": {},
          "execution_count": 31
        }
      ]
    },
    {
      "cell_type": "markdown",
      "metadata": {
        "id": "KkeWfZDJm1wK"
      },
      "source": [
        ""
      ]
    },
    {
      "cell_type": "code",
      "metadata": {
        "colab": {
          "base_uri": "https://localhost:8080/",
          "height": 297
        },
        "id": "YxJYfe_cljer",
        "outputId": "342b66d4-6d1d-48ff-a97a-2ab1a8ff5333"
      },
      "source": [
        "sns.countplot(x=\"digital_inclusion\", hue=\"gender\", data=dataset_1)\n",
        "plt.xticks(plt.xticks()[0], rotation=90)\n",
        "plt.tight_layout()\n",
        "plt.show()"
      ],
      "execution_count": null,
      "outputs": [
        {
          "output_type": "display_data",
          "data": {
            "image/png": "[encoded data removed]",
            "text/plain": [
              "<Figure size 432x288 with 1 Axes>"
            ]
          },
          "metadata": {
            "needs_background": "light"
          }
        }
      ]
    },
    {
      "cell_type": "code",
      "metadata": {
        "colab": {
          "base_uri": "https://localhost:8080/",
          "height": 297
        },
        "id": "4vzrhc_QgcXA",
        "outputId": "5d806376-13e1-4477-de03-7238ac43423f"
      },
      "source": [
        "sns.countplot(x=\"urban\", hue=\"v240\", data=dataset_1)\n",
        "plt.xticks(plt.xticks()[0], rotation=90)\n",
        "plt.tight_layout()\n",
        "plt.show()"
      ],
      "execution_count": null,
      "outputs": [
        {
          "output_type": "display_data",
          "data": {
            "image/png": "[encoded data removed]",
            "text/plain": [
              "<Figure size 432x288 with 1 Axes>"
            ]
          },
          "metadata": {
            "needs_background": "light"
          }
        }
      ]
    },
    {
      "cell_type": "code",
      "metadata": {
        "colab": {
          "base_uri": "https://localhost:8080/",
          "height": 278
        },
        "id": "zWrnasFPqB0H",
        "outputId": "7a82284e-e8b6-48e7-92fc-b325d7fef158"
      },
      "source": [
        "\n",
        "ax = dataset_1[\"age\"].hist(bins=15, density=True, stacked=True, color='teal', alpha=0.6)\n",
        "dataset_1[\"age\"].plot(kind='density', color='teal')\n",
        "ax.set(xlabel='age')\n",
        "plt.xlim(-10,85)\n",
        "plt.show()"
      ],
      "execution_count": null,
      "outputs": [
        {
          "output_type": "display_data",
          "data": {
            "image/png": "[encoded data removed]",
            "text/plain": [
              "<Figure size 432x288 with 1 Axes>"
            ]
          },
          "metadata": {
            "needs_background": "light"
          }
        }
      ]
    },
    {
      "cell_type": "markdown",
      "metadata": {
        "id": "YcfdFzpwsaXL"
      },
      "source": [
        "**Exploration of Age**"
      ]
    },
    {
      "cell_type": "code",
      "metadata": {
        "colab": {
          "base_uri": "https://localhost:8080/",
          "height": 512
        },
        "id": "si1HTOalsZGV",
        "outputId": "87afec67-2b92-4a0c-f1a3-3c4cfa2f85ea"
      },
      "source": [
        "plt.figure(figsize=(15,8))\n",
        "ax = sns.kdeplot(dataset_1[\"age\"][dataset_1.digital_inclusion == 1], color=\"darkturquoise\", shade=True)\n",
        "sns.kdeplot(dataset_1[\"age\"][dataset_1.digital_inclusion == 0], color=\"lightcoral\", shade=True)\n",
        "plt.legend(['Included', 'Not included'])\n",
        "plt.title('Density Plot of Age for Digital included and not digitally included Population')\n",
        "ax.set(xlabel='age')\n",
        "plt.xlim(-10,85)\n",
        "plt.show()"
      ],
      "execution_count": null,
      "outputs": [
        {
          "output_type": "display_data",
          "data": {
            "image/png": "[encoded data removed]",
            "text/plain": [
              "<Figure size 1080x576 with 1 Axes>"
            ]
          },
          "metadata": {
            "needs_background": "light"
          }
        }
      ]
    },
    {
      "cell_type": "code",
      "metadata": {
        "colab": {
          "base_uri": "https://localhost:8080/",
          "height": 512
        },
        "id": "h4-8S-SMtvu7",
        "outputId": "98353c08-22c9-49fe-b092-62e073ffbddf"
      },
      "source": [
        "plt.figure(figsize=(15,8))\n",
        "ax = sns.kdeplot(dataset_1[\"age\"][dataset_1.financially_excluded == 1], color=\"darkturquoise\", shade=True)\n",
        "sns.kdeplot(dataset_1[\"age\"][dataset_1.financially_excluded == 0], color=\"lightcoral\", shade=True)\n",
        "plt.legend(['Excluded', 'Not excluded'])\n",
        "plt.title('Density Plot of Age for Financially excluded and not financially excluded Population')\n",
        "ax.set(xlabel='age')\n",
        "plt.xlim(-10,85)\n",
        "plt.show()"
      ],
      "execution_count": null,
      "outputs": [
        {
          "output_type": "display_data",
          "data": {
            "image/png": "[encoded data removed]",
            "text/plain": [
              "<Figure size 1080x576 with 1 Axes>"
            ]
          },
          "metadata": {
            "needs_background": "light"
          }
        }
      ]
    },
    {
      "cell_type": "markdown",
      "metadata": {
        "id": "NOyyLzO1DO9N"
      },
      "source": [
        "Besides, age, number of houselhold members is another continous variable that may have an impact in whether a person is financially excluded or not. Surprisingly, there is no difference in terms of proportion of people regarding the number of households. "
      ]
    },
    {
      "cell_type": "code",
      "metadata": {
        "colab": {
          "base_uri": "https://localhost:8080/"
        },
        "id": "bmOQsAt3vBkw",
        "outputId": "511affcc-60aa-4b99-8a59-a28c3a56c2b0"
      },
      "source": [
        "dataset_1.hh_members.value_counts()"
      ],
      "execution_count": null,
      "outputs": [
        {
          "output_type": "execute_result",
          "data": {
            "text/plain": [
              "5     250\n",
              "4     249\n",
              "3     193\n",
              "6     162\n",
              "2     114\n",
              "7     103\n",
              "8      51\n",
              "1      37\n",
              "9      25\n",
              "11      8\n",
              "10      8\n",
              "13      2\n",
              "12      2\n",
              "18      1\n",
              "Name: hh_members, dtype: int64"
            ]
          },
          "metadata": {},
          "execution_count": 46
        }
      ]
    },
    {
      "cell_type": "code",
      "metadata": {
        "colab": {
          "base_uri": "https://localhost:8080/",
          "height": 513
        },
        "id": "37gr6CravUL-",
        "outputId": "1a8867af-81fa-46b9-e0e6-ecc6a21857c4"
      },
      "source": [
        "plt.figure(figsize=(15,8))\n",
        "ax = sns.kdeplot(dataset_1[\"hh_members\"][dataset_1.digital_inclusion == 1], color=\"darkturquoise\", shade=True)\n",
        "sns.kdeplot(dataset_1[\"hh_members\"][dataset_1.digital_inclusion == 0], color=\"lightcoral\", shade=True)\n",
        "plt.legend(['Included', 'Not included'])\n",
        "plt.title('Density Plot of household members for digital included and not digital included Population')\n",
        "ax.set(xlabel='hh_members')\n",
        "plt.xlim(-10,85)\n",
        "plt.show()"
      ],
      "execution_count": null,
      "outputs": [
        {
          "output_type": "display_data",
          "data": {
            "image/png": "[encoded data removed]",
            "text/plain": [
              "<Figure size 1080x576 with 1 Axes>"
            ]
          },
          "metadata": {
            "needs_background": "light"
          }
        }
      ]
    },
    {
      "cell_type": "code",
      "metadata": {
        "colab": {
          "base_uri": "https://localhost:8080/",
          "height": 513
        },
        "id": "T79fo3dS_H-v",
        "outputId": "d131a313-1457-44c7-d856-03e75a4424d1"
      },
      "source": [
        "plt.figure(figsize=(15,8))\n",
        "ax = sns.kdeplot(dataset_1[\"hh_members\"][dataset_1.financially_excluded == 1], color=\"darkturquoise\", shade=True)\n",
        "sns.kdeplot(dataset_1[\"hh_members\"][dataset_1.financially_excluded == 0], color=\"lightcoral\", shade=True)\n",
        "plt.legend(['Excluded', 'Included'])\n",
        "plt.title('Density Plot of household members for financial excluded and not excluded Population')\n",
        "ax.set(xlabel='hh_members')\n",
        "plt.xlim(-10,85)\n",
        "plt.show()"
      ],
      "execution_count": null,
      "outputs": [
        {
          "output_type": "display_data",
          "data": {
            "image/png": "[encoded data removed]",
            "text/plain": [
              "<Figure size 1080x576 with 1 Axes>"
            ]
          },
          "metadata": {
            "needs_background": "light"
          }
        }
      ]
    },
    {
      "cell_type": "markdown",
      "metadata": {
        "id": "WSFgYjozFy3n"
      },
      "source": [
        "***Question 4 ***asks for finding statistical differences in the share of customers who have experienced failed mobile money transactions in rural and urban villages. For that we need first to load packages and later, doing some data transformation for establishing the different groups to compare. "
      ]
    },
    {
      "cell_type": "code",
      "metadata": {
        "id": "LmFrkOeAFnZi"
      },
      "source": [
        "from scipy.stats import ttest_ind #to run the t-test for independent samples\n",
        "from scipy import stats\n",
        "from scipy.stats import spearmanr #to run spearman"
      ],
      "execution_count": 15,
      "outputs": []
    },
    {
      "cell_type": "code",
      "metadata": {
        "id": "aFQA2ihzI_nh"
      },
      "source": [
        "#dataset_1[dataset_1['v240'].notna()]"
      ],
      "execution_count": null,
      "outputs": []
    },
    {
      "cell_type": "code",
      "metadata": {
        "colab": {
          "base_uri": "https://localhost:8080/"
        },
        "id": "OYjaCSZDJK1X",
        "outputId": "93d6f930-9863-44ac-d65e-8590c01c8b37"
      },
      "source": [
        "dataset_1.v240.value_counts(normalize=True)"
      ],
      "execution_count": null,
      "outputs": [
        {
          "output_type": "execute_result",
          "data": {
            "text/plain": [
              "no     0.755849\n",
              "yes    0.244151\n",
              "Name: v240, dtype: float64"
            ]
          },
          "metadata": {},
          "execution_count": 26
        }
      ]
    },
    {
      "cell_type": "code",
      "metadata": {
        "colab": {
          "base_uri": "https://localhost:8080/"
        },
        "id": "J7mjhVMrJTZw",
        "outputId": "2a213661-2bef-42da-a546-6236c0b2395a"
      },
      "source": [
        "dataset_1.urban.value_counts()"
      ],
      "execution_count": null,
      "outputs": [
        {
          "output_type": "execute_result",
          "data": {
            "text/plain": [
              "Rural    940\n",
              "Urban    265\n",
              "Name: urban, dtype: int64"
            ]
          },
          "metadata": {},
          "execution_count": 27
        }
      ]
    },
    {
      "cell_type": "code",
      "metadata": {
        "colab": {
          "base_uri": "https://localhost:8080/"
        },
        "id": "8efnF3WTJYiX",
        "outputId": "edeaeef6-c86a-440d-ae8f-13aa436646f3"
      },
      "source": [
        "dataset_1[\"urban\"] = dataset_1[\"urban\"].map({\"Urban\":1, \"Rural\":0})"
      ],
      "execution_count": 16,
      "outputs": [
        {
          "output_type": "stream",
          "name": "stderr",
          "text": [
            "/usr/local/lib/python3.7/dist-packages/ipykernel_launcher.py:1: SettingWithCopyWarning: \n",
            "A value is trying to be set on a copy of a slice from a DataFrame.\n",
            "Try using .loc[row_indexer,col_indexer] = value instead\n",
            "\n",
            "See the caveats in the documentation: https://pandas.pydata.org/pandas-docs/stable/user_guide/indexing.html#returning-a-view-versus-a-copy\n",
            "  \"\"\"Entry point for launching an IPython kernel.\n"
          ]
        }
      ]
    },
    {
      "cell_type": "code",
      "metadata": {
        "colab": {
          "base_uri": "https://localhost:8080/"
        },
        "id": "_NL0m18_rVps",
        "outputId": "aba958d4-68cb-488a-c166-adad3716340e"
      },
      "source": [
        "dataset_1.info()"
      ],
      "execution_count": null,
      "outputs": [
        {
          "output_type": "stream",
          "name": "stdout",
          "text": [
            "<class 'pandas.core.frame.DataFrame'>\n",
            "Int64Index: 1205 entries, 0 to 2438\n",
            "Data columns (total 38 columns):\n",
            " #   Column                   Non-Null Count  Dtype  \n",
            "---  ------                   --------------  -----  \n",
            " 0   start_time               1205 non-null   object \n",
            " 1   end_time                 1205 non-null   object \n",
            " 2   hhid                     1205 non-null   int64  \n",
            " 3   account_num              1205 non-null   int64  \n",
            " 4   account_type             1205 non-null   object \n",
            " 5   weight                   1205 non-null   float64\n",
            " 6   district                 1205 non-null   object \n",
            " 7   urban                    1205 non-null   int64  \n",
            " 8   gender                   1205 non-null   object \n",
            " 9   age                      1205 non-null   int64  \n",
            " 10  hh_members               1205 non-null   int64  \n",
            " 11  highest_grade_completed  1074 non-null   object \n",
            " 12  mm_account_cancelled     1205 non-null   object \n",
            " 13  prefer_cash              1179 non-null   object \n",
            " 14  mm_trust                 1113 non-null   object \n",
            " 15  mm_account_telco         825 non-null    object \n",
            " 16  mm_account_telco_main    405 non-null    object \n",
            " 17  v234                     776 non-null    object \n",
            " 18  agent_trust              706 non-null    object \n",
            " 19  v236                     262 non-null    object \n",
            " 20  v237                     977 non-null    object \n",
            " 21  v238                     983 non-null    object \n",
            " 22  v240                     1205 non-null   object \n",
            " 23  v241                     951 non-null    object \n",
            " 24  v242                     942 non-null    object \n",
            " 25  v243                     977 non-null    object \n",
            " 26  v244                     253 non-null    object \n",
            " 27  v245                     977 non-null    object \n",
            " 28  v246                     983 non-null    object \n",
            " 29  account_type_index       1205 non-null   int64  \n",
            " 30  tmp_idx                  1205 non-null   object \n",
            " 31  account_type_0           1205 non-null   object \n",
            " 32  account_type_1           778 non-null    object \n",
            " 33  account_type_2           377 non-null    object \n",
            " 34  account_type_3           80 non-null     object \n",
            " 35  account_type_4           2 non-null      object \n",
            " 36  financially_excluded     1205 non-null   int64  \n",
            " 37  digital_inclusion        1205 non-null   int64  \n",
            "dtypes: float64(1), int64(8), object(29)\n",
            "memory usage: 407.1+ KB\n"
          ]
        }
      ]
    },
    {
      "cell_type": "code",
      "metadata": {
        "colab": {
          "base_uri": "https://localhost:8080/"
        },
        "id": "9R-t13qOHyXr",
        "outputId": "09294c45-78dd-4e6b-fd32-73585e464abd"
      },
      "source": [
        "#df['Sex'] = df['Sex'].map({\"Female\": 0, \"Male\": 1})\n",
        "#dataset_1['urban'] = dataset_1['urban'].map({\"Rural\": 0, \"Urban\": 1})\n",
        "#df['Sex'] = df['Sex'].apply({'Male':1, 'Female': 0}.get)"
      ],
      "execution_count": null,
      "outputs": [
        {
          "output_type": "stream",
          "name": "stderr",
          "text": [
            "/usr/local/lib/python3.7/dist-packages/ipykernel_launcher.py:2: SettingWithCopyWarning: \n",
            "A value is trying to be set on a copy of a slice from a DataFrame.\n",
            "Try using .loc[row_indexer,col_indexer] = value instead\n",
            "\n",
            "See the caveats in the documentation: https://pandas.pydata.org/pandas-docs/stable/user_guide/indexing.html#returning-a-view-versus-a-copy\n",
            "  \n"
          ]
        }
      ]
    },
    {
      "cell_type": "code",
      "metadata": {
        "colab": {
          "base_uri": "https://localhost:8080/"
        },
        "id": "TZeed3z7Iwzt",
        "outputId": "57684e16-7140-4e37-facc-4ac4d2a01a6b"
      },
      "source": [
        "dataset_1[\"v240\"] = dataset_1[\"v240\"].map({\"no\":0, \"yes\":1})"
      ],
      "execution_count": 17,
      "outputs": [
        {
          "output_type": "stream",
          "name": "stderr",
          "text": [
            "/usr/local/lib/python3.7/dist-packages/ipykernel_launcher.py:1: SettingWithCopyWarning: \n",
            "A value is trying to be set on a copy of a slice from a DataFrame.\n",
            "Try using .loc[row_indexer,col_indexer] = value instead\n",
            "\n",
            "See the caveats in the documentation: https://pandas.pydata.org/pandas-docs/stable/user_guide/indexing.html#returning-a-view-versus-a-copy\n",
            "  \"\"\"Entry point for launching an IPython kernel.\n"
          ]
        }
      ]
    },
    {
      "cell_type": "code",
      "metadata": {
        "id": "5WoEhN-DH2bv"
      },
      "source": [
        "#Rural = dataset_1[dataset_1['urban']==0]\n",
        "#Urban = dataset_1[dataset_1['urban']==1]\n",
        "\n",
        "\n",
        "Rural = dataset_1[dataset_1['urban']==0]\n",
        "Urban = dataset_1[dataset_1['urban']==1]"
      ],
      "execution_count": 18,
      "outputs": []
    },
    {
      "cell_type": "markdown",
      "metadata": {
        "id": "JP5YiMyg-CZI"
      },
      "source": [
        "Once we have done all the preprocessing needed, we can compare the two independent groups (Rural vs Urban) given a possible failed mobile transaction. Given the result of the p-value, we can say that indeed, there is a statical difference (the p-value is less than 0.05) between rural vs urban areas regarding failed mobile transaction. Its is not the same experience for both groups, so there may be something to do about. I have previously ran a relationship between failed mobile transcation and region, having rural more crashes in this sense than urban, when they responded yes to crashes."
      ]
    },
    {
      "cell_type": "code",
      "metadata": {
        "colab": {
          "base_uri": "https://localhost:8080/"
        },
        "id": "qlZNIThpIHaz",
        "outputId": "22b63605-c374-462d-cd79-9e14ccd6d44a"
      },
      "source": [
        "#let's see if rural are more or less likely to v240 than urban\n",
        "ttest_ind(Rural['v240'], Urban['v240'], nan_policy='omit')"
      ],
      "execution_count": 19,
      "outputs": [
        {
          "output_type": "execute_result",
          "data": {
            "text/plain": [
              "Ttest_indResult(statistic=-5.681163093697762, pvalue=1.676651719854841e-08)"
            ]
          },
          "metadata": {},
          "execution_count": 19
        }
      ]
    },
    {
      "cell_type": "markdown",
      "metadata": {
        "id": "fJAt4XqP_Kqi"
      },
      "source": [
        ""
      ]
    },
    {
      "cell_type": "code",
      "metadata": {
        "id": "Vm4CEYl47l_N"
      },
      "source": [
        ""
      ],
      "execution_count": null,
      "outputs": []
    }
  ]
}